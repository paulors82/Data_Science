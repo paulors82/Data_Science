{
  "nbformat": 4,
  "nbformat_minor": 0,
  "metadata": {
    "colab": {
      "name": "Detecção de Fraude em Cartões de Crédito.ipynb",
      "provenance": [],
      "collapsed_sections": [
        "sC2BFMOKN1M7"
      ],
      "toc_visible": true,
      "include_colab_link": true
    },
    "kernelspec": {
      "name": "python3",
      "display_name": "Python 3"
    }
  },
  "cells": [
    {
      "cell_type": "markdown",
      "metadata": {
        "id": "view-in-github",
        "colab_type": "text"
      },
      "source": [
        "<a href=\"https://colab.research.google.com/github/paulors82/Data_Science/blob/main/Detec%C3%A7%C3%A3o_de_Fraude_em_Cart%C3%B5es_de_Cr%C3%A9dito.ipynb\" target=\"_parent\"><img src=\"https://colab.research.google.com/assets/colab-badge.svg\" alt=\"Open In Colab\"/></a>"
      ]
    },
    {
      "cell_type": "markdown",
      "metadata": {
        "id": "sC2BFMOKN1M7"
      },
      "source": [
        "---\n",
        "<img alt=\"Colaboratory logo\" width=\"100%\" src=\"https://github.com/paulors82/imagens/blob/gh-pages/banner_DS.png?raw=true\">\n",
        "\n",
        "**PAULO ROBERTO DA SILVA**\n",
        "\n",
        "---"
      ]
    },
    {
      "cell_type": "markdown",
      "metadata": {
        "id": "IR56trFcPcC1"
      },
      "source": [
        "# Detecção de Fraudes em Cartões de Crédito\n",
        "\n",
        "Neste projeto iremos abordar o problema de fraudes em cartões de crédito, esse tipo de fraude tem crescido a cada ano de maneira abrupta. Apenas no Brasil em 2021, segundo relatório da *ClearSale*, foram 6,1 milhões de tentativas de fraude por cartão de crédito no e-commerce, um aumento de 74% na comparação com 2020.\n",
        "Somadas, as tentativas de golpe que foram evitadas em 2021 totalizariam **R$5,8 bilhões.** (*fonte epocanegocios.globo.com*)\n",
        "\n",
        "<p align=center>\n",
        "<img alt=\"Colaboratory logo\" width=\"70%\" src=\"https://github.com/paulors82/imagens/blob/gh-pages/hacker-working-darkness.jpg?raw=true\"></p>\n",
        "\n",
        "\n",
        "A fraude é considerada um dos problemas mais sérios enfrentados pelo setor financeiro atualmente. Estima-se que para cada fraude financeira, as empresas perdem 3,86 vezes o valor do que foi roubado, segundo estudo da consultoria *LexisNexis Risk Solutions*.\n",
        "\n",
        "Devido a esse número elevado de tentativas de fraudes, temos como reflexo  a existência dos falsos positivos, ou seja, quando você tenta passar o seu cartão e a transação é negada por suspeita de fraude. \n",
        "\n",
        "Mas por que isso acontece? Vamos entender melhor...\n",
        "\n",
        "Conforme citado, foram 6,1 milhões de tentativas de fraude em 2021, o que parece muito, mas ao verificarmos que foi analisado um montante de 375,5 milhões de transações, isso nos diz que *'apenas'* **1,62% das transações foram fraudulentas.**\n",
        "\n",
        "Esse é o ponto, chegar a um denominador aceitável entre a detecção da fraude, e a diminuição dos falso positivos, utilizando uma base de dados extremamente desbalanceada.\n",
        "\n",
        "Por todos esses motivos, o investimento na área de detecção de fraudes por meio de Inteligência Artificial vem crescendo a cada ano, representando uma grande oportunidade em ***Data Science***. \n",
        "\n",
        "\n",
        "\n",
        "---\n",
        "\n",
        "\n",
        "\n"
      ]
    },
    {
      "cell_type": "markdown",
      "metadata": {
        "id": "0HVmpIxQWT4Y"
      },
      "source": [
        "## Importando os Dados\n",
        "Os dados que usaremos neste projeto foram disponibilizados na plataforma **[kaggle](https://kaggle.com)** por algumas empresas européias de cartão de crédito. O *dataset* representa as operações financeiras que aconteceram no período de dois dias, onde foram classificadas ***492 fraudes*** em meio a quase ***285 mil transações***.\n",
        "\n",
        "Isso expõe a complexidade de criarmos um algoritmo de detecção de fraude sobre bases extremamente desbalanceadas, no caso do nosso projeto as fraudes representam apenas ***0,17% do total***.\n",
        "\n",
        "Nosso *dataset* vai conter apenas variáveis numéricas, que são resultado de uma ***Transformação PCA*** para manter a confidencialidade dos dados. As únicas *features* que não foram transformadas são *'Time'* e *'Amount'*, que representam respectivamente o *Tempo* (segundos entre cada transação e a primeira transação do dataset) e o *Valor* (montante da transação) de cada transação. \n",
        "\n",
        "\n",
        "> ***PCA (Principal Component Analysis) é um método de redução de dimensionalidade, consiste em condensar a informação contida em várias variáveis em um conjunto menor de variáveis estatísticas (componentes) com uma perda mínima de informação.*** (**fonte operdata.com.br*)\n",
        "\n",
        "\n",
        "\n",
        "<p align=center>\n",
        "<img src=\"https://github.com/paulors82/imagens/blob/gh-pages/computer-hacker-cyber-crime.jpg?raw=true\" width=\"70%\"></p>\n",
        "\n"
      ]
    },
    {
      "cell_type": "markdown",
      "metadata": {
        "id": "g5XDTWW5LRVe"
      },
      "source": [
        "### Vamos iniciar nosso projeto importando alguns pacotes necessários, bem como o nosso Dataset"
      ]
    },
    {
      "cell_type": "code",
      "metadata": {
        "id": "oQ4bNy7udtEE"
      },
      "source": [
        "# importar os pacotes necessários\n",
        "import pandas as pd\n",
        "import matplotlib.pyplot as plt\n",
        "import seaborn as sns\n",
        "\n"
      ],
      "execution_count": 2,
      "outputs": []
    },
    {
      "cell_type": "code",
      "metadata": {
        "id": "4NxUOfDOj2j8"
      },
      "source": [
        "# importar os dados para um dataframe\n",
        "file_path = \"https://www.dropbox.com/s/b44o3t3ehmnx2b7/creditcard.csv?dl=1\"\n",
        "df = pd.read_csv(file_path)\n"
      ],
      "execution_count": 3,
      "outputs": []
    },
    {
      "cell_type": "markdown",
      "metadata": {
        "id": "7nF_Dhd81Cvq"
      },
      "source": [
        "Com os dados importados para dentro de uma estrutura *Dataframe*, vamos iniciar o processo de Análise Exploratória."
      ]
    },
    {
      "cell_type": "markdown",
      "metadata": {
        "id": "8UtXyZ6stlSM"
      },
      "source": [
        "## Análise Exploratória\n",
        "\n",
        "Na análise exploratória visamos conhecer mais sobre nossa estrutura de dados com relação ao seu dimensionamento, balanceamento, valores ausentes, tipos das variáveis, dentre outros.\n",
        "\n"
      ]
    },
    {
      "cell_type": "markdown",
      "source": [
        "###Conhecendo o Dataset"
      ],
      "metadata": {
        "id": "qAjJSSv9jwro"
      }
    },
    {
      "cell_type": "code",
      "source": [
        "#verificando as 5 primeiras linhas\n",
        "df.head()"
      ],
      "metadata": {
        "colab": {
          "base_uri": "https://localhost:8080/",
          "height": 300
        },
        "id": "_gv54mZ1j0xL",
        "outputId": "2bb36f1e-bb5b-4b59-f272-ff09be7f6574"
      },
      "execution_count": 4,
      "outputs": [
        {
          "output_type": "execute_result",
          "data": {
            "text/plain": [
              "   Time        V1        V2        V3        V4        V5        V6        V7  \\\n",
              "0   0.0 -1.359807 -0.072781  2.536347  1.378155 -0.338321  0.462388  0.239599   \n",
              "1   0.0  1.191857  0.266151  0.166480  0.448154  0.060018 -0.082361 -0.078803   \n",
              "2   1.0 -1.358354 -1.340163  1.773209  0.379780 -0.503198  1.800499  0.791461   \n",
              "3   1.0 -0.966272 -0.185226  1.792993 -0.863291 -0.010309  1.247203  0.237609   \n",
              "4   2.0 -1.158233  0.877737  1.548718  0.403034 -0.407193  0.095921  0.592941   \n",
              "\n",
              "         V8        V9  ...       V21       V22       V23       V24       V25  \\\n",
              "0  0.098698  0.363787  ... -0.018307  0.277838 -0.110474  0.066928  0.128539   \n",
              "1  0.085102 -0.255425  ... -0.225775 -0.638672  0.101288 -0.339846  0.167170   \n",
              "2  0.247676 -1.514654  ...  0.247998  0.771679  0.909412 -0.689281 -0.327642   \n",
              "3  0.377436 -1.387024  ... -0.108300  0.005274 -0.190321 -1.175575  0.647376   \n",
              "4 -0.270533  0.817739  ... -0.009431  0.798278 -0.137458  0.141267 -0.206010   \n",
              "\n",
              "        V26       V27       V28  Amount  Class  \n",
              "0 -0.189115  0.133558 -0.021053  149.62      0  \n",
              "1  0.125895 -0.008983  0.014724    2.69      0  \n",
              "2 -0.139097 -0.055353 -0.059752  378.66      0  \n",
              "3 -0.221929  0.062723  0.061458  123.50      0  \n",
              "4  0.502292  0.219422  0.215153   69.99      0  \n",
              "\n",
              "[5 rows x 31 columns]"
            ],
            "text/html": [
              "\n",
              "  <div id=\"df-d6eea4e3-8f7b-4d38-91ee-f56f66cefe62\">\n",
              "    <div class=\"colab-df-container\">\n",
              "      <div>\n",
              "<style scoped>\n",
              "    .dataframe tbody tr th:only-of-type {\n",
              "        vertical-align: middle;\n",
              "    }\n",
              "\n",
              "    .dataframe tbody tr th {\n",
              "        vertical-align: top;\n",
              "    }\n",
              "\n",
              "    .dataframe thead th {\n",
              "        text-align: right;\n",
              "    }\n",
              "</style>\n",
              "<table border=\"1\" class=\"dataframe\">\n",
              "  <thead>\n",
              "    <tr style=\"text-align: right;\">\n",
              "      <th></th>\n",
              "      <th>Time</th>\n",
              "      <th>V1</th>\n",
              "      <th>V2</th>\n",
              "      <th>V3</th>\n",
              "      <th>V4</th>\n",
              "      <th>V5</th>\n",
              "      <th>V6</th>\n",
              "      <th>V7</th>\n",
              "      <th>V8</th>\n",
              "      <th>V9</th>\n",
              "      <th>...</th>\n",
              "      <th>V21</th>\n",
              "      <th>V22</th>\n",
              "      <th>V23</th>\n",
              "      <th>V24</th>\n",
              "      <th>V25</th>\n",
              "      <th>V26</th>\n",
              "      <th>V27</th>\n",
              "      <th>V28</th>\n",
              "      <th>Amount</th>\n",
              "      <th>Class</th>\n",
              "    </tr>\n",
              "  </thead>\n",
              "  <tbody>\n",
              "    <tr>\n",
              "      <th>0</th>\n",
              "      <td>0.0</td>\n",
              "      <td>-1.359807</td>\n",
              "      <td>-0.072781</td>\n",
              "      <td>2.536347</td>\n",
              "      <td>1.378155</td>\n",
              "      <td>-0.338321</td>\n",
              "      <td>0.462388</td>\n",
              "      <td>0.239599</td>\n",
              "      <td>0.098698</td>\n",
              "      <td>0.363787</td>\n",
              "      <td>...</td>\n",
              "      <td>-0.018307</td>\n",
              "      <td>0.277838</td>\n",
              "      <td>-0.110474</td>\n",
              "      <td>0.066928</td>\n",
              "      <td>0.128539</td>\n",
              "      <td>-0.189115</td>\n",
              "      <td>0.133558</td>\n",
              "      <td>-0.021053</td>\n",
              "      <td>149.62</td>\n",
              "      <td>0</td>\n",
              "    </tr>\n",
              "    <tr>\n",
              "      <th>1</th>\n",
              "      <td>0.0</td>\n",
              "      <td>1.191857</td>\n",
              "      <td>0.266151</td>\n",
              "      <td>0.166480</td>\n",
              "      <td>0.448154</td>\n",
              "      <td>0.060018</td>\n",
              "      <td>-0.082361</td>\n",
              "      <td>-0.078803</td>\n",
              "      <td>0.085102</td>\n",
              "      <td>-0.255425</td>\n",
              "      <td>...</td>\n",
              "      <td>-0.225775</td>\n",
              "      <td>-0.638672</td>\n",
              "      <td>0.101288</td>\n",
              "      <td>-0.339846</td>\n",
              "      <td>0.167170</td>\n",
              "      <td>0.125895</td>\n",
              "      <td>-0.008983</td>\n",
              "      <td>0.014724</td>\n",
              "      <td>2.69</td>\n",
              "      <td>0</td>\n",
              "    </tr>\n",
              "    <tr>\n",
              "      <th>2</th>\n",
              "      <td>1.0</td>\n",
              "      <td>-1.358354</td>\n",
              "      <td>-1.340163</td>\n",
              "      <td>1.773209</td>\n",
              "      <td>0.379780</td>\n",
              "      <td>-0.503198</td>\n",
              "      <td>1.800499</td>\n",
              "      <td>0.791461</td>\n",
              "      <td>0.247676</td>\n",
              "      <td>-1.514654</td>\n",
              "      <td>...</td>\n",
              "      <td>0.247998</td>\n",
              "      <td>0.771679</td>\n",
              "      <td>0.909412</td>\n",
              "      <td>-0.689281</td>\n",
              "      <td>-0.327642</td>\n",
              "      <td>-0.139097</td>\n",
              "      <td>-0.055353</td>\n",
              "      <td>-0.059752</td>\n",
              "      <td>378.66</td>\n",
              "      <td>0</td>\n",
              "    </tr>\n",
              "    <tr>\n",
              "      <th>3</th>\n",
              "      <td>1.0</td>\n",
              "      <td>-0.966272</td>\n",
              "      <td>-0.185226</td>\n",
              "      <td>1.792993</td>\n",
              "      <td>-0.863291</td>\n",
              "      <td>-0.010309</td>\n",
              "      <td>1.247203</td>\n",
              "      <td>0.237609</td>\n",
              "      <td>0.377436</td>\n",
              "      <td>-1.387024</td>\n",
              "      <td>...</td>\n",
              "      <td>-0.108300</td>\n",
              "      <td>0.005274</td>\n",
              "      <td>-0.190321</td>\n",
              "      <td>-1.175575</td>\n",
              "      <td>0.647376</td>\n",
              "      <td>-0.221929</td>\n",
              "      <td>0.062723</td>\n",
              "      <td>0.061458</td>\n",
              "      <td>123.50</td>\n",
              "      <td>0</td>\n",
              "    </tr>\n",
              "    <tr>\n",
              "      <th>4</th>\n",
              "      <td>2.0</td>\n",
              "      <td>-1.158233</td>\n",
              "      <td>0.877737</td>\n",
              "      <td>1.548718</td>\n",
              "      <td>0.403034</td>\n",
              "      <td>-0.407193</td>\n",
              "      <td>0.095921</td>\n",
              "      <td>0.592941</td>\n",
              "      <td>-0.270533</td>\n",
              "      <td>0.817739</td>\n",
              "      <td>...</td>\n",
              "      <td>-0.009431</td>\n",
              "      <td>0.798278</td>\n",
              "      <td>-0.137458</td>\n",
              "      <td>0.141267</td>\n",
              "      <td>-0.206010</td>\n",
              "      <td>0.502292</td>\n",
              "      <td>0.219422</td>\n",
              "      <td>0.215153</td>\n",
              "      <td>69.99</td>\n",
              "      <td>0</td>\n",
              "    </tr>\n",
              "  </tbody>\n",
              "</table>\n",
              "<p>5 rows × 31 columns</p>\n",
              "</div>\n",
              "      <button class=\"colab-df-convert\" onclick=\"convertToInteractive('df-d6eea4e3-8f7b-4d38-91ee-f56f66cefe62')\"\n",
              "              title=\"Convert this dataframe to an interactive table.\"\n",
              "              style=\"display:none;\">\n",
              "        \n",
              "  <svg xmlns=\"http://www.w3.org/2000/svg\" height=\"24px\"viewBox=\"0 0 24 24\"\n",
              "       width=\"24px\">\n",
              "    <path d=\"M0 0h24v24H0V0z\" fill=\"none\"/>\n",
              "    <path d=\"M18.56 5.44l.94 2.06.94-2.06 2.06-.94-2.06-.94-.94-2.06-.94 2.06-2.06.94zm-11 1L8.5 8.5l.94-2.06 2.06-.94-2.06-.94L8.5 2.5l-.94 2.06-2.06.94zm10 10l.94 2.06.94-2.06 2.06-.94-2.06-.94-.94-2.06-.94 2.06-2.06.94z\"/><path d=\"M17.41 7.96l-1.37-1.37c-.4-.4-.92-.59-1.43-.59-.52 0-1.04.2-1.43.59L10.3 9.45l-7.72 7.72c-.78.78-.78 2.05 0 2.83L4 21.41c.39.39.9.59 1.41.59.51 0 1.02-.2 1.41-.59l7.78-7.78 2.81-2.81c.8-.78.8-2.07 0-2.86zM5.41 20L4 18.59l7.72-7.72 1.47 1.35L5.41 20z\"/>\n",
              "  </svg>\n",
              "      </button>\n",
              "      \n",
              "  <style>\n",
              "    .colab-df-container {\n",
              "      display:flex;\n",
              "      flex-wrap:wrap;\n",
              "      gap: 12px;\n",
              "    }\n",
              "\n",
              "    .colab-df-convert {\n",
              "      background-color: #E8F0FE;\n",
              "      border: none;\n",
              "      border-radius: 50%;\n",
              "      cursor: pointer;\n",
              "      display: none;\n",
              "      fill: #1967D2;\n",
              "      height: 32px;\n",
              "      padding: 0 0 0 0;\n",
              "      width: 32px;\n",
              "    }\n",
              "\n",
              "    .colab-df-convert:hover {\n",
              "      background-color: #E2EBFA;\n",
              "      box-shadow: 0px 1px 2px rgba(60, 64, 67, 0.3), 0px 1px 3px 1px rgba(60, 64, 67, 0.15);\n",
              "      fill: #174EA6;\n",
              "    }\n",
              "\n",
              "    [theme=dark] .colab-df-convert {\n",
              "      background-color: #3B4455;\n",
              "      fill: #D2E3FC;\n",
              "    }\n",
              "\n",
              "    [theme=dark] .colab-df-convert:hover {\n",
              "      background-color: #434B5C;\n",
              "      box-shadow: 0px 1px 3px 1px rgba(0, 0, 0, 0.15);\n",
              "      filter: drop-shadow(0px 1px 2px rgba(0, 0, 0, 0.3));\n",
              "      fill: #FFFFFF;\n",
              "    }\n",
              "  </style>\n",
              "\n",
              "      <script>\n",
              "        const buttonEl =\n",
              "          document.querySelector('#df-d6eea4e3-8f7b-4d38-91ee-f56f66cefe62 button.colab-df-convert');\n",
              "        buttonEl.style.display =\n",
              "          google.colab.kernel.accessAllowed ? 'block' : 'none';\n",
              "\n",
              "        async function convertToInteractive(key) {\n",
              "          const element = document.querySelector('#df-d6eea4e3-8f7b-4d38-91ee-f56f66cefe62');\n",
              "          const dataTable =\n",
              "            await google.colab.kernel.invokeFunction('convertToInteractive',\n",
              "                                                     [key], {});\n",
              "          if (!dataTable) return;\n",
              "\n",
              "          const docLinkHtml = 'Like what you see? Visit the ' +\n",
              "            '<a target=\"_blank\" href=https://colab.research.google.com/notebooks/data_table.ipynb>data table notebook</a>'\n",
              "            + ' to learn more about interactive tables.';\n",
              "          element.innerHTML = '';\n",
              "          dataTable['output_type'] = 'display_data';\n",
              "          await google.colab.output.renderOutput(dataTable, element);\n",
              "          const docLink = document.createElement('div');\n",
              "          docLink.innerHTML = docLinkHtml;\n",
              "          element.appendChild(docLink);\n",
              "        }\n",
              "      </script>\n",
              "    </div>\n",
              "  </div>\n",
              "  "
            ]
          },
          "metadata": {},
          "execution_count": 4
        }
      ]
    },
    {
      "cell_type": "markdown",
      "source": [
        "Podemos observar nossas features (V1, V2, V3 ...) todas transformadas através do PCA e apenas Time e Amount em outro \"*padrão*\". Verificamos também a variável *Class* que representa quando a transação é detectada como fraude(1) ou não fraude(0).\n",
        "\n"
      ],
      "metadata": {
        "id": "ec2PPu8MO3IM"
      }
    },
    {
      "cell_type": "markdown",
      "source": [
        "###Dimensões do conjunto de dados."
      ],
      "metadata": {
        "id": "ZXk0NkTTj-PX"
      }
    },
    {
      "cell_type": "code",
      "source": [
        "#Verificando as dimensões do dataset\n",
        "print(\"Entradas: {}\".format(df.shape[0]))\n",
        "print(\"Variáveis: {}\".format(df.shape[1]))"
      ],
      "metadata": {
        "colab": {
          "base_uri": "https://localhost:8080/"
        },
        "id": "jd9DFRI4lXLn",
        "outputId": "a7b250a4-d7f7-4600-a550-d7a32341adc1"
      },
      "execution_count": 5,
      "outputs": [
        {
          "output_type": "stream",
          "name": "stdout",
          "text": [
            "Entradas: 284807\n",
            "Variáveis: 31\n"
          ]
        }
      ]
    },
    {
      "cell_type": "markdown",
      "source": [
        "###Valores Ausentes\n"
      ],
      "metadata": {
        "id": "Z6exzFjfP2lm"
      }
    },
    {
      "cell_type": "code",
      "source": [
        "#verificando valores ausentes\n",
        "print('Valores ausentes: \\n\\n', (df.isnull().sum() / df.shape[0]).sort_values(ascending=False))"
      ],
      "metadata": {
        "colab": {
          "base_uri": "https://localhost:8080/"
        },
        "id": "1wsPC5UpleTR",
        "outputId": "db579230-f7bc-436d-ac68-d3170542a02c"
      },
      "execution_count": 6,
      "outputs": [
        {
          "output_type": "stream",
          "name": "stdout",
          "text": [
            "Valores ausentes: \n",
            "\n",
            " Time      0.0\n",
            "V16       0.0\n",
            "Amount    0.0\n",
            "V28       0.0\n",
            "V27       0.0\n",
            "V26       0.0\n",
            "V25       0.0\n",
            "V24       0.0\n",
            "V23       0.0\n",
            "V22       0.0\n",
            "V21       0.0\n",
            "V20       0.0\n",
            "V19       0.0\n",
            "V18       0.0\n",
            "V17       0.0\n",
            "V15       0.0\n",
            "V1        0.0\n",
            "V14       0.0\n",
            "V13       0.0\n",
            "V12       0.0\n",
            "V11       0.0\n",
            "V10       0.0\n",
            "V9        0.0\n",
            "V8        0.0\n",
            "V7        0.0\n",
            "V6        0.0\n",
            "V5        0.0\n",
            "V4        0.0\n",
            "V3        0.0\n",
            "V2        0.0\n",
            "Class     0.0\n",
            "dtype: float64\n"
          ]
        }
      ]
    },
    {
      "cell_type": "markdown",
      "source": [
        "Ótima notícia, sem valores ausentes vamos verificar o balanceamento dos nossos dados, levando em conta nossa variável *Class*, que nos informa quando houve uma transação normal (0) ou uma fraude (1)"
      ],
      "metadata": {
        "id": "xl-ES01HP0mu"
      }
    },
    {
      "cell_type": "markdown",
      "source": [
        "###Balanceamento dos Dados"
      ],
      "metadata": {
        "id": "ONsWbUt-kP6P"
      }
    },
    {
      "cell_type": "code",
      "source": [
        "#calculando a porcentagem de ocorrências detectadas como fraude\n",
        "p = (df.Class.value_counts()[1]/df.shape[0])*100\n",
        "\n",
        "#Balanceamento dos dados \n",
        "fig, ax = plt.subplots(figsize=(10,6), dpi=72)\n",
        "sns.countplot(x='Class', y=None, data=df, ax=ax)\n",
        "\n",
        "ax.spines['right'].set_visible(False)\n",
        "ax.spines['top'].set_visible(False)\n",
        "\n",
        "ax.set_ylabel('Ocorrências')\n",
        "\n",
        "ax.text(-0.5,430000,'Balanceamento dos Dados', fontsize=24, color=\"#515151\", fontweight='bold')\n",
        "ax.text(-0.5,400000,'Em nosso conjunto de dados tivemos o seguinte total de ocorrências:', fontsize=12, color=\"#515151\", fontweight='light')\n",
        "ax.text(-0.5,380000, f'0: {df.Class.value_counts()[0]} (Não fraude)', fontsize=12, color=\"#515151\", fontweight='light') \n",
        "ax.text(-0.5,360000,f'1: {df.Class.value_counts()[1]} (Fraude)', fontsize=12, color=\"#515151\", fontweight='light')\n",
        "ax.text(-0.5,340000,f'Os casos de fraude em nosso conjunto de dados correspondem a apenas: {p:,.2f}% das ocorrências', fontsize=14, color=\"#515151\", fontweight='semibold')\n",
        "\n",
        "plt.plot()\n",
        "\n"
      ],
      "metadata": {
        "colab": {
          "base_uri": "https://localhost:8080/",
          "height": 568
        },
        "id": "wMeAP_5Nmihk",
        "outputId": "455c8cdc-1e24-4fa5-ec6a-dc6b84c53b1e"
      },
      "execution_count": 7,
      "outputs": [
        {
          "output_type": "execute_result",
          "data": {
            "text/plain": [
              "[]"
            ]
          },
          "metadata": {},
          "execution_count": 7
        },
        {
          "output_type": "display_data",
          "data": {
            "text/plain": [
              "<Figure size 720x432 with 1 Axes>"
            ],
            "image/png": "[encoded data removed]"
          },
          "metadata": {
            "needs_background": "light"
          }
        }
      ]
    },
    {
      "cell_type": "markdown",
      "source": [
        "Abaixo plotamos um histograma das variávies *Time* e *Amount* para as transações *Fraude* e *Não Fraude*\n"
      ],
      "metadata": {
        "id": "BWJfxf2gRmcR"
      }
    },
    {
      "cell_type": "code",
      "source": [
        "fig, ax = plt.subplots(nrows=3, ncols=1, figsize=(12,6))\n",
        "\n",
        "ax[0].set_title('NORMAL (Time)')\n",
        "ax[0].hist(df.Time[df.Class == 0], bins=40, ec='white', color=\"#003F5c\")\n",
        "\n",
        "ax[1].set_visible(False)\n",
        "\n",
        "ax[2].set_title('FRAUDE (Time)')\n",
        "ax[2].hist(df.Time[df.Class == 1], bins=40, ec='white', color=\"#003F5c\")\n",
        "\n",
        "plt.show()"
      ],
      "metadata": {
        "colab": {
          "base_uri": "https://localhost:8080/",
          "height": 390
        },
        "id": "2SR9nAv4EPTB",
        "outputId": "99b4a93b-61b8-4c6a-8565-b24569a8d8c8"
      },
      "execution_count": 8,
      "outputs": [
        {
          "output_type": "display_data",
          "data": {
            "text/plain": [
              "<Figure size 864x432 with 3 Axes>"
            ],
            "image/png": "[encoded data removed]"
          },
          "metadata": {
            "needs_background": "light"
          }
        }
      ]
    },
    {
      "cell_type": "code",
      "source": [
        "fig, ax = plt.subplots(nrows=3, ncols=1, figsize=(12,6))\n",
        "\n",
        "ax[0].set_title('NORMAL (Amount)')\n",
        "ax[0].hist(df.Amount[df.Class == 0], bins=40, ec='white', color=\"#003F5c\")\n",
        "\n",
        "ax[1].set_visible(False)\n",
        "\n",
        "ax[2].set_title('FRAUDE (Amount)')\n",
        "ax[2].hist(df.Amount[df.Class == 1], bins=40, ec='white', color=\"#003F5c\")\n",
        "\n",
        "plt.show()"
      ],
      "metadata": {
        "colab": {
          "base_uri": "https://localhost:8080/",
          "height": 390
        },
        "id": "pD8XSQuTX46R",
        "outputId": "2df2932a-8db2-4f12-c711-e2198de4f76e"
      },
      "execution_count": 9,
      "outputs": [
        {
          "output_type": "display_data",
          "data": {
            "text/plain": [
              "<Figure size 864x432 with 3 Axes>"
            ],
            "image/png": "[encoded data removed]"
          },
          "metadata": {
            "needs_background": "light"
          }
        }
      ]
    },
    {
      "cell_type": "markdown",
      "source": [
        "Na análise dos histogramas para *Time* e *Amount* não temos grandes insights que possam contribuir para algum feedback relevante.\n",
        "\n",
        "Agora que já conhecemos melhor nosso Dataset, vamos partir para a preparação dos nossos dados."
      ],
      "metadata": {
        "id": "NZ8x1fiNdSs9"
      }
    },
    {
      "cell_type": "markdown",
      "metadata": {
        "id": "ULe7z0jZt0EH"
      },
      "source": [
        "## Preparação dos Dados\n",
        "\n",
        "Nessa etapa vamos preparar os nossos dados para que possam ser utilizados no nosso algoritmo de detecção de fraudes.\n",
        "\n",
        "Vamos seguir os seguintes passos:\n",
        "\n",
        "\n",
        "> * Normalizar os dados que ainda não haviam sido pré-processados (`Time` e `Amount`)\n",
        "* Dividir o conjunto de dados entre treino e validação\n",
        "* Balancear o conjunto de dados\n",
        "\n",
        "\n"
      ]
    },
    {
      "cell_type": "markdown",
      "source": [
        "###Normalizar os dados que ainda não haviam sido pré-processados (Time e Amount)\n",
        "\n"
      ],
      "metadata": {
        "id": "HQacr8-pACBg"
      }
    },
    {
      "cell_type": "code",
      "source": [
        "from sklearn.preprocessing import StandardScaler\n",
        "\n",
        "#Criando cópia do dataframe\n",
        "df_clean = df.copy()\n",
        "\n",
        "#Normalizar os dados com scikit-learn\n",
        "scaler = StandardScaler()\n",
        "\n",
        "#Criando as colunas Std_Amount e Std_Time para receber os dados das colunas Amount e Time normalizados\n",
        "df_clean['Std_Amount'] = scaler.fit_transform(df_clean['Amount'].values.reshape(-1,1))\n",
        "df_clean['Std_Time'] = scaler.fit_transform(df_clean['Time'].values.reshape(-1,1))\n",
        "\n",
        "#Excluindo as colunas Time e Amount do dataframe\n",
        "df_clean.drop(['Time','Amount'], axis=1, inplace=True)\n",
        "\n",
        "#Verificando como ficou nosso Dataframe\n",
        "df_clean.head()\n"
      ],
      "metadata": {
        "id": "vp7FwKweyyz_",
        "colab": {
          "base_uri": "https://localhost:8080/",
          "height": 300
        },
        "outputId": "121954a3-a510-42cf-f61f-3e227e71db81"
      },
      "execution_count": 10,
      "outputs": [
        {
          "output_type": "execute_result",
          "data": {
            "text/plain": [
              "         V1        V2        V3        V4        V5        V6        V7  \\\n",
              "0 -1.359807 -0.072781  2.536347  1.378155 -0.338321  0.462388  0.239599   \n",
              "1  1.191857  0.266151  0.166480  0.448154  0.060018 -0.082361 -0.078803   \n",
              "2 -1.358354 -1.340163  1.773209  0.379780 -0.503198  1.800499  0.791461   \n",
              "3 -0.966272 -0.185226  1.792993 -0.863291 -0.010309  1.247203  0.237609   \n",
              "4 -1.158233  0.877737  1.548718  0.403034 -0.407193  0.095921  0.592941   \n",
              "\n",
              "         V8        V9       V10  ...       V22       V23       V24       V25  \\\n",
              "0  0.098698  0.363787  0.090794  ...  0.277838 -0.110474  0.066928  0.128539   \n",
              "1  0.085102 -0.255425 -0.166974  ... -0.638672  0.101288 -0.339846  0.167170   \n",
              "2  0.247676 -1.514654  0.207643  ...  0.771679  0.909412 -0.689281 -0.327642   \n",
              "3  0.377436 -1.387024 -0.054952  ...  0.005274 -0.190321 -1.175575  0.647376   \n",
              "4 -0.270533  0.817739  0.753074  ...  0.798278 -0.137458  0.141267 -0.206010   \n",
              "\n",
              "        V26       V27       V28  Class  Std_Amount  Std_Time  \n",
              "0 -0.189115  0.133558 -0.021053      0    0.244964 -1.996583  \n",
              "1  0.125895 -0.008983  0.014724      0   -0.342475 -1.996583  \n",
              "2 -0.139097 -0.055353 -0.059752      0    1.160686 -1.996562  \n",
              "3 -0.221929  0.062723  0.061458      0    0.140534 -1.996562  \n",
              "4  0.502292  0.219422  0.215153      0   -0.073403 -1.996541  \n",
              "\n",
              "[5 rows x 31 columns]"
            ],
            "text/html": [
              "\n",
              "  <div id=\"df-7f552f4a-e0f5-4bcd-a1e2-978e292eb156\">\n",
              "    <div class=\"colab-df-container\">\n",
              "      <div>\n",
              "<style scoped>\n",
              "    .dataframe tbody tr th:only-of-type {\n",
              "        vertical-align: middle;\n",
              "    }\n",
              "\n",
              "    .dataframe tbody tr th {\n",
              "        vertical-align: top;\n",
              "    }\n",
              "\n",
              "    .dataframe thead th {\n",
              "        text-align: right;\n",
              "    }\n",
              "</style>\n",
              "<table border=\"1\" class=\"dataframe\">\n",
              "  <thead>\n",
              "    <tr style=\"text-align: right;\">\n",
              "      <th></th>\n",
              "      <th>V1</th>\n",
              "      <th>V2</th>\n",
              "      <th>V3</th>\n",
              "      <th>V4</th>\n",
              "      <th>V5</th>\n",
              "      <th>V6</th>\n",
              "      <th>V7</th>\n",
              "      <th>V8</th>\n",
              "      <th>V9</th>\n",
              "      <th>V10</th>\n",
              "      <th>...</th>\n",
              "      <th>V22</th>\n",
              "      <th>V23</th>\n",
              "      <th>V24</th>\n",
              "      <th>V25</th>\n",
              "      <th>V26</th>\n",
              "      <th>V27</th>\n",
              "      <th>V28</th>\n",
              "      <th>Class</th>\n",
              "      <th>Std_Amount</th>\n",
              "      <th>Std_Time</th>\n",
              "    </tr>\n",
              "  </thead>\n",
              "  <tbody>\n",
              "    <tr>\n",
              "      <th>0</th>\n",
              "      <td>-1.359807</td>\n",
              "      <td>-0.072781</td>\n",
              "      <td>2.536347</td>\n",
              "      <td>1.378155</td>\n",
              "      <td>-0.338321</td>\n",
              "      <td>0.462388</td>\n",
              "      <td>0.239599</td>\n",
              "      <td>0.098698</td>\n",
              "      <td>0.363787</td>\n",
              "      <td>0.090794</td>\n",
              "      <td>...</td>\n",
              "      <td>0.277838</td>\n",
              "      <td>-0.110474</td>\n",
              "      <td>0.066928</td>\n",
              "      <td>0.128539</td>\n",
              "      <td>-0.189115</td>\n",
              "      <td>0.133558</td>\n",
              "      <td>-0.021053</td>\n",
              "      <td>0</td>\n",
              "      <td>0.244964</td>\n",
              "      <td>-1.996583</td>\n",
              "    </tr>\n",
              "    <tr>\n",
              "      <th>1</th>\n",
              "      <td>1.191857</td>\n",
              "      <td>0.266151</td>\n",
              "      <td>0.166480</td>\n",
              "      <td>0.448154</td>\n",
              "      <td>0.060018</td>\n",
              "      <td>-0.082361</td>\n",
              "      <td>-0.078803</td>\n",
              "      <td>0.085102</td>\n",
              "      <td>-0.255425</td>\n",
              "      <td>-0.166974</td>\n",
              "      <td>...</td>\n",
              "      <td>-0.638672</td>\n",
              "      <td>0.101288</td>\n",
              "      <td>-0.339846</td>\n",
              "      <td>0.167170</td>\n",
              "      <td>0.125895</td>\n",
              "      <td>-0.008983</td>\n",
              "      <td>0.014724</td>\n",
              "      <td>0</td>\n",
              "      <td>-0.342475</td>\n",
              "      <td>-1.996583</td>\n",
              "    </tr>\n",
              "    <tr>\n",
              "      <th>2</th>\n",
              "      <td>-1.358354</td>\n",
              "      <td>-1.340163</td>\n",
              "      <td>1.773209</td>\n",
              "      <td>0.379780</td>\n",
              "      <td>-0.503198</td>\n",
              "      <td>1.800499</td>\n",
              "      <td>0.791461</td>\n",
              "      <td>0.247676</td>\n",
              "      <td>-1.514654</td>\n",
              "      <td>0.207643</td>\n",
              "      <td>...</td>\n",
              "      <td>0.771679</td>\n",
              "      <td>0.909412</td>\n",
              "      <td>-0.689281</td>\n",
              "      <td>-0.327642</td>\n",
              "      <td>-0.139097</td>\n",
              "      <td>-0.055353</td>\n",
              "      <td>-0.059752</td>\n",
              "      <td>0</td>\n",
              "      <td>1.160686</td>\n",
              "      <td>-1.996562</td>\n",
              "    </tr>\n",
              "    <tr>\n",
              "      <th>3</th>\n",
              "      <td>-0.966272</td>\n",
              "      <td>-0.185226</td>\n",
              "      <td>1.792993</td>\n",
              "      <td>-0.863291</td>\n",
              "      <td>-0.010309</td>\n",
              "      <td>1.247203</td>\n",
              "      <td>0.237609</td>\n",
              "      <td>0.377436</td>\n",
              "      <td>-1.387024</td>\n",
              "      <td>-0.054952</td>\n",
              "      <td>...</td>\n",
              "      <td>0.005274</td>\n",
              "      <td>-0.190321</td>\n",
              "      <td>-1.175575</td>\n",
              "      <td>0.647376</td>\n",
              "      <td>-0.221929</td>\n",
              "      <td>0.062723</td>\n",
              "      <td>0.061458</td>\n",
              "      <td>0</td>\n",
              "      <td>0.140534</td>\n",
              "      <td>-1.996562</td>\n",
              "    </tr>\n",
              "    <tr>\n",
              "      <th>4</th>\n",
              "      <td>-1.158233</td>\n",
              "      <td>0.877737</td>\n",
              "      <td>1.548718</td>\n",
              "      <td>0.403034</td>\n",
              "      <td>-0.407193</td>\n",
              "      <td>0.095921</td>\n",
              "      <td>0.592941</td>\n",
              "      <td>-0.270533</td>\n",
              "      <td>0.817739</td>\n",
              "      <td>0.753074</td>\n",
              "      <td>...</td>\n",
              "      <td>0.798278</td>\n",
              "      <td>-0.137458</td>\n",
              "      <td>0.141267</td>\n",
              "      <td>-0.206010</td>\n",
              "      <td>0.502292</td>\n",
              "      <td>0.219422</td>\n",
              "      <td>0.215153</td>\n",
              "      <td>0</td>\n",
              "      <td>-0.073403</td>\n",
              "      <td>-1.996541</td>\n",
              "    </tr>\n",
              "  </tbody>\n",
              "</table>\n",
              "<p>5 rows × 31 columns</p>\n",
              "</div>\n",
              "      <button class=\"colab-df-convert\" onclick=\"convertToInteractive('df-7f552f4a-e0f5-4bcd-a1e2-978e292eb156')\"\n",
              "              title=\"Convert this dataframe to an interactive table.\"\n",
              "              style=\"display:none;\">\n",
              "        \n",
              "  <svg xmlns=\"http://www.w3.org/2000/svg\" height=\"24px\"viewBox=\"0 0 24 24\"\n",
              "       width=\"24px\">\n",
              "    <path d=\"M0 0h24v24H0V0z\" fill=\"none\"/>\n",
              "    <path d=\"M18.56 5.44l.94 2.06.94-2.06 2.06-.94-2.06-.94-.94-2.06-.94 2.06-2.06.94zm-11 1L8.5 8.5l.94-2.06 2.06-.94-2.06-.94L8.5 2.5l-.94 2.06-2.06.94zm10 10l.94 2.06.94-2.06 2.06-.94-2.06-.94-.94-2.06-.94 2.06-2.06.94z\"/><path d=\"M17.41 7.96l-1.37-1.37c-.4-.4-.92-.59-1.43-.59-.52 0-1.04.2-1.43.59L10.3 9.45l-7.72 7.72c-.78.78-.78 2.05 0 2.83L4 21.41c.39.39.9.59 1.41.59.51 0 1.02-.2 1.41-.59l7.78-7.78 2.81-2.81c.8-.78.8-2.07 0-2.86zM5.41 20L4 18.59l7.72-7.72 1.47 1.35L5.41 20z\"/>\n",
              "  </svg>\n",
              "      </button>\n",
              "      \n",
              "  <style>\n",
              "    .colab-df-container {\n",
              "      display:flex;\n",
              "      flex-wrap:wrap;\n",
              "      gap: 12px;\n",
              "    }\n",
              "\n",
              "    .colab-df-convert {\n",
              "      background-color: #E8F0FE;\n",
              "      border: none;\n",
              "      border-radius: 50%;\n",
              "      cursor: pointer;\n",
              "      display: none;\n",
              "      fill: #1967D2;\n",
              "      height: 32px;\n",
              "      padding: 0 0 0 0;\n",
              "      width: 32px;\n",
              "    }\n",
              "\n",
              "    .colab-df-convert:hover {\n",
              "      background-color: #E2EBFA;\n",
              "      box-shadow: 0px 1px 2px rgba(60, 64, 67, 0.3), 0px 1px 3px 1px rgba(60, 64, 67, 0.15);\n",
              "      fill: #174EA6;\n",
              "    }\n",
              "\n",
              "    [theme=dark] .colab-df-convert {\n",
              "      background-color: #3B4455;\n",
              "      fill: #D2E3FC;\n",
              "    }\n",
              "\n",
              "    [theme=dark] .colab-df-convert:hover {\n",
              "      background-color: #434B5C;\n",
              "      box-shadow: 0px 1px 3px 1px rgba(0, 0, 0, 0.15);\n",
              "      filter: drop-shadow(0px 1px 2px rgba(0, 0, 0, 0.3));\n",
              "      fill: #FFFFFF;\n",
              "    }\n",
              "  </style>\n",
              "\n",
              "      <script>\n",
              "        const buttonEl =\n",
              "          document.querySelector('#df-7f552f4a-e0f5-4bcd-a1e2-978e292eb156 button.colab-df-convert');\n",
              "        buttonEl.style.display =\n",
              "          google.colab.kernel.accessAllowed ? 'block' : 'none';\n",
              "\n",
              "        async function convertToInteractive(key) {\n",
              "          const element = document.querySelector('#df-7f552f4a-e0f5-4bcd-a1e2-978e292eb156');\n",
              "          const dataTable =\n",
              "            await google.colab.kernel.invokeFunction('convertToInteractive',\n",
              "                                                     [key], {});\n",
              "          if (!dataTable) return;\n",
              "\n",
              "          const docLinkHtml = 'Like what you see? Visit the ' +\n",
              "            '<a target=\"_blank\" href=https://colab.research.google.com/notebooks/data_table.ipynb>data table notebook</a>'\n",
              "            + ' to learn more about interactive tables.';\n",
              "          element.innerHTML = '';\n",
              "          dataTable['output_type'] = 'display_data';\n",
              "          await google.colab.output.renderOutput(dataTable, element);\n",
              "          const docLink = document.createElement('div');\n",
              "          docLink.innerHTML = docLinkHtml;\n",
              "          element.appendChild(docLink);\n",
              "        }\n",
              "      </script>\n",
              "    </div>\n",
              "  </div>\n",
              "  "
            ]
          },
          "metadata": {},
          "execution_count": 10
        }
      ]
    },
    {
      "cell_type": "markdown",
      "source": [
        "Nessa primeira parte nós criamos duas colunas em nosso Dataframe *Std_Amount* e *Std_Time*. Atráves do ***StandartScaler*** *normalizamos* os dados das colunas *Time* e *Amount* salvando nas respectivas colunas criadas. Posteriormente excluímos as colunas *Time* e *Amount*.\n",
        "\n",
        "\n",
        "> **O objetivo da normalização dos dados** é mudar os valores das colunas numéricas no conjunto de dados para usar uma escala comum, sem distorcer as diferenças nos intervalos de valores nem perder informações. De modo geral é colocar as variáveis dentro do intervalo de 0 e 1, caso tenha resultado negativo -1 e 1.\n",
        "\n",
        "\n",
        "Após a normalização foi possível verificar como ficou nosso Dataframe com as novas colunas criadas.\n"
      ],
      "metadata": {
        "id": "SwGcQeXw6SEl"
      }
    },
    {
      "cell_type": "markdown",
      "source": [
        "###Dividir o conjunto de dados entre Treino e Teste"
      ],
      "metadata": {
        "id": "uGmYMSELBcIM"
      }
    },
    {
      "cell_type": "code",
      "source": [
        "#instalação do scikit-plot no colab \n",
        "!pip install scikit-plot"
      ],
      "metadata": {
        "colab": {
          "base_uri": "https://localhost:8080/"
        },
        "id": "geHR5hnGWulj",
        "outputId": "93dda578-cf26-4f7c-e638-20667f025973"
      },
      "execution_count": 11,
      "outputs": [
        {
          "output_type": "stream",
          "name": "stdout",
          "text": [
            "Looking in indexes: https://pypi.org/simple, https://us-python.pkg.dev/colab-wheels/public/simple/\n",
            "Collecting scikit-plot\n",
            "  Downloading scikit_plot-0.3.7-py3-none-any.whl (33 kB)\n",
            "Requirement already satisfied: joblib>=0.10 in /usr/local/lib/python3.7/dist-packages (from scikit-plot) (1.1.0)\n",
            "Requirement already satisfied: scikit-learn>=0.18 in /usr/local/lib/python3.7/dist-packages (from scikit-plot) (1.0.2)\n",
            "Requirement already satisfied: matplotlib>=1.4.0 in /usr/local/lib/python3.7/dist-packages (from scikit-plot) (3.2.2)\n",
            "Requirement already satisfied: scipy>=0.9 in /usr/local/lib/python3.7/dist-packages (from scikit-plot) (1.4.1)\n",
            "Requirement already satisfied: kiwisolver>=1.0.1 in /usr/local/lib/python3.7/dist-packages (from matplotlib>=1.4.0->scikit-plot) (1.4.2)\n",
            "Requirement already satisfied: numpy>=1.11 in /usr/local/lib/python3.7/dist-packages (from matplotlib>=1.4.0->scikit-plot) (1.21.6)\n",
            "Requirement already satisfied: cycler>=0.10 in /usr/local/lib/python3.7/dist-packages (from matplotlib>=1.4.0->scikit-plot) (0.11.0)\n",
            "Requirement already satisfied: python-dateutil>=2.1 in /usr/local/lib/python3.7/dist-packages (from matplotlib>=1.4.0->scikit-plot) (2.8.2)\n",
            "Requirement already satisfied: pyparsing!=2.0.4,!=2.1.2,!=2.1.6,>=2.0.1 in /usr/local/lib/python3.7/dist-packages (from matplotlib>=1.4.0->scikit-plot) (3.0.9)\n",
            "Requirement already satisfied: typing-extensions in /usr/local/lib/python3.7/dist-packages (from kiwisolver>=1.0.1->matplotlib>=1.4.0->scikit-plot) (4.2.0)\n",
            "Requirement already satisfied: six>=1.5 in /usr/local/lib/python3.7/dist-packages (from python-dateutil>=2.1->matplotlib>=1.4.0->scikit-plot) (1.15.0)\n",
            "Requirement already satisfied: threadpoolctl>=2.0.0 in /usr/local/lib/python3.7/dist-packages (from scikit-learn>=0.18->scikit-plot) (3.1.0)\n",
            "Installing collected packages: scikit-plot\n",
            "Successfully installed scikit-plot-0.3.7\n"
          ]
        }
      ]
    },
    {
      "cell_type": "code",
      "source": [
        "from sklearn.linear_model import LogisticRegression\n",
        "from sklearn.model_selection import train_test_split\n",
        "from sklearn.metrics import classification_report\n",
        "from sklearn.metrics import confusion_matrix\n",
        "from sklearn.metrics import roc_auc_score, roc_curve, accuracy_score\n",
        "import numpy as np\n",
        "\n",
        "from imblearn.under_sampling import RandomUnderSampler\n",
        "\n",
        "import scikitplot as skplt\n",
        "\n",
        "\n",
        "#Dividindo o conjunto de dados entre Treino e Teste\n",
        "X = df_clean.drop('Class', axis=1)\n",
        "y = df['Class']\n",
        "\n",
        "X_train, X_test, y_train, y_test = train_test_split(X, y, stratify=y, shuffle=True)\n"
      ],
      "metadata": {
        "id": "6FtODTfxfOp7"
      },
      "execution_count": 12,
      "outputs": []
    },
    {
      "cell_type": "markdown",
      "source": [
        "Após a importação das bibliotecas necessárias foi realizada a divisão do conjunto de dados entre *Treino* e *Teste* através do ***train_test_split***.\n",
        "Basicamente é carregado na variável X todo o dataframe, excluindo a coluna de interesse*(a ser prevista pelo modelo)*, no nosso caso *Class*, que contém a indicação se a transação foi fraude ou não fraude. \n",
        "\n",
        "Na variável y é carregada a coluna \"*resposta*\" *Class*.\n",
        "\n",
        "Com isso o *train_test_split* divide os dados em treino e teste."
      ],
      "metadata": {
        "id": "Ms5qUXZmBpIy"
      }
    },
    {
      "cell_type": "markdown",
      "source": [
        "###Balancear o conjunto de dados de Treino"
      ],
      "metadata": {
        "id": "k88jryxFD6P4"
      }
    },
    {
      "cell_type": "markdown",
      "source": [
        "Vamos realizar o balanceamento dos dados através do método ***RandomUnderSampler*** que utiliza a técnica *undersampling*, mantendo todos os dados da classe minoritária(*fraude*) e realizando a diminuição da classe majoritária(*não fraude*).\n",
        "\n",
        "O balanceamento deve ser aplicado nos dados de treino, não deve ser aplicado aos dados de Teste / Validação."
      ],
      "metadata": {
        "id": "w80IjZ59EMvz"
      }
    },
    {
      "cell_type": "code",
      "source": [
        "#Balancear conjunto de dados (Técnica de balanceamento under-sampling (diminuir classe majoritária))\n",
        "rus = RandomUnderSampler()\n",
        "\n",
        "#Fit do modelo\n",
        "X_rus, y_rus = rus.fit_resample(X_train, y_train)\n",
        "\n",
        "fig, ax = plt.subplots(figsize=(10,6),dpi=72)\n",
        "sns.countplot(x=y_rus, y=None, ax=ax);\n",
        "\n",
        "ax.spines['right'].set_visible(False)\n",
        "ax.spines['top'].set_visible(False)\n",
        "\n",
        "ax.set_ylabel('Ocorrências')\n",
        "\n",
        "ax.text(-0.5,500,f'Após o balanceamento podemos perceber que temos nos dados de treino, o mesmo número de ocorrências para as duas classes', fontsize=14, color=\"#515151\", fontweight='semibold')\n",
        "\n",
        "z = pd.Series(y_rus).value_counts()\n",
        "\n",
        "ax.text(-0.5, 410, f'Total de Ocorrências:\\n{z}', fontsize=12)\n",
        "\n",
        "plt.plot()\n"
      ],
      "metadata": {
        "colab": {
          "base_uri": "https://localhost:8080/",
          "height": 511
        },
        "id": "s75PX7i2bQlb",
        "outputId": "5289879b-5265-4b7f-8525-6a9a770f00da"
      },
      "execution_count": 13,
      "outputs": [
        {
          "output_type": "execute_result",
          "data": {
            "text/plain": [
              "[]"
            ]
          },
          "metadata": {},
          "execution_count": 13
        },
        {
          "output_type": "display_data",
          "data": {
            "text/plain": [
              "<Figure size 720x432 with 1 Axes>"
            ],
            "image/png": "[encoded data removed]"
          },
          "metadata": {
            "needs_background": "light"
          }
        }
      ]
    },
    {
      "cell_type": "markdown",
      "source": [
        "Com os dados de treino balanceados, vamos plotar a **Matriz de Correlação** das variáveis antes e depois do balanceamento, para entendermos melhor como o balanceamento pode auxiliar no modelo de Machine Learning.\n",
        "\n",
        "\n",
        "> **Matriz de Correlação** serve para \"*medir*\" a relação entre 2 variáveis, o quanto uma variável interfere em outra, lembrando que essa relação de dependência pode ou não ser causal.\n",
        "\n"
      ],
      "metadata": {
        "id": "K2oI_lcqGi8B"
      }
    },
    {
      "cell_type": "code",
      "source": [
        "fig, ax = plt.subplots(nrows=1,ncols=2, figsize=(18,7))\n",
        "\n",
        "sns.heatmap(X_train.corr(), cmap='coolwarm', ax=ax[0])\n",
        "ax[0].set_title(\"Desbalanceado\") \n",
        "\n",
        "sns.heatmap(X_rus.corr(), cmap='coolwarm', ax=ax[1])\n",
        "ax[1].set_title(\"Balanceado\") \n",
        "\n",
        "ax[0].text(12,-5,'Matriz de correlação das variáveis antes de depois do balanceamento dos dados',fontsize=14, color=\"#515151\", fontweight='semibold')\n",
        "\n",
        "plt.show()"
      ],
      "metadata": {
        "colab": {
          "base_uri": "https://localhost:8080/",
          "height": 554
        },
        "id": "j5XIHpUCukdU",
        "outputId": "578b96dd-5633-4f41-88d6-d74cc6943efa"
      },
      "execution_count": 14,
      "outputs": [
        {
          "output_type": "display_data",
          "data": {
            "text/plain": [
              "<Figure size 1296x504 with 4 Axes>"
            ],
            "image/png": "[encoded data removed]"
          },
          "metadata": {
            "needs_background": "light"
          }
        }
      ]
    },
    {
      "cell_type": "markdown",
      "source": [
        "Percebemos que antes do balanceamento as variáveis praticamente não apresentavam correlação entre si, o que muda completamente em uma base de dados balanceada conforme o gráfico."
      ],
      "metadata": {
        "id": "jgVuiXDRLxkN"
      }
    },
    {
      "cell_type": "markdown",
      "metadata": {
        "id": "wJNH5qcjRxfX"
      },
      "source": [
        "## Modelo de Machine Learning\n",
        "\n",
        "Chegou a hora de submetermos nossos dados ao Modelo de Machine Learning, para isso seguimos as etapas:\n",
        "* Instânciar o modelo a ser utilizado\n",
        "> Vamos utilizar o modelo de classificação **Regressão Lógistica**\n",
        "\n",
        "\n",
        "* Realizar o ***Fit*** do modelo\n",
        "> Passar para o modelo os dados de treino\n",
        "\n",
        "* Realizar previsões em cima dos dados de teste para analisarmos o desempenho do modelo\n",
        "\n"
      ]
    },
    {
      "cell_type": "markdown",
      "source": [
        "###Regressão Logística"
      ],
      "metadata": {
        "id": "N7SZs1CHm1RX"
      }
    },
    {
      "cell_type": "markdown",
      "source": [
        "Submetendo os dados ao modelo de Regressão Logística"
      ],
      "metadata": {
        "id": "tUg1qv4QLQT5"
      }
    },
    {
      "cell_type": "code",
      "metadata": {
        "id": "lDySx8XUSMw_"
      },
      "source": [
        "from sklearn.linear_model import LogisticRegression\n",
        "\n",
        "#Atribuindo seed para manter os resultados (derivados de aleatoridade)\n",
        "np.random.seed(2)\n",
        "\n",
        "#Instanciando o modelo \n",
        "model = LogisticRegression()\n",
        "\n",
        "#Fit do modelo (treinar)\n",
        "model.fit(X_rus, y_rus)\n",
        "\n",
        "#Fazer previsões em cima de novos dados\n",
        "y_pred = model.predict(X_test)\n",
        "y_proba = model.predict_proba(X_test)\n",
        "\n"
      ],
      "execution_count": 15,
      "outputs": []
    },
    {
      "cell_type": "markdown",
      "metadata": {
        "id": "3e4ENOTYSUXi"
      },
      "source": [
        "## Avaliar o desempenho do modelo\n"
      ]
    },
    {
      "cell_type": "markdown",
      "source": [
        "Após submetermos nossos dados ao modelo de Machine Learning, chegou a hora de verificarmos sua performance realizando as previsões em cima dos dados de teste.\n",
        "\n",
        "Para medir o desempenho do nosso modelo plotamos a ***Classification Report*** e a ***Matriz de Confusão.***"
      ],
      "metadata": {
        "id": "dxJToPvQVqzK"
      }
    },
    {
      "cell_type": "code",
      "source": [
        "#Classification report\n",
        "print(classification_report(y_test, y_pred))\n",
        "\n",
        "#Acurácia\n",
        "ac = accuracy_score(y_test, y_pred)\n",
        "print(f'\\n \\nAcurácia do Modelo: {ac:.4f} \\n')\n",
        "\n",
        "#AUC\n",
        "print('AUC ROC: {:.4f}\\n'.format(roc_auc_score(y_test, y_pred)))\n",
        "\n",
        "#Matriz de confusão\n",
        "skplt.metrics.plot_confusion_matrix(y_test, y_pred, normalize=True, title='Matriz de Confusão');"
      ],
      "metadata": {
        "colab": {
          "base_uri": "https://localhost:8080/",
          "height": 555
        },
        "id": "NAsIkmT0K5Is",
        "outputId": "db3293ce-68b4-4f85-9981-da511efa65eb"
      },
      "execution_count": 16,
      "outputs": [
        {
          "output_type": "stream",
          "name": "stdout",
          "text": [
            "              precision    recall  f1-score   support\n",
            "\n",
            "           0       1.00      0.97      0.98     71079\n",
            "           1       0.05      0.95      0.09       123\n",
            "\n",
            "    accuracy                           0.97     71202\n",
            "   macro avg       0.52      0.96      0.54     71202\n",
            "weighted avg       1.00      0.97      0.98     71202\n",
            "\n",
            "\n",
            " \n",
            "Acurácia do Modelo: 0.9679 \n",
            "\n",
            "AUC ROC: 0.9596\n",
            "\n"
          ]
        },
        {
          "output_type": "display_data",
          "data": {
            "text/plain": [
              "<Figure size 432x288 with 2 Axes>"
            ],
            "image/png": "[encoded data removed]"
          },
          "metadata": {
            "needs_background": "light"
          }
        }
      ]
    },
    {
      "cell_type": "markdown",
      "source": [
        "Acima temos algumas métricas para podermos avaliar a performance do nosso modelo, vamos iniciar falando da ***Acurácia***. Podemos adiantar que para dados desbalanceados como o nosso, conforme vimos anteriormente, não é uma métrica confiável, visto que sua fórmula é:  \n",
        "**nº de previsões corretas / total de previsões** \n",
        "\n",
        "\n",
        ">  Em nosso modelo vimos que as transações fraudulentas representam apenas 0,17% do conjunto, nesse caso se o nosso modelo não classificasse nenhuma transação como fraude, teria uma acurácia maior que 99%, mesmo sem detectar nenhuma fraude, o que não condiz com a realidade de performance do modelo.\n",
        "\n",
        "\n",
        "Para verificarmos de uma maneira mais ampla sua performance, podemos analisar a coluna **Recall do Classification Report** e a **Matriz de Confusão**.\n",
        "\n",
        "\n",
        "> **Matriz de Confusão** nos retorna as seguintes informações:\n",
        "* *'Fraude'* e o modelo previu como *'Fraude'*\n",
        "* *'Fraude'* e o modelo previu como *'Não Fraude'*\n",
        "* *'Não Fraude'* e o modelo previu como *'Não Fraude'*\n",
        "* *'Não Fraude'* e o modelo previu como *'fraude'*\n",
        "\n",
        "Uma outra métrica também utilizada em nossa avaliação foi a ***AUC ROC,*** por definição significa a *Área sobre a curva ROC*. Nâo vamos nos aprofundar, mas quem quiser entender melhor só [Clicar Aqui](https://https://bit.ly/3m2JwaQ).\n",
        "\n",
        "**AUC ROC** é uma ótima métrica para calcularmos a qualidade das previsões do modelo, que no nosso caso foi **0.9330** tendo seu valor máximo em **1**."
      ],
      "metadata": {
        "id": "iIN59Jz9L3ym"
      }
    },
    {
      "cell_type": "markdown",
      "source": [
        "##Avaliando outros Modelos de Machine Learning"
      ],
      "metadata": {
        "id": "ttPJUeaNpkij"
      }
    },
    {
      "cell_type": "markdown",
      "source": [
        "Mesmo com uma boa performance em nosso Modelo de Regressão Logística, vamos analisar a performance de outros dois modelos e verificar se conseguimos resultados ainda melhores.\n",
        "\n",
        "Vamos testar os seguintes modelos:\n",
        "* **Decision tree** \"*Árvore de Decisão*\"\n",
        "* **KNN** \"*Vizinhos mais Próximos*\" \n",
        "\n",
        "Como a *Análise Exploratória* e a *Preparação dos Dados* já foi realizada, vamos direto a construção dos Modelos de Machine Learning.\n"
      ],
      "metadata": {
        "id": "4hs41HLBqD-i"
      }
    },
    {
      "cell_type": "code",
      "source": [
        "#Escolhendo e importando o modelo a ser utilizado\n",
        "from sklearn.tree import DecisionTreeClassifier\n",
        "from sklearn.neighbors import KNeighborsClassifier\n",
        "\n",
        "#Escolher os hyperparameters\n",
        "model_tree = DecisionTreeClassifier(criterion=\"entropy\")\n",
        "model_knn = KNeighborsClassifier(weights='distance', n_neighbors=5)\n",
        "\n",
        "# Árvore de decisão não é necessário padronizar os dados\n",
        "\n",
        "\n",
        "# Fit do modelo(treinar)\n",
        "model_tree.fit(X_rus, y_rus)\n",
        "#model_tree.fit(X_train, y_train)\n",
        "model_knn.fit(X_rus, y_rus)\n",
        "\n",
        "# Fazer previsões em cima dos dados\n",
        "y_pred_tree = model_tree.predict(X_test)\n",
        "y_pred_knn = model_knn.predict(X_test)\n",
        "\n",
        "#Matriz de confusão\n",
        "fig, ax = plt.subplots(nrows=1,ncols=2, figsize=(12,4))\n",
        "\n",
        "skplt.metrics.plot_confusion_matrix(y_test, y_pred_knn, normalize=True,title='Matriz de Confusão KNN',ax=ax[0])\n",
        "skplt.metrics.plot_confusion_matrix(y_test, y_pred_tree, normalize=True, title='Matriz de Confusão Decision Tree', ax=ax[1])\n",
        "\n",
        "ac_knn = accuracy_score(y_test, y_pred_knn)\n",
        "ac_tree = accuracy_score(y_test, y_pred_tree)\n",
        "\n",
        "ax[0].text(-0.5,-1.5,'Analisando o desempenho dos Modelos',fontsize=14, color=\"#515151\", fontweight='semibold')\n",
        "ax[0].text(-0.5,-1,f'K-Neighbors Classifier\\nAcurácia: {ac_knn:.4f}',fontsize=12, color=\"#515151\", fontweight='light')\n",
        "ax[0].text(-0.5,-0.8,'\\nAUC ROC: {:.4f}'.format(roc_auc_score(y_test, y_pred_knn)),fontsize=12, color=\"#515151\", fontweight='light')\n",
        "\n",
        "ax[1].text(-0.5,-1.2,f'Decision Tree\\nAcurácia: {ac_tree:.4f}',fontsize=12, color=\"#515151\", fontweight='light')\n",
        "ax[1].text(-0.5,-1.0,'\\nAUC ROC: {:.4f}'.format(roc_auc_score(y_test, y_pred_tree)),fontsize=12, color=\"#515151\", fontweight='light')\n",
        "\n",
        "plt.show()\n",
        "\n"
      ],
      "metadata": {
        "colab": {
          "base_uri": "https://localhost:8080/",
          "height": 399
        },
        "id": "JTdQz0ESyRdz",
        "outputId": "da26b06b-1f3e-4576-b83b-69b1c548de18"
      },
      "execution_count": 17,
      "outputs": [
        {
          "output_type": "display_data",
          "data": {
            "text/plain": [
              "<Figure size 864x288 with 4 Axes>"
            ],
            "image/png": "[encoded data removed]"
          },
          "metadata": {
            "needs_background": "light"
          }
        }
      ]
    },
    {
      "cell_type": "markdown",
      "source": [
        "Temos acima a **Matriz de Confusão, Acurácia e AUC ROC** para os dois modelos. \n",
        "\n",
        "Agora que já compreendemos melhor o significado das referidas métricas, podemos verificar a ótima performance que o Modelo **KNN** obteve, uma **AUC ROC** de **0.9581**, resultando em uma taxa de acertos bem alta conforme podemos observar na **Matriz de Confusão**.\n",
        "\n",
        "O ideal seria utilizarmos um método de **Cross-Validation** para ver a capacidade de generalização do modelo KNN e ver se os ótimos resultados iriam se manter.\n",
        "\n",
        "> ***Cross-Validation - Validação Cruzada -** é uma técnica utilizada para entender como o seu modelo generaliza, ou seja, se comporta quando vai prever um dado que nunca viu.\n"
      ],
      "metadata": {
        "id": "OFvvSapnxx6C"
      }
    },
    {
      "cell_type": "markdown",
      "metadata": {
        "id": "0Bj7zRZMSfO7"
      },
      "source": [
        "## Conclusão\n",
        "\n",
        "Apesar de uma base de dados padronizada e sem valores ausentes, pudemos aplicar complexidade na construção do nosso modelo de **Machine Learning**, trabalhando com o balanceamento dos dados e normalização das features *Time e Amount*.\n",
        "\n",
        "Submetemos nossos dados a 3 modelos de Machine Learning distintos **Regressão Logística, KNN e Árvore de Decisão**, podendo comparar suas performances e entendendo melhor como analisar suas métricas.\n",
        "\n",
        "Mesmo com os bons resultados, podemos realizar novos testes otimizando os parâmetros e fazendo a Validação Cruzada para validar nosso modelo. \n",
        "\n",
        "Também sempre deve se considerar os custos e benefícios do négocio em qualquer análise.\n",
        "\n",
        "Quanto me custa um ***falso positivo*** além do transtorno gerado ao cliente? Será que se eu parametrizar o meu modelo de forma a classificar mais transações como ***Fraude***, aumentando minha taxa na detecção dos ***Verdadeiros Positivos***, mas em contrapartida duplicando minha taxa de ***Falsos Positivos***, isso vai me gerar um ***Lucro ou um Custo ainda maior?***\n",
        "\n",
        "Conhecer nossos custos e benefícios pode ser a chave para a escolha do modelo de Machine Learning na resolução de determinados problemas.\n",
        "\n",
        "\n",
        "---\n",
        "\n",
        "\n",
        "\n",
        "\n",
        "\n"
      ]
    },
    {
      "cell_type": "markdown",
      "source": [
        "## **Paulo roberto da Silva**\n",
        "*IT Infrastructure Analyst | IT Support Analyst | Junior Python Developer | Junior Data Scientist*\n",
        "\n",
        "[Github](https://github.com/paulors82)\n",
        "\n",
        "[Medium](https://medium.com/@paulors82)\n",
        "\n",
        "[Linkedin](https://www.linkedin.com/in/paulors82/)\n"
      ],
      "metadata": {
        "id": "Chfl0tiGvXXu"
      }
    }
  ]
}