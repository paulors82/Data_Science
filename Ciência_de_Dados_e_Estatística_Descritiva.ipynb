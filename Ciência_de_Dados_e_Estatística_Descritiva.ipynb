{
  "nbformat": 4,
  "nbformat_minor": 0,
  "metadata": {
    "colab": {
      "name": "Ciência de Dados e Estatística Descritiva.ipynb",
      "provenance": [],
      "collapsed_sections": [],
      "toc_visible": true,
      "authorship_tag": "ABX9TyPmFgklIBZIi7YQL97FxzFS",
      "include_colab_link": true
    },
    "kernelspec": {
      "name": "python3",
      "display_name": "Python 3"
    },
    "language_info": {
      "name": "python"
    }
  },
  "cells": [
    {
      "cell_type": "markdown",
      "metadata": {
        "id": "view-in-github",
        "colab_type": "text"
      },
      "source": [
        "<a href=\"https://colab.research.google.com/github/paulors82/Data_Science/blob/main/Ci%C3%AAncia_de_Dados_e_Estat%C3%ADstica_Descritiva.ipynb\" target=\"_parent\"><img src=\"https://colab.research.google.com/assets/colab-badge.svg\" alt=\"Open In Colab\"/></a>"
      ]
    },
    {
      "cell_type": "markdown",
      "metadata": {
        "id": "oLJhRrxvb8xm"
      },
      "source": [
        "<center><img alt=\"Ciência de Dados\" src=\"https://drive.google.com/uc?id=1EiUG1pijSFReP_c8tANVpzEKbtEMqw4M\"></center>\n",
        "\n",
        "\n",
        "# Estatística Descritiva para Ciência de Dados\n",
        "\n",
        "A **Ciência de Dados** tem sido uma das áreas de conhecimento mais valorizadas pelas empresas de diferentes ramos de atuação. Uma das ferramentas mais utilizadas nessa área são os métodos advindos da **estatística**.\n",
        "\n",
        "Na atualidade, estamos vivendo a 4ª Revolução Industrial, onde temos a interconexão de dispositivos gerando grandes volumes de dados diariamente. \n",
        "\n",
        "Em função dessa mudança, organizações públicas e privadas\n",
        "começaram a buscar metodologias capazes de armazenar e processar essa\n",
        "quantidade abundante de dados, a fim de obter informações. Isso mudou\n",
        "a maneira de operar das empresas, tornando-as mais ágeis na tomada de\n",
        "decisões sustentadas por informações extraídas dos dados *(SHARDA;\n",
        "DELEN; TURBAN, 2019).*\n",
        "\n",
        "Nesse contexto temos a **Ciência de Dados** como responsável por todas as etapas do uso dos dados, distribuídas da seguinte forma:\n",
        "\n",
        "**Coleta**\n",
        "\n",
        "**Armazenamento**\n",
        "\n",
        "**Processamento**\n",
        "\n",
        "**Exploração**\n",
        "\n",
        "A **Estatística** trabalha em conjunto com a **Ciência de Dados** nas etapas de ***Processamento dos dados e Exploração dos Resultados***.\n",
        "\n",
        "<center><img alt=\"Estatística e Ciência de Dados\" width=\"30%\" src=\"https://drive.google.com/uc?id=1aX25smx5vWu28KiTwTwz2Hz3yqDcRmpB\"></center>\n",
        "\n",
        "Vamos abordar a **Estatística Descritiva**, primeira etapa da análise de dados, responsável por descrever e resumir os dados por meio de gráficos, tabelas e números.\n"
      ]
    },
    {
      "cell_type": "markdown",
      "metadata": {
        "id": "rFJaUJeyvqB6"
      },
      "source": [
        "## Para análise será utilizada a biblioteca ***Pandas***\n",
        "\n",
        "<center><img alt=\"Pandas e Python\" width=\"10%\" src=\"https://drive.google.com/uc?id=1Az11sBO-nZMOUEyVqKWYm2U9UP1JE5ni\"></center>"
      ]
    },
    {
      "cell_type": "code",
      "metadata": {
        "id": "53b0uq33woKZ"
      },
      "source": [
        "#importando a biblioteca\n",
        "import pandas as pd"
      ],
      "execution_count": null,
      "outputs": []
    },
    {
      "cell_type": "markdown",
      "metadata": {
        "id": "EjDyu5NZwM0z"
      },
      "source": [
        "Agora vamos importar o nosso Dataframe, foi gerado um arquivo de demonstração, onde foi simulada a medição do consumo de energia elétrica de 3 grupos de equipamentos. Os medidores coletavam as informações a cada minuto, a coleta dos dados foi realizada por dois dias seguidos. Lembrando que nosso foco é na ***Estatística Descritiva*** e seus conceitos."
      ]
    },
    {
      "cell_type": "code",
      "metadata": {
        "id": "r1tUJ7J2xJ-B"
      },
      "source": [
        "#Criando dataframe a partir da planilha de excel\n",
        "df = pd.read_excel('/content/sample_data/Consumo_energia.xls')\n"
      ],
      "execution_count": null,
      "outputs": []
    },
    {
      "cell_type": "markdown",
      "metadata": {
        "id": "Yx7H_1b-xO9l"
      },
      "source": [
        "Verificando as dimensões do nosso dataframe\n",
        "\n"
      ]
    },
    {
      "cell_type": "code",
      "metadata": {
        "colab": {
          "base_uri": "https://localhost:8080/"
        },
        "id": "1S5QSv_xzZh2",
        "outputId": "25e8b51b-5ec1-4818-9d25-d8962175f0f7"
      },
      "source": [
        "print('Quantidade de Entradas: ',df.shape[0])\n",
        "print('Variáveis: ',df.shape[1])\n"
      ],
      "execution_count": null,
      "outputs": [
        {
          "output_type": "stream",
          "text": [
            "Quantidade de Entradas:  2880\n",
            "Variáveis:  5\n"
          ],
          "name": "stdout"
        }
      ]
    },
    {
      "cell_type": "code",
      "metadata": {
        "colab": {
          "base_uri": "https://localhost:8080/",
          "height": 197
        },
        "id": "8dBu3iQb9-lm",
        "outputId": "d2d4d231-4356-4f1f-d411-398c8a6f4a47"
      },
      "source": [
        "#Verificando as 5 primeiras linha do Dataframe\n",
        "df.head()"
      ],
      "execution_count": null,
      "outputs": [
        {
          "output_type": "execute_result",
          "data": {
            "text/html": [
              "<div>\n",
              "<style scoped>\n",
              "    .dataframe tbody tr th:only-of-type {\n",
              "        vertical-align: middle;\n",
              "    }\n",
              "\n",
              "    .dataframe tbody tr th {\n",
              "        vertical-align: top;\n",
              "    }\n",
              "\n",
              "    .dataframe thead th {\n",
              "        text-align: right;\n",
              "    }\n",
              "</style>\n",
              "<table border=\"1\" class=\"dataframe\">\n",
              "  <thead>\n",
              "    <tr style=\"text-align: right;\">\n",
              "      <th></th>\n",
              "      <th>Data</th>\n",
              "      <th>Tempo</th>\n",
              "      <th>Grupo1</th>\n",
              "      <th>Grupo2</th>\n",
              "      <th>Grupo3</th>\n",
              "    </tr>\n",
              "  </thead>\n",
              "  <tbody>\n",
              "    <tr>\n",
              "      <th>0</th>\n",
              "      <td>2019-11-24</td>\n",
              "      <td>00:00:00</td>\n",
              "      <td>0</td>\n",
              "      <td>2</td>\n",
              "      <td>0</td>\n",
              "    </tr>\n",
              "    <tr>\n",
              "      <th>1</th>\n",
              "      <td>2019-11-24</td>\n",
              "      <td>00:01:00</td>\n",
              "      <td>0</td>\n",
              "      <td>1</td>\n",
              "      <td>0</td>\n",
              "    </tr>\n",
              "    <tr>\n",
              "      <th>2</th>\n",
              "      <td>2019-11-24</td>\n",
              "      <td>00:02:00</td>\n",
              "      <td>0</td>\n",
              "      <td>2</td>\n",
              "      <td>0</td>\n",
              "    </tr>\n",
              "    <tr>\n",
              "      <th>3</th>\n",
              "      <td>2019-11-24</td>\n",
              "      <td>00:03:00</td>\n",
              "      <td>0</td>\n",
              "      <td>1</td>\n",
              "      <td>0</td>\n",
              "    </tr>\n",
              "    <tr>\n",
              "      <th>4</th>\n",
              "      <td>2019-11-24</td>\n",
              "      <td>00:04:00</td>\n",
              "      <td>0</td>\n",
              "      <td>1</td>\n",
              "      <td>0</td>\n",
              "    </tr>\n",
              "  </tbody>\n",
              "</table>\n",
              "</div>"
            ],
            "text/plain": [
              "         Data     Tempo  Grupo1  Grupo2  Grupo3\n",
              "0  2019-11-24  00:00:00       0       2       0\n",
              "1  2019-11-24  00:01:00       0       1       0\n",
              "2  2019-11-24  00:02:00       0       2       0\n",
              "3  2019-11-24  00:03:00       0       1       0\n",
              "4  2019-11-24  00:04:00       0       1       0"
            ]
          },
          "metadata": {
            "tags": []
          },
          "execution_count": 61
        }
      ]
    },
    {
      "cell_type": "markdown",
      "metadata": {
        "id": "WbET01uFyfrs"
      },
      "source": [
        "Analisando as 5 primeiras linhas podemos observar nossas variáveis:\n",
        "\n",
        "\n",
        "* `Data` : Data da coleta\n",
        "* `Tempo`: Hora da coleta\n",
        "* `Grupo1` : 1º Grupo de Equipamentos com o valor do consumo no determinado tempo\n",
        "* `Grupo2` : 2º Grupo de Equipamentos com o valor do consumo no determinado tempo\n",
        "* `Grupo3` : 3º Grupo de Equipamentos com o valor do consumo no determinado tempo"
      ]
    },
    {
      "cell_type": "code",
      "metadata": {
        "colab": {
          "base_uri": "https://localhost:8080/",
          "height": 287
        },
        "id": "uLnDrJja02JP",
        "outputId": "4d9d5542-58da-44bc-fb68-abecef8bbdeb"
      },
      "source": [
        "#Utilizando método describe para obter informações estatísticas posicionais do Dataframe\n",
        "df.describe()"
      ],
      "execution_count": null,
      "outputs": [
        {
          "output_type": "execute_result",
          "data": {
            "text/html": [
              "<div>\n",
              "<style scoped>\n",
              "    .dataframe tbody tr th:only-of-type {\n",
              "        vertical-align: middle;\n",
              "    }\n",
              "\n",
              "    .dataframe tbody tr th {\n",
              "        vertical-align: top;\n",
              "    }\n",
              "\n",
              "    .dataframe thead th {\n",
              "        text-align: right;\n",
              "    }\n",
              "</style>\n",
              "<table border=\"1\" class=\"dataframe\">\n",
              "  <thead>\n",
              "    <tr style=\"text-align: right;\">\n",
              "      <th></th>\n",
              "      <th>Grupo1</th>\n",
              "      <th>Grupo2</th>\n",
              "      <th>Grupo3</th>\n",
              "    </tr>\n",
              "  </thead>\n",
              "  <tbody>\n",
              "    <tr>\n",
              "      <th>count</th>\n",
              "      <td>2880.000000</td>\n",
              "      <td>2880.000000</td>\n",
              "      <td>2880.000000</td>\n",
              "    </tr>\n",
              "    <tr>\n",
              "      <th>mean</th>\n",
              "      <td>0.754167</td>\n",
              "      <td>1.136806</td>\n",
              "      <td>6.005556</td>\n",
              "    </tr>\n",
              "    <tr>\n",
              "      <th>std</th>\n",
              "      <td>4.909955</td>\n",
              "      <td>5.166895</td>\n",
              "      <td>8.329776</td>\n",
              "    </tr>\n",
              "    <tr>\n",
              "      <th>min</th>\n",
              "      <td>0.000000</td>\n",
              "      <td>0.000000</td>\n",
              "      <td>0.000000</td>\n",
              "    </tr>\n",
              "    <tr>\n",
              "      <th>25%</th>\n",
              "      <td>0.000000</td>\n",
              "      <td>0.000000</td>\n",
              "      <td>0.000000</td>\n",
              "    </tr>\n",
              "    <tr>\n",
              "      <th>50%</th>\n",
              "      <td>0.000000</td>\n",
              "      <td>0.000000</td>\n",
              "      <td>0.000000</td>\n",
              "    </tr>\n",
              "    <tr>\n",
              "      <th>75%</th>\n",
              "      <td>0.000000</td>\n",
              "      <td>1.000000</td>\n",
              "      <td>17.000000</td>\n",
              "    </tr>\n",
              "    <tr>\n",
              "      <th>max</th>\n",
              "      <td>38.000000</td>\n",
              "      <td>40.000000</td>\n",
              "      <td>19.000000</td>\n",
              "    </tr>\n",
              "  </tbody>\n",
              "</table>\n",
              "</div>"
            ],
            "text/plain": [
              "            Grupo1       Grupo2       Grupo3\n",
              "count  2880.000000  2880.000000  2880.000000\n",
              "mean      0.754167     1.136806     6.005556\n",
              "std       4.909955     5.166895     8.329776\n",
              "min       0.000000     0.000000     0.000000\n",
              "25%       0.000000     0.000000     0.000000\n",
              "50%       0.000000     0.000000     0.000000\n",
              "75%       0.000000     1.000000    17.000000\n",
              "max      38.000000    40.000000    19.000000"
            ]
          },
          "metadata": {
            "tags": []
          },
          "execution_count": 56
        }
      ]
    },
    {
      "cell_type": "markdown",
      "metadata": {
        "id": "4m1UUWZTz0WH"
      },
      "source": [
        "Utilizando o método *describe* podemos observar nossos primeiros conceitos da ***Estatística Descritiva***:\n",
        "\n",
        "**Medidas de Posição**\n",
        "\n",
        "A análise de posição visa a resumir um conjunto de dados em geral numa única medida em algum lugar geométrico entre os extremos observados do conjunto (mínimo e máximo).\n",
        "\n",
        "***`Observação: o método describe também retorna o desvio padrão, o mesmo não é uma análise de posição e sim de disperção, conforme veremos a seguir.`***\n",
        "\n",
        "\n",
        "---\n",
        "\n",
        "\n",
        "\n",
        "O Método nos retorna:\n",
        "\n",
        "\n",
        "*   Quantidade de Entradas : *Quantidade de linhas do Dataframe*\n",
        "\n",
        "*   Média (mean) : *Soma de todas as entradas, dividida pelo número de entradas*\n",
        "\n",
        "*   Desvio Padrão (sd): *Veremos a seguir por ser uma análise de dispersão*\n",
        "*   Valor Mínimo (min) : *Menor valor encontrado na amostra*\n",
        "*   1º Quartil (25%) : *25% das amostras ordenadas abaixo, ou seja,\n",
        "é o valor maior do que 25% das observações ordenadas*\n",
        "\n",
        "*   Mediana (Também conhecida como 2º Quartil (50%)) : *50% das amostra ordenadas abaixo,ou seja, é o valor central para um conjunto de observações ordenadas. Significa dizer que 50% dos valores das amostras, são menores que o valor apresentado pela Mediana;* \n",
        "\n",
        "*   3º Quartil (75%) : *75% das amostras ordenadas abaixo, ou seja,\n",
        "é o valor maior do que 75% das observações ordenadas;\n",
        "\n",
        "*   Valor Máximo (max) : *Maior valor encontrado na amostra*\n",
        "\n",
        "\n"
      ]
    },
    {
      "cell_type": "markdown",
      "metadata": {
        "id": "V99t7lrr3ICF"
      },
      "source": [
        "Com os resultados entregues pelo *describe* e com o entendimento do que significa cada retorno do método, podemos obter alguns insights:\n",
        "\n",
        "\n",
        "1.   O grupo com maior consumo no período foi o Grupo3:\n",
        "*`Podemos observar que o Grupo3 obteve a maior média 6.00`*\n",
        "2.   O grupo com maior pico de consumo foi o Grupo2:\n",
        "*`Obteve em seu valor máximo 40.00, superior aos demais`*\n",
        "3.   O grupo onde os equipamentos ficam mais tempo desligados, sem consumo de energia é o Grupo1:\n",
        "*`Como resultado no 3º Quartil apresenta 0.00, ou seja, em 75% das amostras (tempo), os equipamentos não estavam consumindo energia`*\n",
        "\n",
        "\n",
        "\n",
        "\n",
        "\n"
      ]
    },
    {
      "cell_type": "code",
      "metadata": {
        "colab": {
          "base_uri": "https://localhost:8080/",
          "height": 264
        },
        "id": "5YNvB0Es4r_g",
        "outputId": "73000ee6-2f79-4064-cec9-320504d4b2a4"
      },
      "source": [
        "#Plotando um gráfico Boxplot\n",
        "df.plot(kind='box');"
      ],
      "execution_count": null,
      "outputs": [
        {
          "output_type": "display_data",
          "data": {
            "image/png": "[encoded data removed]",
            "text/plain": [
              "<Figure size 432x288 with 1 Axes>"
            ]
          },
          "metadata": {
            "tags": [],
            "needs_background": "light"
          }
        }
      ]
    },
    {
      "cell_type": "markdown",
      "metadata": {
        "id": "w7GoTBE1KCBz"
      },
      "source": [
        "## Gráfico Boxplot\n",
        "Na imagem acima podemos observar o gráfico ***Boxplot*** para nossas 3 variáveis `Grupo1`, `Grupo2`e `Grupo3`.\n",
        "\n",
        "O Boxplot é uma ferramenta gráfica que permite visualizar a distribuição e valores discrepantes (outliers) dos dados, fornecendo assim um meio complementar para desenvolver uma perspectiva sobre o caráter dos dados. Além disso, o boxplot também é uma disposição gráfica comparativa. *` (https://operdata.com.br/blog/como-interpretar-um-boxplot/)`*\n",
        "\n",
        "Ele é formado pelas seguintes medidas da estatística descritiva: mínimo, máximo, primeiro quartil, segundo quartil (mediana) e o terceiro quartil. Sendo praticamente a representação gráfica do método *describe*.\n",
        "\n",
        "A Grande Vantagem do Boxplot é a visualização dos outliers, que pode ser facilmente observado pelos *círculos* no gráfico. Outliers são conhecidos como pontos fora da curva, são valores que se diferenciam muito dos demais.\n",
        "\n",
        "Com a análise dos gráficos podemos reforçar alguns insigths que foram observados anteriormente apenas com o comando *describe*:\n",
        "\n",
        "\n",
        "1.   O `Grupo2` foi quem atingiu o maior pico de consumo, é possivelmente também o grupo que possui um número maior de picos durante o funcionamento: \n",
        "*`Maior número de outliers (ideal era realizar a validação, visto que pelo gráfico não se consegue saber exatamente o número de outliers, pois podem estar sobrepostos.`*\n",
        "\n",
        "\n",
        "1.   O `Grupo1` é onde os equipamentos ficam a maior parte do tempo desligados:\n",
        "*`Retângulo que sinaliza 1º, 2º(Mediana) e 3º quartis posicionado em 0`*\n",
        "\n",
        "\n",
        "2.   No `Grupo3` é onde o consumo é realizado da maneira mais linear, dentro de uma faixa:\n",
        "*`Não há presença de outliers`*\n",
        "\n"
      ]
    },
    {
      "cell_type": "code",
      "metadata": {
        "colab": {
          "base_uri": "https://localhost:8080/"
        },
        "id": "cXv6zg5c5Pxt",
        "outputId": "d8ad9933-0d5e-422c-d1bb-09f04a8502da"
      },
      "source": [
        "\n",
        "#Gerando a moda para cada grupo\n",
        "print('Grupo1 Moda:\\t{}'.format(df.Grupo1.mode()))\n",
        "print('Grupo2 Moda:\\t{}'.format(df.Grupo2.mode()))\n",
        "print('Grupo3 Moda:\\t{}'.format(df.Grupo3.mode()))"
      ],
      "execution_count": null,
      "outputs": [
        {
          "output_type": "stream",
          "text": [
            "Grupo1 Moda:\t0    0\n",
            "dtype: int64\n",
            "Grupo2 Moda:\t0    0\n",
            "dtype: int64\n",
            "Grupo3 Moda:\t0    0\n",
            "dtype: int64\n"
          ],
          "name": "stdout"
        }
      ]
    },
    {
      "cell_type": "markdown",
      "metadata": {
        "id": "PHzG9-08l4iN"
      },
      "source": [
        "Uma outra medida de posição que podemos observar acima é a ***Moda***,\n",
        "valor que ocorre com maior frequência para uma variável.\n",
        "\n",
        "Em nosso Dataframe observamos que para os três grupos a moda tem valor 0, ou seja, o valor que apareeu com maior frequência após cada medição foi 0."
      ]
    },
    {
      "cell_type": "code",
      "metadata": {
        "colab": {
          "base_uri": "https://localhost:8080/"
        },
        "id": "ntgh1SF37ffA",
        "outputId": "8c71109e-1702-4e6d-a94f-c3befad67b0e"
      },
      "source": [
        "\n",
        "#Variância\n",
        "print('Variância:')\n",
        "df.var()"
      ],
      "execution_count": null,
      "outputs": [
        {
          "output_type": "stream",
          "text": [
            "Variância:\n"
          ],
          "name": "stdout"
        },
        {
          "output_type": "execute_result",
          "data": {
            "text/plain": [
              "Grupo1    24.107659\n",
              "Grupo2    26.696804\n",
              "Grupo3    69.385172\n",
              "dtype: float64"
            ]
          },
          "metadata": {
            "tags": []
          },
          "execution_count": 71
        }
      ]
    },
    {
      "cell_type": "markdown",
      "metadata": {
        "id": "I-MIN3qrnx4l"
      },
      "source": [
        "Agora vamos passar a observar um outro grupo de medidas as **Medidas de Dispersão**\n",
        "\n",
        "A primeira que podemos analisar acima é a ***Variância***\n",
        "\n",
        "Ela nos mostra o \"quão longe\" em geral os valores da amostra se encontram em relação à média.\n",
        "\n",
        "Em nosso exemplo observamos que o `Grupo3` é quem possui com folga, a maior variância, o que pode explicar ele ter a maior média de consumo. Como observamos no gráfico de Boxplot, ele não possui `outliers`, seus valores variam de forma constante e não com picos, como nos outros grupos.\n",
        "\n",
        "\n"
      ]
    },
    {
      "cell_type": "code",
      "metadata": {
        "colab": {
          "base_uri": "https://localhost:8080/"
        },
        "id": "FNV94FKd7vqd",
        "outputId": "76081c0a-c32d-484c-fb2a-65a95a4235d3"
      },
      "source": [
        "\n",
        "#Gerando desvio padrão \n",
        "print('Desvio Padrão:')\n",
        "df.std()"
      ],
      "execution_count": null,
      "outputs": [
        {
          "output_type": "stream",
          "text": [
            "Desvio Padrão:\n"
          ],
          "name": "stdout"
        },
        {
          "output_type": "execute_result",
          "data": {
            "text/plain": [
              "Grupo1    4.909955\n",
              "Grupo2    5.166895\n",
              "Grupo3    8.329776\n",
              "dtype: float64"
            ]
          },
          "metadata": {
            "tags": []
          },
          "execution_count": 72
        }
      ]
    },
    {
      "cell_type": "markdown",
      "metadata": {
        "id": "L2j71A_YtsSX"
      },
      "source": [
        "O ***Desvio Padrão*** apesar de ser uma medida de dispersão, também e gerada no comando *describe*.\n",
        "\n",
        "É uma medida que indica o quanto o conjunto de dados é uniforme.\n",
        "Quando o desvio é baixo quer dizer que os dados do conjunto estão mais próximos da média. O Desvio Padrão é definido como a raiz quadrada da Variância.\n",
        "\n",
        "Podemos observar que ***Variância e Desvio Padrão*** tem o mesmo objetivo, verificar a dispersão dos valores em relação a média. \n",
        "\n",
        "A vantagem de se utilizar o Desvio Padrão ao invés da Variância, é que o Desvio Padrão é expresso na mesma unidade dos dados, o que facilita a comparação. "
      ]
    },
    {
      "cell_type": "code",
      "metadata": {
        "colab": {
          "base_uri": "https://localhost:8080/"
        },
        "id": "jlpo6j1A-nlG",
        "outputId": "66af952c-522a-43a1-acff-3638255f1f65"
      },
      "source": [
        "\n",
        "#Gerando amplitude das variáveis\n",
        "print('Amplitude Grupo1: ', df.Grupo1.max() - df.Grupo1.min())\n",
        "print('Amplitude Grupo2: ', df.Grupo2.max() - df.Grupo3.min())\n",
        "print('Amplitude Grupo3: ', df.Grupo3.max() - df.Grupo3.min())"
      ],
      "execution_count": null,
      "outputs": [
        {
          "output_type": "stream",
          "text": [
            "Amplitude Grupo1:  38\n",
            "Amplitude Grupo2:  40\n",
            "Amplitude Grupo3:  19\n"
          ],
          "name": "stdout"
        }
      ]
    },
    {
      "cell_type": "markdown",
      "metadata": {
        "id": "n0LWtM8BvtjV"
      },
      "source": [
        "***A Amplitude*** é dada pela diferença do valor máximo pelo valor mínimo.\n",
        "\n",
        "A maior amplitude do nosso exemplo é do `Grupo2`."
      ]
    },
    {
      "cell_type": "code",
      "metadata": {
        "colab": {
          "base_uri": "https://localhost:8080/"
        },
        "id": "b7_6-GxB_32H",
        "outputId": "6a1173fb-34c1-40fc-b9ed-83ab031c7191"
      },
      "source": [
        "\n",
        "#Coeficiante de variação = Desvio Padrão/Média\n",
        "print('Coeficiente de Variação:')\n",
        "df.std() / df.mean() * 100"
      ],
      "execution_count": null,
      "outputs": [
        {
          "output_type": "stream",
          "text": [
            "Coeficiente de Variação:\n"
          ],
          "name": "stdout"
        },
        {
          "output_type": "execute_result",
          "data": {
            "text/plain": [
              "Grupo1    651.043768\n",
              "Grupo2    454.510006\n",
              "Grupo3    138.701177\n",
              "dtype: float64"
            ]
          },
          "metadata": {
            "tags": []
          },
          "execution_count": 14
        }
      ]
    },
    {
      "cell_type": "markdown",
      "metadata": {
        "id": "wS5ogS2-wPru"
      },
      "source": [
        "***O Coeficiente de Variação*** é uma medida de dispersão relativa. Essa\n",
        "métrica exprime a variabilidade em relação à média, eliminando o efeito da\n",
        "magnitude dos dados *`(DAVILA, [201-?])`*. É extremamente útil para comparar\n",
        "duas ou mais variáveis com unidades de medidas diferentes *`(PETERNELLI,\n",
        "[2013])`*. \n",
        "\n",
        "Como o Coeficiente de Variação é dado em %, conforme dito acima ele é ideal para comparar variáveis com unidades de medidas diferentes.\n",
        "\n",
        "No nosso exemplo o `Grupo3`que tem a maior média e o maior Desvio Padrão, é o que possui o menos Coeficiente de Variação, ou seja, seus dados são mais homogêneos."
      ]
    },
    {
      "cell_type": "markdown",
      "metadata": {
        "id": "B43zh3ev3Ow4"
      },
      "source": [
        "# *Conclusão*\n",
        "\n",
        "Esse estudo nos permitiu conhecer e entender as medidas básicas utilizadas na ***Estatística Descritiva***, bem como suas categorias de análise:\n",
        "\n",
        " *Medidas de Posição e Medidas de Dispersão*.\n",
        "\n",
        "O intuito é darmos o primeiro passo para compreensão dos Métodos Estatísticos, que são uma parte crucial para quem deseja se tornar um Cientista de Dados, ou até mesmo, se tornar um melhor profissional.\n",
        "\n",
        "\n",
        "\n",
        "---\n",
        "\n",
        "\n",
        "\n",
        "\n",
        "> **Paulo Roberto da Silva**\n",
        "\n",
        "\n",
        "*   [Linkedin](https://bityli.com/e2kt1)\n",
        "*   [GitHub](https://github.com/paulors82/Data_Science)\n",
        "*   [Projeto de Análise dos dados do Airbnb - Paris](https://bit.ly/3eCYaCR)\n",
        "\n",
        "\n",
        "---\n",
        "\n",
        "\n",
        "\n",
        "\n"
      ]
    }
  ]
}