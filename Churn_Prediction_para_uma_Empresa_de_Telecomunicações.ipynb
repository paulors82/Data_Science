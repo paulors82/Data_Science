{
  "nbformat": 4,
  "nbformat_minor": 0,
  "metadata": {
    "colab": {
      "name": "Churn Prediction para uma Empresa de Telecomunicações.ipynb",
      "provenance": [],
      "collapsed_sections": [],
      "toc_visible": true,
      "include_colab_link": true
    },
    "kernelspec": {
      "name": "python3",
      "display_name": "Python 3"
    }
  },
  "cells": [
    {
      "cell_type": "markdown",
      "metadata": {
        "id": "view-in-github",
        "colab_type": "text"
      },
      "source": [
        "<a href=\"https://colab.research.google.com/github/paulors82/Data_Science/blob/main/Churn_Prediction_para_uma_Empresa_de_Telecomunica%C3%A7%C3%B5es.ipynb\" target=\"_parent\"><img src=\"https://colab.research.google.com/assets/colab-badge.svg\" alt=\"Open In Colab\"/></a>"
      ]
    },
    {
      "cell_type": "markdown",
      "metadata": {
        "id": "sC2BFMOKN1M7"
      },
      "source": [
        "---\n",
        "---\n",
        "<img alt=\"Colaboratory logo\" width=\"100%\" src=\"https://github.com/paulors82/imagens/blob/gh-pages/banner_DS.png?raw=true\">\n",
        "\n",
        "**PAULO ROBERTO DA SILVA**\n",
        "\n",
        "---"
      ]
    },
    {
      "cell_type": "markdown",
      "source": [
        "# Churn\n",
        "\n",
        "Neste projeto vamos abordar um problema de negócio de extrema importância para a continuidade de uma organização:\n",
        "> ***Churn rate***: *Taxa de Evasão de Clientes*\n",
        "\n",
        "\n",
        "O **Churn rate** representa a taxa de evasão da sua base de clientes, esta métrica é crucial para alguns segmentos de negócio, principalmente para empresas que oferecem determinados serviços, como TV por assinatura, telefonia e [SaaS](https://pt.wikipedia.org/wiki/Software_como_servi%C3%A7o).\n",
        "\n",
        "<p align=center>\n",
        "<img src=\"https://github.com/paulors82/imagens/blob/gh-pages/churn-rate-blog.png?raw=true\" width=\"70%\"></p>\n"
      ],
      "metadata": {
        "id": "ILz4_YyVYKpB"
      }
    },
    {
      "cell_type": "markdown",
      "source": [
        "Para o negócio é primordial conhecer sua ***Churn Rate***, visto que altas taxas de cancelamento podem ser resultado de um problema com a *Experiência do Usuário*, o que pode causar um dano na imagem da empresa quando esses usuários externarem seus feedbacks. \n",
        "\n",
        "Um outro ponto é o custo para aquisição de um novo cliente (CAC). O **CAC** tende a ser consideravelmente mais custoso que a manutenção de um cliente, mensurar o seu valor é de vital importância para auxiliar em campanhas para redução da **Churn rate**.\n",
        "\n",
        "Uma campanha de incentivos ao cliente para redução da *Churn Rate* é o caminho normal a ser seguido, mas esses *incentivos* geram custos para o negócio, aplicar essa medida para toda a sua base de clientes pode ser mais prejudicial do que a sua *Churn Rate*.\n",
        "\n",
        "Nosso projeto visa abordar esse problema elaborando um modelo de **Churn Prediction**.\n",
        "\n",
        "Com base no histórico dos clientes que cancelaram seus serviços, vamos tentar prever a probabilidade de um cliente cancelar seu serviço futuramente, podendo assim nos antecipar e realizar uma campanha de incentivos, não para toda nossa base de clientes, mas para aqueles com maior probabilidade de cancelamento.\n",
        "\n",
        "<p align=center>\n",
        "<img src=\"https://github.com/paulors82/imagens/blob/gh-pages/ai-robot-frame-technology-abstra.jpg?raw=true\" width=\"70%\"></p>"
      ],
      "metadata": {
        "id": "Czp4evkYdrJz"
      }
    },
    {
      "cell_type": "markdown",
      "source": [
        "# Churn Prediction"
      ],
      "metadata": {
        "id": "JXeuViCgpSW_"
      }
    },
    {
      "cell_type": "markdown",
      "metadata": {
        "id": "0HVmpIxQWT4Y"
      },
      "source": [
        "## Aquisição dos Dados\n",
        "\n",
        "Os dados utilizados neste projeto foram originalmente disponibilizados na [plataforma de ensino da IBM Developer](https://developer.ibm.com/technologies/data-science/patterns/predict-customer-churn-using-watson-studio-and-jupyter-notebooks/#), e tratam de um problema típico de uma companhia de telecomunicações. O *dataset* completo pode ser encontrado [neste link](https://raw.githubusercontent.com/carlosfab/dsnp2/master/datasets/WA_Fn-UseC_-Telco-Customer-Churn.csv).\n",
        "\n",
        "Apesar de não haver informações explícitas disponíves, os nomes das colunas permitem um entendimento a respeito do problema."
      ]
    },
    {
      "cell_type": "markdown",
      "source": [
        "###Vamos iniciar nosso projeto importando alguns pacotes necessários, bem como nosso Dataset"
      ],
      "metadata": {
        "id": "BkAixAOpXqE4"
      }
    },
    {
      "cell_type": "code",
      "metadata": {
        "id": "oQ4bNy7udtEE"
      },
      "source": [
        "# importar os pacotes necessários\n",
        "import pandas as pd\n",
        "import matplotlib.pyplot as plt\n",
        "import seaborn as sns\n",
        "from sklearn.preprocessing import OneHotEncoder"
      ],
      "execution_count": 2,
      "outputs": []
    },
    {
      "cell_type": "code",
      "source": [
        "# importar os dados os dados para um dataframe\n",
        "DATA_PATH = \"https://raw.githubusercontent.com/carlosfab/dsnp2/master/datasets/WA_Fn-UseC_-Telco-Customer-Churn.csv\"\n",
        "df = pd.read_csv(DATA_PATH)"
      ],
      "metadata": {
        "id": "CnhEQwiQ9N8w"
      },
      "execution_count": 3,
      "outputs": []
    },
    {
      "cell_type": "markdown",
      "source": [
        "Com os dados importados para uma estrutura de *Dataframe*, vamos iniciar o processo de Análise Exploratória do nosso conjunto."
      ],
      "metadata": {
        "id": "8mE9yC5rX7VO"
      }
    },
    {
      "cell_type": "markdown",
      "source": [
        "##Análise Exploratória\n",
        "\n",
        "Na análise exlporatória vamos conhecer mais sobre nossa estrutura de dados, analisando seu dimensionamento, balanceamento, valores ausentes, tipos das features, dentre outros."
      ],
      "metadata": {
        "id": "b-09STZnYWfo"
      }
    },
    {
      "cell_type": "markdown",
      "source": [
        "###Conhecendo o Dataset"
      ],
      "metadata": {
        "id": "wQ1yffh7Yx0u"
      }
    },
    {
      "cell_type": "code",
      "source": [
        "# ver as 5 primeiras entradas\n",
        "df.head()"
      ],
      "metadata": {
        "colab": {
          "base_uri": "https://localhost:8080/",
          "height": 386
        },
        "id": "H3TveesuYPDA",
        "outputId": "6d34d8a4-1e6e-4b74-bed1-53f74804fa0f"
      },
      "execution_count": 4,
      "outputs": [
        {
          "output_type": "execute_result",
          "data": {
            "text/plain": [
              "   customerID  gender  SeniorCitizen Partner Dependents  tenure PhoneService  \\\n",
              "0  7590-VHVEG  Female              0     Yes         No       1           No   \n",
              "1  5575-GNVDE    Male              0      No         No      34          Yes   \n",
              "2  3668-QPYBK    Male              0      No         No       2          Yes   \n",
              "3  7795-CFOCW    Male              0      No         No      45           No   \n",
              "4  9237-HQITU  Female              0      No         No       2          Yes   \n",
              "\n",
              "      MultipleLines InternetService OnlineSecurity  ... DeviceProtection  \\\n",
              "0  No phone service             DSL             No  ...               No   \n",
              "1                No             DSL            Yes  ...              Yes   \n",
              "2                No             DSL            Yes  ...               No   \n",
              "3  No phone service             DSL            Yes  ...              Yes   \n",
              "4                No     Fiber optic             No  ...               No   \n",
              "\n",
              "  TechSupport StreamingTV StreamingMovies        Contract PaperlessBilling  \\\n",
              "0          No          No              No  Month-to-month              Yes   \n",
              "1          No          No              No        One year               No   \n",
              "2          No          No              No  Month-to-month              Yes   \n",
              "3         Yes          No              No        One year               No   \n",
              "4          No          No              No  Month-to-month              Yes   \n",
              "\n",
              "               PaymentMethod MonthlyCharges  TotalCharges Churn  \n",
              "0           Electronic check          29.85         29.85    No  \n",
              "1               Mailed check          56.95        1889.5    No  \n",
              "2               Mailed check          53.85        108.15   Yes  \n",
              "3  Bank transfer (automatic)          42.30       1840.75    No  \n",
              "4           Electronic check          70.70        151.65   Yes  \n",
              "\n",
              "[5 rows x 21 columns]"
            ],
            "text/html": [
              "\n",
              "  <div id=\"df-36161fb9-e0d4-41eb-8f42-4ab1be071357\">\n",
              "    <div class=\"colab-df-container\">\n",
              "      <div>\n",
              "<style scoped>\n",
              "    .dataframe tbody tr th:only-of-type {\n",
              "        vertical-align: middle;\n",
              "    }\n",
              "\n",
              "    .dataframe tbody tr th {\n",
              "        vertical-align: top;\n",
              "    }\n",
              "\n",
              "    .dataframe thead th {\n",
              "        text-align: right;\n",
              "    }\n",
              "</style>\n",
              "<table border=\"1\" class=\"dataframe\">\n",
              "  <thead>\n",
              "    <tr style=\"text-align: right;\">\n",
              "      <th></th>\n",
              "      <th>customerID</th>\n",
              "      <th>gender</th>\n",
              "      <th>SeniorCitizen</th>\n",
              "      <th>Partner</th>\n",
              "      <th>Dependents</th>\n",
              "      <th>tenure</th>\n",
              "      <th>PhoneService</th>\n",
              "      <th>MultipleLines</th>\n",
              "      <th>InternetService</th>\n",
              "      <th>OnlineSecurity</th>\n",
              "      <th>...</th>\n",
              "      <th>DeviceProtection</th>\n",
              "      <th>TechSupport</th>\n",
              "      <th>StreamingTV</th>\n",
              "      <th>StreamingMovies</th>\n",
              "      <th>Contract</th>\n",
              "      <th>PaperlessBilling</th>\n",
              "      <th>PaymentMethod</th>\n",
              "      <th>MonthlyCharges</th>\n",
              "      <th>TotalCharges</th>\n",
              "      <th>Churn</th>\n",
              "    </tr>\n",
              "  </thead>\n",
              "  <tbody>\n",
              "    <tr>\n",
              "      <th>0</th>\n",
              "      <td>7590-VHVEG</td>\n",
              "      <td>Female</td>\n",
              "      <td>0</td>\n",
              "      <td>Yes</td>\n",
              "      <td>No</td>\n",
              "      <td>1</td>\n",
              "      <td>No</td>\n",
              "      <td>No phone service</td>\n",
              "      <td>DSL</td>\n",
              "      <td>No</td>\n",
              "      <td>...</td>\n",
              "      <td>No</td>\n",
              "      <td>No</td>\n",
              "      <td>No</td>\n",
              "      <td>No</td>\n",
              "      <td>Month-to-month</td>\n",
              "      <td>Yes</td>\n",
              "      <td>Electronic check</td>\n",
              "      <td>29.85</td>\n",
              "      <td>29.85</td>\n",
              "      <td>No</td>\n",
              "    </tr>\n",
              "    <tr>\n",
              "      <th>1</th>\n",
              "      <td>5575-GNVDE</td>\n",
              "      <td>Male</td>\n",
              "      <td>0</td>\n",
              "      <td>No</td>\n",
              "      <td>No</td>\n",
              "      <td>34</td>\n",
              "      <td>Yes</td>\n",
              "      <td>No</td>\n",
              "      <td>DSL</td>\n",
              "      <td>Yes</td>\n",
              "      <td>...</td>\n",
              "      <td>Yes</td>\n",
              "      <td>No</td>\n",
              "      <td>No</td>\n",
              "      <td>No</td>\n",
              "      <td>One year</td>\n",
              "      <td>No</td>\n",
              "      <td>Mailed check</td>\n",
              "      <td>56.95</td>\n",
              "      <td>1889.5</td>\n",
              "      <td>No</td>\n",
              "    </tr>\n",
              "    <tr>\n",
              "      <th>2</th>\n",
              "      <td>3668-QPYBK</td>\n",
              "      <td>Male</td>\n",
              "      <td>0</td>\n",
              "      <td>No</td>\n",
              "      <td>No</td>\n",
              "      <td>2</td>\n",
              "      <td>Yes</td>\n",
              "      <td>No</td>\n",
              "      <td>DSL</td>\n",
              "      <td>Yes</td>\n",
              "      <td>...</td>\n",
              "      <td>No</td>\n",
              "      <td>No</td>\n",
              "      <td>No</td>\n",
              "      <td>No</td>\n",
              "      <td>Month-to-month</td>\n",
              "      <td>Yes</td>\n",
              "      <td>Mailed check</td>\n",
              "      <td>53.85</td>\n",
              "      <td>108.15</td>\n",
              "      <td>Yes</td>\n",
              "    </tr>\n",
              "    <tr>\n",
              "      <th>3</th>\n",
              "      <td>7795-CFOCW</td>\n",
              "      <td>Male</td>\n",
              "      <td>0</td>\n",
              "      <td>No</td>\n",
              "      <td>No</td>\n",
              "      <td>45</td>\n",
              "      <td>No</td>\n",
              "      <td>No phone service</td>\n",
              "      <td>DSL</td>\n",
              "      <td>Yes</td>\n",
              "      <td>...</td>\n",
              "      <td>Yes</td>\n",
              "      <td>Yes</td>\n",
              "      <td>No</td>\n",
              "      <td>No</td>\n",
              "      <td>One year</td>\n",
              "      <td>No</td>\n",
              "      <td>Bank transfer (automatic)</td>\n",
              "      <td>42.30</td>\n",
              "      <td>1840.75</td>\n",
              "      <td>No</td>\n",
              "    </tr>\n",
              "    <tr>\n",
              "      <th>4</th>\n",
              "      <td>9237-HQITU</td>\n",
              "      <td>Female</td>\n",
              "      <td>0</td>\n",
              "      <td>No</td>\n",
              "      <td>No</td>\n",
              "      <td>2</td>\n",
              "      <td>Yes</td>\n",
              "      <td>No</td>\n",
              "      <td>Fiber optic</td>\n",
              "      <td>No</td>\n",
              "      <td>...</td>\n",
              "      <td>No</td>\n",
              "      <td>No</td>\n",
              "      <td>No</td>\n",
              "      <td>No</td>\n",
              "      <td>Month-to-month</td>\n",
              "      <td>Yes</td>\n",
              "      <td>Electronic check</td>\n",
              "      <td>70.70</td>\n",
              "      <td>151.65</td>\n",
              "      <td>Yes</td>\n",
              "    </tr>\n",
              "  </tbody>\n",
              "</table>\n",
              "<p>5 rows × 21 columns</p>\n",
              "</div>\n",
              "      <button class=\"colab-df-convert\" onclick=\"convertToInteractive('df-36161fb9-e0d4-41eb-8f42-4ab1be071357')\"\n",
              "              title=\"Convert this dataframe to an interactive table.\"\n",
              "              style=\"display:none;\">\n",
              "        \n",
              "  <svg xmlns=\"http://www.w3.org/2000/svg\" height=\"24px\"viewBox=\"0 0 24 24\"\n",
              "       width=\"24px\">\n",
              "    <path d=\"M0 0h24v24H0V0z\" fill=\"none\"/>\n",
              "    <path d=\"M18.56 5.44l.94 2.06.94-2.06 2.06-.94-2.06-.94-.94-2.06-.94 2.06-2.06.94zm-11 1L8.5 8.5l.94-2.06 2.06-.94-2.06-.94L8.5 2.5l-.94 2.06-2.06.94zm10 10l.94 2.06.94-2.06 2.06-.94-2.06-.94-.94-2.06-.94 2.06-2.06.94z\"/><path d=\"M17.41 7.96l-1.37-1.37c-.4-.4-.92-.59-1.43-.59-.52 0-1.04.2-1.43.59L10.3 9.45l-7.72 7.72c-.78.78-.78 2.05 0 2.83L4 21.41c.39.39.9.59 1.41.59.51 0 1.02-.2 1.41-.59l7.78-7.78 2.81-2.81c.8-.78.8-2.07 0-2.86zM5.41 20L4 18.59l7.72-7.72 1.47 1.35L5.41 20z\"/>\n",
              "  </svg>\n",
              "      </button>\n",
              "      \n",
              "  <style>\n",
              "    .colab-df-container {\n",
              "      display:flex;\n",
              "      flex-wrap:wrap;\n",
              "      gap: 12px;\n",
              "    }\n",
              "\n",
              "    .colab-df-convert {\n",
              "      background-color: #E8F0FE;\n",
              "      border: none;\n",
              "      border-radius: 50%;\n",
              "      cursor: pointer;\n",
              "      display: none;\n",
              "      fill: #1967D2;\n",
              "      height: 32px;\n",
              "      padding: 0 0 0 0;\n",
              "      width: 32px;\n",
              "    }\n",
              "\n",
              "    .colab-df-convert:hover {\n",
              "      background-color: #E2EBFA;\n",
              "      box-shadow: 0px 1px 2px rgba(60, 64, 67, 0.3), 0px 1px 3px 1px rgba(60, 64, 67, 0.15);\n",
              "      fill: #174EA6;\n",
              "    }\n",
              "\n",
              "    [theme=dark] .colab-df-convert {\n",
              "      background-color: #3B4455;\n",
              "      fill: #D2E3FC;\n",
              "    }\n",
              "\n",
              "    [theme=dark] .colab-df-convert:hover {\n",
              "      background-color: #434B5C;\n",
              "      box-shadow: 0px 1px 3px 1px rgba(0, 0, 0, 0.15);\n",
              "      filter: drop-shadow(0px 1px 2px rgba(0, 0, 0, 0.3));\n",
              "      fill: #FFFFFF;\n",
              "    }\n",
              "  </style>\n",
              "\n",
              "      <script>\n",
              "        const buttonEl =\n",
              "          document.querySelector('#df-36161fb9-e0d4-41eb-8f42-4ab1be071357 button.colab-df-convert');\n",
              "        buttonEl.style.display =\n",
              "          google.colab.kernel.accessAllowed ? 'block' : 'none';\n",
              "\n",
              "        async function convertToInteractive(key) {\n",
              "          const element = document.querySelector('#df-36161fb9-e0d4-41eb-8f42-4ab1be071357');\n",
              "          const dataTable =\n",
              "            await google.colab.kernel.invokeFunction('convertToInteractive',\n",
              "                                                     [key], {});\n",
              "          if (!dataTable) return;\n",
              "\n",
              "          const docLinkHtml = 'Like what you see? Visit the ' +\n",
              "            '<a target=\"_blank\" href=https://colab.research.google.com/notebooks/data_table.ipynb>data table notebook</a>'\n",
              "            + ' to learn more about interactive tables.';\n",
              "          element.innerHTML = '';\n",
              "          dataTable['output_type'] = 'display_data';\n",
              "          await google.colab.output.renderOutput(dataTable, element);\n",
              "          const docLink = document.createElement('div');\n",
              "          docLink.innerHTML = docLinkHtml;\n",
              "          element.appendChild(docLink);\n",
              "        }\n",
              "      </script>\n",
              "    </div>\n",
              "  </div>\n",
              "  "
            ]
          },
          "metadata": {},
          "execution_count": 4
        }
      ]
    },
    {
      "cell_type": "markdown",
      "source": [
        "Podemos observar que as features são em sua maioria composta por ***dados categóricos***, será necessário uma transformação nos dados para que não haja incompatibilidade com o modelo de Machine Learning que iremos utilizar. \n",
        "\n",
        "Nossa feature alvo será **Churn**, que inidica se um cliente cancelou o serviço ou não."
      ],
      "metadata": {
        "id": "K52Bm6AlY7AF"
      }
    },
    {
      "cell_type": "markdown",
      "source": [
        "###Análise dos tipos das Features"
      ],
      "metadata": {
        "id": "f0WUXktJczIO"
      }
    },
    {
      "cell_type": "code",
      "source": [
        "#Verificando quais são nossas features e o seu tipo\n",
        "print('\\nTipo das features do Dataset\\n')\n",
        "display(df.dtypes)"
      ],
      "metadata": {
        "id": "Ze9WHf6ZcUEf",
        "colab": {
          "base_uri": "https://localhost:8080/",
          "height": 451
        },
        "outputId": "7bb040b7-d5c8-4f38-99cb-b17f66201cd2"
      },
      "execution_count": 5,
      "outputs": [
        {
          "output_type": "stream",
          "name": "stdout",
          "text": [
            "\n",
            "Tipo das features do Dataset\n",
            "\n"
          ]
        },
        {
          "output_type": "display_data",
          "data": {
            "text/plain": [
              "customerID           object\n",
              "gender               object\n",
              "SeniorCitizen         int64\n",
              "Partner              object\n",
              "Dependents           object\n",
              "tenure                int64\n",
              "PhoneService         object\n",
              "MultipleLines        object\n",
              "InternetService      object\n",
              "OnlineSecurity       object\n",
              "OnlineBackup         object\n",
              "DeviceProtection     object\n",
              "TechSupport          object\n",
              "StreamingTV          object\n",
              "StreamingMovies      object\n",
              "Contract             object\n",
              "PaperlessBilling     object\n",
              "PaymentMethod        object\n",
              "MonthlyCharges      float64\n",
              "TotalCharges         object\n",
              "Churn                object\n",
              "dtype: object"
            ]
          },
          "metadata": {}
        }
      ]
    },
    {
      "cell_type": "markdown",
      "source": [
        "Conforme verificado anteriormente, temos apenas 3 features com dados númericos: ***'SeniorCitizen', 'tenure' e 'MontlhyCharges'***. O que é um problema para nosso modelo de Machine Learning."
      ],
      "metadata": {
        "id": "s5DP0ej9dJ6H"
      }
    },
    {
      "cell_type": "markdown",
      "source": [
        "###Dimensionamento do Conjunto de Dados"
      ],
      "metadata": {
        "id": "dchCPOx9d6ZN"
      }
    },
    {
      "cell_type": "code",
      "source": [
        "print('Features: {}'.format(df.shape[1]))\n",
        "print('Clientes: {}\\n'.format(df.shape[0]))"
      ],
      "metadata": {
        "colab": {
          "base_uri": "https://localhost:8080/"
        },
        "id": "BjBvye5fdIch",
        "outputId": "07ca5413-0f55-4772-bf24-cdaa0a61ba8e"
      },
      "execution_count": 6,
      "outputs": [
        {
          "output_type": "stream",
          "name": "stdout",
          "text": [
            "Features: 21\n",
            "Clientes: 7043\n",
            "\n"
          ]
        }
      ]
    },
    {
      "cell_type": "markdown",
      "source": [
        "Temos ***21 features*** e ***7043 registros*** em nosso Dataset"
      ],
      "metadata": {
        "id": "CsO-IhrseEDz"
      }
    },
    {
      "cell_type": "markdown",
      "source": [
        "###Valores Ausentes"
      ],
      "metadata": {
        "id": "AY9wQugdech2"
      }
    },
    {
      "cell_type": "code",
      "source": [
        "#Verificando Valores Ausentes\n",
        "\n",
        "print('Valores Ausentes:\\n\\n',(df.isnull().sum() / df.shape[0]).sort_values(ascending=False))"
      ],
      "metadata": {
        "colab": {
          "base_uri": "https://localhost:8080/"
        },
        "id": "skauPDzbd4AW",
        "outputId": "99fa040f-ac81-437d-a5b4-3237b4696264"
      },
      "execution_count": 7,
      "outputs": [
        {
          "output_type": "stream",
          "name": "stdout",
          "text": [
            "Valores Ausentes:\n",
            "\n",
            " customerID          0.0\n",
            "DeviceProtection    0.0\n",
            "TotalCharges        0.0\n",
            "MonthlyCharges      0.0\n",
            "PaymentMethod       0.0\n",
            "PaperlessBilling    0.0\n",
            "Contract            0.0\n",
            "StreamingMovies     0.0\n",
            "StreamingTV         0.0\n",
            "TechSupport         0.0\n",
            "OnlineBackup        0.0\n",
            "gender              0.0\n",
            "OnlineSecurity      0.0\n",
            "InternetService     0.0\n",
            "MultipleLines       0.0\n",
            "PhoneService        0.0\n",
            "tenure              0.0\n",
            "Dependents          0.0\n",
            "Partner             0.0\n",
            "SeniorCitizen       0.0\n",
            "Churn               0.0\n",
            "dtype: float64\n"
          ]
        }
      ]
    },
    {
      "cell_type": "markdown",
      "source": [
        "O Dataset não possui valores ausentes. Vamos verificar o balanceamento dos dados para nossa feature alvo *Churn*, que nos indica quando o cliente cancelou o serviço (Yes), ou se o cliente continua ativo (No)."
      ],
      "metadata": {
        "id": "sEXKRvIPgiMY"
      }
    },
    {
      "cell_type": "markdown",
      "source": [
        "###Balanceamento dos Dados"
      ],
      "metadata": {
        "id": "n-8H9bgyhIZn"
      }
    },
    {
      "cell_type": "code",
      "source": [
        "print('Verificando o balanceamento para nossa variável alvo\\n')\n",
        "print('Churn: {} registros\\n'.format(df.Churn.value_counts()['Yes']))\n",
        "print('Não Churn: {} registros\\n'.format(df.Churn.value_counts()['No']))\n",
        "print('Taxa de Churn: {:.4}%\\n'.format((df.Churn.value_counts()['Yes']/df.shape[0])*100))\n",
        "\n",
        "fig, ax = plt.subplots(figsize=(10,6), dpi=72)\n",
        "sns.countplot(x='Churn', y=None, data=df, ax=ax)\n",
        "plt.show()"
      ],
      "metadata": {
        "colab": {
          "base_uri": "https://localhost:8080/",
          "height": 527
        },
        "id": "2XWwwLM-rQpR",
        "outputId": "c3a149c6-b8a0-480a-8ae8-90efa1b4cc2b"
      },
      "execution_count": 8,
      "outputs": [
        {
          "output_type": "stream",
          "name": "stdout",
          "text": [
            "Verificando o balanceamento para nossa variável alvo\n",
            "\n",
            "Churn: 1869 registros\n",
            "\n",
            "Não Churn: 5174 registros\n",
            "\n",
            "Taxa de Churn: 26.54%\n",
            "\n"
          ]
        },
        {
          "output_type": "display_data",
          "data": {
            "text/plain": [
              "<Figure size 720x432 with 1 Axes>"
            ],
            "image/png": "[encoded data removed]"
          },
          "metadata": {
            "needs_background": "light"
          }
        }
      ]
    },
    {
      "cell_type": "markdown",
      "source": [
        "Podemos verificar um leve desbalanceamento para nossa feature alvo, o que pode atrapalhar nosso modelo de Machine Learning. \n",
        "\n",
        "Mais adiante veremos se o balanceamento dos dados irá nos oferecer algum benefício."
      ],
      "metadata": {
        "id": "zBrib_w7rCNN"
      }
    },
    {
      "cell_type": "markdown",
      "source": [
        "###Outliers\n",
        "\n",
        "Agora vamos verificar a presença de outliers para nossas features numéricas.\n",
        "\n",
        ">***Outlier:*** valor aberrante ou valor atípico, é uma observação que apresenta um grande afastamento das demais da série, ou que é inconsistente. A existência de outliers implica, tipicamente, em prejuízos à interpretação dos resultados dos testes estatísticos aplicados às amostras. *(fonte wikipédia)*\n",
        "\n",
        "\n",
        "Relembrando temos 3 features numéricas em nosso Dataframe *'SeniorCitizen', 'tenure' e 'MontlhyCharges'*. Mas se analisarmos melhor, temos também a feature *'TotalCharges'*, que está como *type object*, mas contém dados numéricos, como podemos ver a seguir:"
      ],
      "metadata": {
        "id": "aLdti-6fvv-W"
      }
    },
    {
      "cell_type": "code",
      "source": [
        "df['TotalCharges'].head()\n"
      ],
      "metadata": {
        "colab": {
          "base_uri": "https://localhost:8080/"
        },
        "id": "fYyVFWb5w4UW",
        "outputId": "2dc2e845-b9e4-4f22-db7b-c304f255b1da"
      },
      "execution_count": 9,
      "outputs": [
        {
          "output_type": "execute_result",
          "data": {
            "text/plain": [
              "0      29.85\n",
              "1     1889.5\n",
              "2     108.15\n",
              "3    1840.75\n",
              "4     151.65\n",
              "Name: TotalCharges, dtype: object"
            ]
          },
          "metadata": {},
          "execution_count": 9
        }
      ]
    },
    {
      "cell_type": "markdown",
      "source": [
        "Para analisarmos se a feature *'TotalCharges'* possui outlier será necessário transformarmos a mesma para o tipo *float*. \n",
        "\n",
        "Vamos adiantar essa parte da Preparação dos Dados para ser possível finalizarmos nossa Análise Exploratória."
      ],
      "metadata": {
        "id": "9NR3URLUxpqG"
      }
    },
    {
      "cell_type": "code",
      "source": [
        "#transformando a feature \"TotalCharges\" do tipo 'object' para 'float'\n",
        "df['TotalCharges'] = pd.to_numeric(df['TotalCharges'], errors = 'coerce')\n",
        "df['TotalCharges'].head()\n"
      ],
      "metadata": {
        "colab": {
          "base_uri": "https://localhost:8080/"
        },
        "id": "OkumjEfOzFOK",
        "outputId": "09ce04ab-b894-4c26-8071-7a7de7bae5a7"
      },
      "execution_count": 10,
      "outputs": [
        {
          "output_type": "execute_result",
          "data": {
            "text/plain": [
              "0      29.85\n",
              "1    1889.50\n",
              "2     108.15\n",
              "3    1840.75\n",
              "4     151.65\n",
              "Name: TotalCharges, dtype: float64"
            ]
          },
          "metadata": {},
          "execution_count": 10
        }
      ]
    },
    {
      "cell_type": "markdown",
      "source": [
        "Após a transformação da feature vamos verificar se a mesma possui valores ausentes, pois como específicamos no comando o parâmetro *errors = 'coerce'*, no caso de erro na conversão, o valor vai ser inserido como NaN."
      ],
      "metadata": {
        "id": "nS_RiLGTtbDt"
      }
    },
    {
      "cell_type": "code",
      "source": [
        "#Verificando valores ausentes TotalCharges\n",
        "\n",
        "print('Valores Ausentes \"TotalCharges\":',(df['TotalCharges'].isnull().sum()))"
      ],
      "metadata": {
        "colab": {
          "base_uri": "https://localhost:8080/"
        },
        "id": "89XPM2YlufvA",
        "outputId": "0226c1c8-b40d-435f-e59f-02e1bc8e6bc1"
      },
      "execution_count": 11,
      "outputs": [
        {
          "output_type": "stream",
          "name": "stdout",
          "text": [
            "Valores Ausentes \"TotalCharges\": 11\n"
          ]
        }
      ]
    },
    {
      "cell_type": "markdown",
      "source": [
        "Temos 11 valores ausentes para a feature *'TotalCharges'*, nosso dataset possui 7043 registros, os registros ausentes representam apenas 0,16% do total, logo podemos excluir esses registros sem perda de informação no dataset."
      ],
      "metadata": {
        "id": "r0aI9B4WvKU0"
      }
    },
    {
      "cell_type": "code",
      "source": [
        "#Excluindo valores ausentes\n",
        "df = df.dropna()\n",
        "print('Valores Ausentes \"TotalCharges\":',(df['TotalCharges'].isnull().sum()))"
      ],
      "metadata": {
        "colab": {
          "base_uri": "https://localhost:8080/"
        },
        "id": "WZbcJGjGv0wW",
        "outputId": "fe002ebd-bb45-497e-fc0b-3b2a71c1bb51"
      },
      "execution_count": 12,
      "outputs": [
        {
          "output_type": "stream",
          "name": "stdout",
          "text": [
            "Valores Ausentes \"TotalCharges\": 0\n"
          ]
        }
      ]
    },
    {
      "cell_type": "markdown",
      "source": [
        "Após a transformação da feature *'TotalCharges'* e exclusão dos valores ausentes, vamos verificar a presença de outliers para nossas features númericas 'tenure', 'MontlhyCharges' e 'TotalCharges', não iremos verificar a feature 'SeniorCitizen', pois a mesma só possui 2 valores 0 e 1, veja abaixo:"
      ],
      "metadata": {
        "id": "XiuV2CTmztHw"
      }
    },
    {
      "cell_type": "code",
      "source": [
        "#verificando valores únicos para a variável SeniorCitizen\n",
        "print('Quantidade de valores únicos \"SeniorCitizen\": ', len(df['SeniorCitizen'].unique()))\n",
        "print('Valores únicos para SeniorCitizen: ', df['SeniorCitizen'].unique())\n"
      ],
      "metadata": {
        "colab": {
          "base_uri": "https://localhost:8080/"
        },
        "id": "F1WZ3Hgd0u9Q",
        "outputId": "9442df66-d11c-4368-9a96-e45fcc966255"
      },
      "execution_count": 13,
      "outputs": [
        {
          "output_type": "stream",
          "name": "stdout",
          "text": [
            "Quantidade de valores únicos \"SeniorCitizen\":  2\n",
            "Valores únicos para SeniorCitizen:  [0 1]\n"
          ]
        }
      ]
    },
    {
      "cell_type": "markdown",
      "source": [
        "####Resumo Estatístico\n",
        "\n",
        "Vamos utiliar o *describe* para verificar o resumo estatístico das features e analisar se identificamos anomalias.\n",
        "\n"
      ],
      "metadata": {
        "id": "xicL8Weu_zke"
      }
    },
    {
      "cell_type": "code",
      "source": [
        "#Verificando o resumo estatístico das variáveis numéricas para verificar presença de outliers\n",
        "df[['tenure', 'MonthlyCharges', 'TotalCharges']].describe()"
      ],
      "metadata": {
        "colab": {
          "base_uri": "https://localhost:8080/",
          "height": 300
        },
        "id": "4cl1lyReDvEz",
        "outputId": "19ab4055-3139-4393-b558-1887c9e02610"
      },
      "execution_count": 14,
      "outputs": [
        {
          "output_type": "execute_result",
          "data": {
            "text/plain": [
              "            tenure  MonthlyCharges  TotalCharges\n",
              "count  7032.000000     7032.000000   7032.000000\n",
              "mean     32.421786       64.798208   2283.300441\n",
              "std      24.545260       30.085974   2266.771362\n",
              "min       1.000000       18.250000     18.800000\n",
              "25%       9.000000       35.587500    401.450000\n",
              "50%      29.000000       70.350000   1397.475000\n",
              "75%      55.000000       89.862500   3794.737500\n",
              "max      72.000000      118.750000   8684.800000"
            ],
            "text/html": [
              "\n",
              "  <div id=\"df-05732fa9-640b-4c6d-8c78-75017812388d\">\n",
              "    <div class=\"colab-df-container\">\n",
              "      <div>\n",
              "<style scoped>\n",
              "    .dataframe tbody tr th:only-of-type {\n",
              "        vertical-align: middle;\n",
              "    }\n",
              "\n",
              "    .dataframe tbody tr th {\n",
              "        vertical-align: top;\n",
              "    }\n",
              "\n",
              "    .dataframe thead th {\n",
              "        text-align: right;\n",
              "    }\n",
              "</style>\n",
              "<table border=\"1\" class=\"dataframe\">\n",
              "  <thead>\n",
              "    <tr style=\"text-align: right;\">\n",
              "      <th></th>\n",
              "      <th>tenure</th>\n",
              "      <th>MonthlyCharges</th>\n",
              "      <th>TotalCharges</th>\n",
              "    </tr>\n",
              "  </thead>\n",
              "  <tbody>\n",
              "    <tr>\n",
              "      <th>count</th>\n",
              "      <td>7032.000000</td>\n",
              "      <td>7032.000000</td>\n",
              "      <td>7032.000000</td>\n",
              "    </tr>\n",
              "    <tr>\n",
              "      <th>mean</th>\n",
              "      <td>32.421786</td>\n",
              "      <td>64.798208</td>\n",
              "      <td>2283.300441</td>\n",
              "    </tr>\n",
              "    <tr>\n",
              "      <th>std</th>\n",
              "      <td>24.545260</td>\n",
              "      <td>30.085974</td>\n",
              "      <td>2266.771362</td>\n",
              "    </tr>\n",
              "    <tr>\n",
              "      <th>min</th>\n",
              "      <td>1.000000</td>\n",
              "      <td>18.250000</td>\n",
              "      <td>18.800000</td>\n",
              "    </tr>\n",
              "    <tr>\n",
              "      <th>25%</th>\n",
              "      <td>9.000000</td>\n",
              "      <td>35.587500</td>\n",
              "      <td>401.450000</td>\n",
              "    </tr>\n",
              "    <tr>\n",
              "      <th>50%</th>\n",
              "      <td>29.000000</td>\n",
              "      <td>70.350000</td>\n",
              "      <td>1397.475000</td>\n",
              "    </tr>\n",
              "    <tr>\n",
              "      <th>75%</th>\n",
              "      <td>55.000000</td>\n",
              "      <td>89.862500</td>\n",
              "      <td>3794.737500</td>\n",
              "    </tr>\n",
              "    <tr>\n",
              "      <th>max</th>\n",
              "      <td>72.000000</td>\n",
              "      <td>118.750000</td>\n",
              "      <td>8684.800000</td>\n",
              "    </tr>\n",
              "  </tbody>\n",
              "</table>\n",
              "</div>\n",
              "      <button class=\"colab-df-convert\" onclick=\"convertToInteractive('df-05732fa9-640b-4c6d-8c78-75017812388d')\"\n",
              "              title=\"Convert this dataframe to an interactive table.\"\n",
              "              style=\"display:none;\">\n",
              "        \n",
              "  <svg xmlns=\"http://www.w3.org/2000/svg\" height=\"24px\"viewBox=\"0 0 24 24\"\n",
              "       width=\"24px\">\n",
              "    <path d=\"M0 0h24v24H0V0z\" fill=\"none\"/>\n",
              "    <path d=\"M18.56 5.44l.94 2.06.94-2.06 2.06-.94-2.06-.94-.94-2.06-.94 2.06-2.06.94zm-11 1L8.5 8.5l.94-2.06 2.06-.94-2.06-.94L8.5 2.5l-.94 2.06-2.06.94zm10 10l.94 2.06.94-2.06 2.06-.94-2.06-.94-.94-2.06-.94 2.06-2.06.94z\"/><path d=\"M17.41 7.96l-1.37-1.37c-.4-.4-.92-.59-1.43-.59-.52 0-1.04.2-1.43.59L10.3 9.45l-7.72 7.72c-.78.78-.78 2.05 0 2.83L4 21.41c.39.39.9.59 1.41.59.51 0 1.02-.2 1.41-.59l7.78-7.78 2.81-2.81c.8-.78.8-2.07 0-2.86zM5.41 20L4 18.59l7.72-7.72 1.47 1.35L5.41 20z\"/>\n",
              "  </svg>\n",
              "      </button>\n",
              "      \n",
              "  <style>\n",
              "    .colab-df-container {\n",
              "      display:flex;\n",
              "      flex-wrap:wrap;\n",
              "      gap: 12px;\n",
              "    }\n",
              "\n",
              "    .colab-df-convert {\n",
              "      background-color: #E8F0FE;\n",
              "      border: none;\n",
              "      border-radius: 50%;\n",
              "      cursor: pointer;\n",
              "      display: none;\n",
              "      fill: #1967D2;\n",
              "      height: 32px;\n",
              "      padding: 0 0 0 0;\n",
              "      width: 32px;\n",
              "    }\n",
              "\n",
              "    .colab-df-convert:hover {\n",
              "      background-color: #E2EBFA;\n",
              "      box-shadow: 0px 1px 2px rgba(60, 64, 67, 0.3), 0px 1px 3px 1px rgba(60, 64, 67, 0.15);\n",
              "      fill: #174EA6;\n",
              "    }\n",
              "\n",
              "    [theme=dark] .colab-df-convert {\n",
              "      background-color: #3B4455;\n",
              "      fill: #D2E3FC;\n",
              "    }\n",
              "\n",
              "    [theme=dark] .colab-df-convert:hover {\n",
              "      background-color: #434B5C;\n",
              "      box-shadow: 0px 1px 3px 1px rgba(0, 0, 0, 0.15);\n",
              "      filter: drop-shadow(0px 1px 2px rgba(0, 0, 0, 0.3));\n",
              "      fill: #FFFFFF;\n",
              "    }\n",
              "  </style>\n",
              "\n",
              "      <script>\n",
              "        const buttonEl =\n",
              "          document.querySelector('#df-05732fa9-640b-4c6d-8c78-75017812388d button.colab-df-convert');\n",
              "        buttonEl.style.display =\n",
              "          google.colab.kernel.accessAllowed ? 'block' : 'none';\n",
              "\n",
              "        async function convertToInteractive(key) {\n",
              "          const element = document.querySelector('#df-05732fa9-640b-4c6d-8c78-75017812388d');\n",
              "          const dataTable =\n",
              "            await google.colab.kernel.invokeFunction('convertToInteractive',\n",
              "                                                     [key], {});\n",
              "          if (!dataTable) return;\n",
              "\n",
              "          const docLinkHtml = 'Like what you see? Visit the ' +\n",
              "            '<a target=\"_blank\" href=https://colab.research.google.com/notebooks/data_table.ipynb>data table notebook</a>'\n",
              "            + ' to learn more about interactive tables.';\n",
              "          element.innerHTML = '';\n",
              "          dataTable['output_type'] = 'display_data';\n",
              "          await google.colab.output.renderOutput(dataTable, element);\n",
              "          const docLink = document.createElement('div');\n",
              "          docLink.innerHTML = docLinkHtml;\n",
              "          element.appendChild(docLink);\n",
              "        }\n",
              "      </script>\n",
              "    </div>\n",
              "  </div>\n",
              "  "
            ]
          },
          "metadata": {},
          "execution_count": 14
        }
      ]
    },
    {
      "cell_type": "markdown",
      "source": [
        "Podemos observar que não temos grandes discrepâncias nas features, temos valores de desvio padrão aceitáveis, que nos mostra o quanto os dados se dispersam em relação a média.\n",
        "\n",
        "Temos também uma boa distribuição entre os valores ***min, Quartis (25%, 50%, 75%) e max***, mostrando uma certa discrepância apenas na feature *TotalCharges*, onde 75% dos valores estão abaixo de 3794.73 e o valor máximo é de 8684.80.\n",
        "\n",
        "Para analisarmos a distribuição dos dados de uma forma visual, vamos plotar 2 gráficos que irão nos permitir entender melhor como os dados estão dispersos, usaremos o **Histograma e o Boxplot**"
      ],
      "metadata": {
        "id": "lUStwUmLESOz"
      }
    },
    {
      "cell_type": "markdown",
      "source": [
        "####Histograma"
      ],
      "metadata": {
        "id": "vGMxe8mMdZrt"
      }
    },
    {
      "cell_type": "code",
      "source": [
        "#Histograma para as features numéricas\n",
        "\n",
        "fig, ax = plt.subplots(figsize=(15,5), dpi=72, ncols=3)\n",
        "\n",
        "sns.histplot(bins=15, y=None, data=df.tenure, ax=ax[0], color=\"#003F5c\")\n",
        "ax[0].spines['right'].set_visible(False)\n",
        "ax[0].spines['top'].set_visible(False)\n",
        "\n",
        "sns.histplot(bins=15, y=None, data=df.MonthlyCharges, ax=ax[1], color=\"#003F5c\")\n",
        "ax[1].spines['right'].set_visible(False)\n",
        "ax[1].spines['top'].set_visible(False)\n",
        "\n",
        "sns.histplot(bins=15, y=None, data=df.TotalCharges, ax=ax[2], color=\"#003F5c\" )\n",
        "ax[2].spines['right'].set_visible(False)\n",
        "ax[2].spines['top'].set_visible(False)\n",
        "plt.show()"
      ],
      "metadata": {
        "colab": {
          "base_uri": "https://localhost:8080/",
          "height": 334
        },
        "id": "pXdoujnFbyn2",
        "outputId": "c65eac72-810c-4ee6-e40f-06e5c8405dd0"
      },
      "execution_count": 15,
      "outputs": [
        {
          "output_type": "display_data",
          "data": {
            "text/plain": [
              "<Figure size 1080x360 with 3 Axes>"
            ],
            "image/png": "[encoded data removed]"
          },
          "metadata": {
            "needs_background": "light"
          }
        }
      ]
    },
    {
      "cell_type": "markdown",
      "source": [
        "Conforme já haviamos verificado no Resumo Estatístico, podemos observar no Histograma que temos uma boa distribuição dos dados, apenas na feature *'TotalCharges'* podemos perceber uma distribuição menos uniforme e um range de valores de maior amplitude. \n",
        "\n",
        "O ***Boxplot*** irá nos ajudar a entender ainda melhor essa distribuição."
      ],
      "metadata": {
        "id": "KaBY-SPgdSYF"
      }
    },
    {
      "cell_type": "markdown",
      "source": [
        "####Boxplot"
      ],
      "metadata": {
        "id": "Z7TJzLiReVT4"
      }
    },
    {
      "cell_type": "code",
      "source": [
        "fig, ax = plt.subplots(figsize=(15,5), dpi=72, ncols=1, nrows=5)\n",
        "\n",
        "sns.boxplot(data=df.tenure, ax=ax[0], orient='h', color=\"#003F5c\")\n",
        "ax[0].set_title('tenure')\n",
        "ax[1].set_visible(False)\n",
        "\n",
        "sns.boxplot(data=df.MonthlyCharges, ax=ax[2], orient='h', color=\"#003F5c\")\n",
        "ax[2].set_title('MonthlyCharges')\n",
        "ax[3].set_visible(False)\n",
        "\n",
        "sns.boxplot(data=df.TotalCharges, ax=ax[4], orient='h', color=\"#003F5c\")\n",
        "ax[4].set_title('TotalCharges')\n",
        "\n",
        "plt.show()"
      ],
      "metadata": {
        "colab": {
          "base_uri": "https://localhost:8080/",
          "height": 336
        },
        "id": "WDjeP6bFcBAY",
        "outputId": "eda3835a-831c-405a-adf3-4d01a91d7584"
      },
      "execution_count": 16,
      "outputs": [
        {
          "output_type": "display_data",
          "data": {
            "text/plain": [
              "<Figure size 1080x360 with 5 Axes>"
            ],
            "image/png": "[encoded data removed]"
          },
          "metadata": {
            "needs_background": "light"
          }
        }
      ]
    },
    {
      "cell_type": "markdown",
      "source": [
        "Agora podemos confirmar o que já havia sido observado no *Resumo Estatístico e Histograma*, podemos ver como a maior parte dos dados estão distribuídos mais ao centro do range de valores para as features *tenure e MonthlyCharges*.\n",
        "\n",
        "Para *TotalCharges* verificamos que a concentração dos dados está em sua grande parte entre *0 e 4000*, e o restante se estende a valores acima de *8000*. Esses valores que se estendem muito acima do range onde estão dispostos a maior parte dos dados, podem interferir em nosso modelo de Machine Learning, sendo mais um ponto a tratarmos na fase de Preparação dos Dados.\n",
        "\n",
        "Para um melhor entendimento sobre o Boxplot verifique [Aqui](https://pt.wikipedia.org/wiki/Diagrama_de_caixa)"
      ],
      "metadata": {
        "id": "tlSvfcffeZYP"
      }
    },
    {
      "cell_type": "markdown",
      "source": [
        "Agora que já temos um bom entendimento sobre o nosso conjunto de dados, precisamos prepará-los para o nosso modelo de Machine Learning, corrigindo os pontos que identificamos como prejudiciais a sua performance."
      ],
      "metadata": {
        "id": "1K4-QoS2hDtk"
      }
    },
    {
      "cell_type": "markdown",
      "source": [
        "##Preparação dos Dados\n",
        "\n",
        "Vamos iniciar a fase de preparação dos dados, em nossa análise vimos que nosso conjunto é composto em grande parte por features categóricas, os algoritmos de Machine Learning trabalham em sua maioria com dados numéricos. \n",
        "\n",
        "Vamos precisar transformar nossas features categóricas em numéricas, para decidirmos qual forma de transformação usar, precisamos saber a quantidade de valores únicos presentes em cada feature."
      ],
      "metadata": {
        "id": "McoVTy5chn3C"
      }
    },
    {
      "cell_type": "code",
      "source": [
        "#verificando a quantidade de valores únicos das variáveis\n",
        "\n",
        "print(\"Quantidades de Valores Únicos para cada Feature do Dataset\\n\")\n",
        "for col in df.columns :\n",
        "  if len(df[col].unique()) < 5 :\n",
        "    print(col, ': ', len(df[col].unique()), df[col].unique(), '\\n')\n",
        "  else :\n",
        "    print(col, ': ', len(df[col].unique()), '\\n')  "
      ],
      "metadata": {
        "colab": {
          "base_uri": "https://localhost:8080/"
        },
        "id": "nJrj6uEBfKpU",
        "outputId": "3a2c52ff-a052-4c04-92ea-8d4c2cd171d6"
      },
      "execution_count": 17,
      "outputs": [
        {
          "output_type": "stream",
          "name": "stdout",
          "text": [
            "Quantidades de Valores Únicos para cada Feature do Dataset\n",
            "\n",
            "customerID :  7032 \n",
            "\n",
            "gender :  2 ['Female' 'Male'] \n",
            "\n",
            "SeniorCitizen :  2 [0 1] \n",
            "\n",
            "Partner :  2 ['Yes' 'No'] \n",
            "\n",
            "Dependents :  2 ['No' 'Yes'] \n",
            "\n",
            "tenure :  72 \n",
            "\n",
            "PhoneService :  2 ['No' 'Yes'] \n",
            "\n",
            "MultipleLines :  3 ['No phone service' 'No' 'Yes'] \n",
            "\n",
            "InternetService :  3 ['DSL' 'Fiber optic' 'No'] \n",
            "\n",
            "OnlineSecurity :  3 ['No' 'Yes' 'No internet service'] \n",
            "\n",
            "OnlineBackup :  3 ['Yes' 'No' 'No internet service'] \n",
            "\n",
            "DeviceProtection :  3 ['No' 'Yes' 'No internet service'] \n",
            "\n",
            "TechSupport :  3 ['No' 'Yes' 'No internet service'] \n",
            "\n",
            "StreamingTV :  3 ['No' 'Yes' 'No internet service'] \n",
            "\n",
            "StreamingMovies :  3 ['No' 'Yes' 'No internet service'] \n",
            "\n",
            "Contract :  3 ['Month-to-month' 'One year' 'Two year'] \n",
            "\n",
            "PaperlessBilling :  2 ['Yes' 'No'] \n",
            "\n",
            "PaymentMethod :  4 ['Electronic check' 'Mailed check' 'Bank transfer (automatic)'\n",
            " 'Credit card (automatic)'] \n",
            "\n",
            "MonthlyCharges :  1584 \n",
            "\n",
            "TotalCharges :  6530 \n",
            "\n",
            "Churn :  2 ['No' 'Yes'] \n",
            "\n"
          ]
        }
      ]
    },
    {
      "cell_type": "markdown",
      "source": [
        "Observamos que nossas features possuem no máximo 4 valores únicos *(com excessão das nossas features numéricas que não precisarão ser transformadas)*. A feature *'customerID'* possui um valor único para cada registro, seu valor não possui informação relevante para o modelo, vamos remover essa feature do dataset posteriormente.\n",
        "\n",
        "Essa informação dos valores únicos é importante porque um dos métodos de transformação cria uma feature nova no dataset para cada valor único, se a feature possui muitos valores únicos isso irá aumentar consideravemente o tamanho e complexidade do dataset. No nosso caso as features possuem poucos valores únicos então poderemos utilizar o método **One Hot Encoder**.\n",
        "\n",
        ">**One Hot Encoder** cria uma nova feature para cada valor único, caso aquele registro possua o determinado valor, a feature criada recebe *1*, do contrário recebe *0*. Vamos ilustrar para melhor entendimento.\n",
        "\n",
        "<p align=center>\n",
        "<img src=\"https://github.com/paulors82/imagens/blob/gh-pages/ohe.png?raw=true\" width=\"50%\"></p>\n",
        "\n",
        "*Quem quiser saber mais [Veja Aqui](https://www.kaggle.com/code/dansbecker/using-categorical-data-with-one-hot-encoding/notebook)*\n",
        "\n",
        "\n",
        "\n"
      ],
      "metadata": {
        "id": "_d-3Ep6PjC_b"
      }
    },
    {
      "cell_type": "markdown",
      "source": [
        "####Remoção feature e Transformação *'Churn'*\n",
        "\n",
        "Antes da transformação das features vamos realizar 2 ações, excluir a feature *'customerID'* que não acrescenta informação ao nosso conjunto e possui um valor único para cada registro, e transformar a nossa variável alvo manualmente, visto que o ***One Hot Encoder*** iria gerar 2 colunas diferentes para a variável alvo."
      ],
      "metadata": {
        "id": "tl1vfaOFolc5"
      }
    },
    {
      "cell_type": "code",
      "source": [
        "#Criando uma cópia do Dataframe e removendo a feature customerID que não acrescenta informações relevantes para o modelo de Machine Learning \n",
        "df_clean = df.drop('customerID', axis=1)\n",
        "\n",
        "#transformar nossa variável alvo de categórica para binária\n",
        "df_clean['Churn'] = df_clean['Churn'].map({'No': 0, 'Yes': 1}, na_action=None)\n",
        "\n",
        "print('Colunas do Dataframe \\n\\n',df_clean.columns.tolist())\n",
        "print('\\nValores únicos para Churn: ', df_clean['Churn'].unique())\n",
        "\n"
      ],
      "metadata": {
        "colab": {
          "base_uri": "https://localhost:8080/"
        },
        "id": "i7ew3SYm5j5n",
        "outputId": "4cf1f6f2-565a-41d7-dc46-ff77b4e75942"
      },
      "execution_count": 18,
      "outputs": [
        {
          "output_type": "stream",
          "name": "stdout",
          "text": [
            "Colunas do Dataframe \n",
            "\n",
            " ['gender', 'SeniorCitizen', 'Partner', 'Dependents', 'tenure', 'PhoneService', 'MultipleLines', 'InternetService', 'OnlineSecurity', 'OnlineBackup', 'DeviceProtection', 'TechSupport', 'StreamingTV', 'StreamingMovies', 'Contract', 'PaperlessBilling', 'PaymentMethod', 'MonthlyCharges', 'TotalCharges', 'Churn']\n",
            "\n",
            "Valores únicos para Churn:  [0 1]\n"
          ]
        }
      ]
    },
    {
      "cell_type": "markdown",
      "source": [
        "Feature *'customerID'* removida e alterada feature *'Churn'* para:\n",
        "\n",
        "Valor *'No'* inserido *'0'* \n",
        "\n",
        "Valor *'Yes'* inserido *'1'*"
      ],
      "metadata": {
        "id": "etT3pj608A-X"
      }
    },
    {
      "cell_type": "markdown",
      "source": [
        "####One Hot Encoding - Tratando Variáveis Categóricas\n",
        "\n",
        "Primeiramente vamos pegar a lista de features do nosso dataset, exceto as features numéricas e as que realizamos as transformações manualmente"
      ],
      "metadata": {
        "id": "ybqvV9If_HoW"
      }
    },
    {
      "cell_type": "code",
      "source": [
        "#colocando em uma lista as features que passarão pelo One-Hot-Encoding, demais features já são numéricas\n",
        "features = []\n",
        "for col in df_clean.columns :\n",
        "  if col != 'Churn' and col != 'TotalCharges' and col != 'MonthlyCharges' and col != 'tenure' and col != 'SeniorCitizen':\n",
        "    features.append(col)\n",
        "print(features)"
      ],
      "metadata": {
        "colab": {
          "base_uri": "https://localhost:8080/"
        },
        "id": "x-JQdi_w5wh5",
        "outputId": "a65e33c1-869b-469c-c99e-f21d5d97542a"
      },
      "execution_count": 18,
      "outputs": [
        {
          "output_type": "stream",
          "name": "stdout",
          "text": [
            "['gender', 'Partner', 'Dependents', 'PhoneService', 'MultipleLines', 'InternetService', 'OnlineSecurity', 'OnlineBackup', 'DeviceProtection', 'TechSupport', 'StreamingTV', 'StreamingMovies', 'Contract', 'PaperlessBilling', 'PaymentMethod']\n"
          ]
        }
      ]
    },
    {
      "cell_type": "markdown",
      "source": [
        "Com o nome das nossas features em formato de lista, vamos agora realizar a transformação através do get_dummies."
      ],
      "metadata": {
        "id": "YUJmc5XR_zwE"
      }
    },
    {
      "cell_type": "code",
      "source": [
        "#Transformando variáves categóricas com o One-Hot-Encoding\n",
        "df_enc = pd.get_dummies(df_clean, columns=features)\n",
        "\n",
        "print('\\nNova dimensão do dataset após One-Hot-Encoding\\n')\n",
        "print('Features: {}'.format(df_enc.shape[1]))\n",
        "print('Clientes: {}\\n'.format(df_enc.shape[0]))\n",
        "\n",
        "display(df_enc.dtypes)"
      ],
      "metadata": {
        "colab": {
          "base_uri": "https://localhost:8080/",
          "height": 937
        },
        "id": "g_qBpb927-2v",
        "outputId": "48c9574a-7e52-4b2c-afe8-f88b7110fe71"
      },
      "execution_count": 19,
      "outputs": [
        {
          "output_type": "stream",
          "name": "stdout",
          "text": [
            "\n",
            "Nova dimensão do dataset após One-Hot-Encoding\n",
            "\n",
            "Features: 46\n",
            "Clientes: 7032\n",
            "\n"
          ]
        },
        {
          "output_type": "display_data",
          "data": {
            "text/plain": [
              "SeniorCitizen                                int64\n",
              "tenure                                       int64\n",
              "MonthlyCharges                             float64\n",
              "TotalCharges                               float64\n",
              "Churn                                        int64\n",
              "gender_Female                                uint8\n",
              "gender_Male                                  uint8\n",
              "Partner_No                                   uint8\n",
              "Partner_Yes                                  uint8\n",
              "Dependents_No                                uint8\n",
              "Dependents_Yes                               uint8\n",
              "PhoneService_No                              uint8\n",
              "PhoneService_Yes                             uint8\n",
              "MultipleLines_No                             uint8\n",
              "MultipleLines_No phone service               uint8\n",
              "MultipleLines_Yes                            uint8\n",
              "InternetService_DSL                          uint8\n",
              "InternetService_Fiber optic                  uint8\n",
              "InternetService_No                           uint8\n",
              "OnlineSecurity_No                            uint8\n",
              "OnlineSecurity_No internet service           uint8\n",
              "OnlineSecurity_Yes                           uint8\n",
              "OnlineBackup_No                              uint8\n",
              "OnlineBackup_No internet service             uint8\n",
              "OnlineBackup_Yes                             uint8\n",
              "DeviceProtection_No                          uint8\n",
              "DeviceProtection_No internet service         uint8\n",
              "DeviceProtection_Yes                         uint8\n",
              "TechSupport_No                               uint8\n",
              "TechSupport_No internet service              uint8\n",
              "TechSupport_Yes                              uint8\n",
              "StreamingTV_No                               uint8\n",
              "StreamingTV_No internet service              uint8\n",
              "StreamingTV_Yes                              uint8\n",
              "StreamingMovies_No                           uint8\n",
              "StreamingMovies_No internet service          uint8\n",
              "StreamingMovies_Yes                          uint8\n",
              "Contract_Month-to-month                      uint8\n",
              "Contract_One year                            uint8\n",
              "Contract_Two year                            uint8\n",
              "PaperlessBilling_No                          uint8\n",
              "PaperlessBilling_Yes                         uint8\n",
              "PaymentMethod_Bank transfer (automatic)      uint8\n",
              "PaymentMethod_Credit card (automatic)        uint8\n",
              "PaymentMethod_Electronic check               uint8\n",
              "PaymentMethod_Mailed check                   uint8\n",
              "dtype: object"
            ]
          },
          "metadata": {}
        }
      ]
    },
    {
      "cell_type": "markdown",
      "source": [
        "Vejam que o número de features do nosso Dataset foi de **20** para **46**, foi criada uma feature nova para cada valor único da nossa lista de features passado como parâmetro. Nosso Dataset mais que dobrou o número de features, por esse motivo em features com muitos valores únicos o ideal é utilizar um método diferente no tratamento das variáveis categóricas.\n",
        "\n",
        "Podemos observar também que o tipo das features transformadas agora é ***uint8***, significa um inteiro de 8 bits (entre 0 e 255).\n",
        "\n",
        "Vamos analisar como ficou nosso Dataset"
      ],
      "metadata": {
        "id": "d7bZImdhAvp_"
      }
    },
    {
      "cell_type": "code",
      "source": [
        "df_enc.head()"
      ],
      "metadata": {
        "colab": {
          "base_uri": "https://localhost:8080/",
          "height": 334
        },
        "id": "oe7snPJd9TIo",
        "outputId": "74d0e9f2-34d8-422a-fe33-9c07661e4db6"
      },
      "execution_count": 20,
      "outputs": [
        {
          "output_type": "execute_result",
          "data": {
            "text/plain": [
              "   SeniorCitizen  tenure  MonthlyCharges  TotalCharges  Churn  gender_Female  \\\n",
              "0              0       1           29.85         29.85      0              1   \n",
              "1              0      34           56.95       1889.50      0              0   \n",
              "2              0       2           53.85        108.15      1              0   \n",
              "3              0      45           42.30       1840.75      0              0   \n",
              "4              0       2           70.70        151.65      1              1   \n",
              "\n",
              "   gender_Male  Partner_No  Partner_Yes  Dependents_No  ...  \\\n",
              "0            0           0            1              1  ...   \n",
              "1            1           1            0              1  ...   \n",
              "2            1           1            0              1  ...   \n",
              "3            1           1            0              1  ...   \n",
              "4            0           1            0              1  ...   \n",
              "\n",
              "   StreamingMovies_Yes  Contract_Month-to-month  Contract_One year  \\\n",
              "0                    0                        1                  0   \n",
              "1                    0                        0                  1   \n",
              "2                    0                        1                  0   \n",
              "3                    0                        0                  1   \n",
              "4                    0                        1                  0   \n",
              "\n",
              "   Contract_Two year  PaperlessBilling_No  PaperlessBilling_Yes  \\\n",
              "0                  0                    0                     1   \n",
              "1                  0                    1                     0   \n",
              "2                  0                    0                     1   \n",
              "3                  0                    1                     0   \n",
              "4                  0                    0                     1   \n",
              "\n",
              "   PaymentMethod_Bank transfer (automatic)  \\\n",
              "0                                        0   \n",
              "1                                        0   \n",
              "2                                        0   \n",
              "3                                        1   \n",
              "4                                        0   \n",
              "\n",
              "   PaymentMethod_Credit card (automatic)  PaymentMethod_Electronic check  \\\n",
              "0                                      0                               1   \n",
              "1                                      0                               0   \n",
              "2                                      0                               0   \n",
              "3                                      0                               0   \n",
              "4                                      0                               1   \n",
              "\n",
              "   PaymentMethod_Mailed check  \n",
              "0                           0  \n",
              "1                           1  \n",
              "2                           1  \n",
              "3                           0  \n",
              "4                           0  \n",
              "\n",
              "[5 rows x 46 columns]"
            ],
            "text/html": [
              "\n",
              "  <div id=\"df-b92a5b4c-4d2e-4c1f-814c-3c1ac981b500\">\n",
              "    <div class=\"colab-df-container\">\n",
              "      <div>\n",
              "<style scoped>\n",
              "    .dataframe tbody tr th:only-of-type {\n",
              "        vertical-align: middle;\n",
              "    }\n",
              "\n",
              "    .dataframe tbody tr th {\n",
              "        vertical-align: top;\n",
              "    }\n",
              "\n",
              "    .dataframe thead th {\n",
              "        text-align: right;\n",
              "    }\n",
              "</style>\n",
              "<table border=\"1\" class=\"dataframe\">\n",
              "  <thead>\n",
              "    <tr style=\"text-align: right;\">\n",
              "      <th></th>\n",
              "      <th>SeniorCitizen</th>\n",
              "      <th>tenure</th>\n",
              "      <th>MonthlyCharges</th>\n",
              "      <th>TotalCharges</th>\n",
              "      <th>Churn</th>\n",
              "      <th>gender_Female</th>\n",
              "      <th>gender_Male</th>\n",
              "      <th>Partner_No</th>\n",
              "      <th>Partner_Yes</th>\n",
              "      <th>Dependents_No</th>\n",
              "      <th>...</th>\n",
              "      <th>StreamingMovies_Yes</th>\n",
              "      <th>Contract_Month-to-month</th>\n",
              "      <th>Contract_One year</th>\n",
              "      <th>Contract_Two year</th>\n",
              "      <th>PaperlessBilling_No</th>\n",
              "      <th>PaperlessBilling_Yes</th>\n",
              "      <th>PaymentMethod_Bank transfer (automatic)</th>\n",
              "      <th>PaymentMethod_Credit card (automatic)</th>\n",
              "      <th>PaymentMethod_Electronic check</th>\n",
              "      <th>PaymentMethod_Mailed check</th>\n",
              "    </tr>\n",
              "  </thead>\n",
              "  <tbody>\n",
              "    <tr>\n",
              "      <th>0</th>\n",
              "      <td>0</td>\n",
              "      <td>1</td>\n",
              "      <td>29.85</td>\n",
              "      <td>29.85</td>\n",
              "      <td>0</td>\n",
              "      <td>1</td>\n",
              "      <td>0</td>\n",
              "      <td>0</td>\n",
              "      <td>1</td>\n",
              "      <td>1</td>\n",
              "      <td>...</td>\n",
              "      <td>0</td>\n",
              "      <td>1</td>\n",
              "      <td>0</td>\n",
              "      <td>0</td>\n",
              "      <td>0</td>\n",
              "      <td>1</td>\n",
              "      <td>0</td>\n",
              "      <td>0</td>\n",
              "      <td>1</td>\n",
              "      <td>0</td>\n",
              "    </tr>\n",
              "    <tr>\n",
              "      <th>1</th>\n",
              "      <td>0</td>\n",
              "      <td>34</td>\n",
              "      <td>56.95</td>\n",
              "      <td>1889.50</td>\n",
              "      <td>0</td>\n",
              "      <td>0</td>\n",
              "      <td>1</td>\n",
              "      <td>1</td>\n",
              "      <td>0</td>\n",
              "      <td>1</td>\n",
              "      <td>...</td>\n",
              "      <td>0</td>\n",
              "      <td>0</td>\n",
              "      <td>1</td>\n",
              "      <td>0</td>\n",
              "      <td>1</td>\n",
              "      <td>0</td>\n",
              "      <td>0</td>\n",
              "      <td>0</td>\n",
              "      <td>0</td>\n",
              "      <td>1</td>\n",
              "    </tr>\n",
              "    <tr>\n",
              "      <th>2</th>\n",
              "      <td>0</td>\n",
              "      <td>2</td>\n",
              "      <td>53.85</td>\n",
              "      <td>108.15</td>\n",
              "      <td>1</td>\n",
              "      <td>0</td>\n",
              "      <td>1</td>\n",
              "      <td>1</td>\n",
              "      <td>0</td>\n",
              "      <td>1</td>\n",
              "      <td>...</td>\n",
              "      <td>0</td>\n",
              "      <td>1</td>\n",
              "      <td>0</td>\n",
              "      <td>0</td>\n",
              "      <td>0</td>\n",
              "      <td>1</td>\n",
              "      <td>0</td>\n",
              "      <td>0</td>\n",
              "      <td>0</td>\n",
              "      <td>1</td>\n",
              "    </tr>\n",
              "    <tr>\n",
              "      <th>3</th>\n",
              "      <td>0</td>\n",
              "      <td>45</td>\n",
              "      <td>42.30</td>\n",
              "      <td>1840.75</td>\n",
              "      <td>0</td>\n",
              "      <td>0</td>\n",
              "      <td>1</td>\n",
              "      <td>1</td>\n",
              "      <td>0</td>\n",
              "      <td>1</td>\n",
              "      <td>...</td>\n",
              "      <td>0</td>\n",
              "      <td>0</td>\n",
              "      <td>1</td>\n",
              "      <td>0</td>\n",
              "      <td>1</td>\n",
              "      <td>0</td>\n",
              "      <td>1</td>\n",
              "      <td>0</td>\n",
              "      <td>0</td>\n",
              "      <td>0</td>\n",
              "    </tr>\n",
              "    <tr>\n",
              "      <th>4</th>\n",
              "      <td>0</td>\n",
              "      <td>2</td>\n",
              "      <td>70.70</td>\n",
              "      <td>151.65</td>\n",
              "      <td>1</td>\n",
              "      <td>1</td>\n",
              "      <td>0</td>\n",
              "      <td>1</td>\n",
              "      <td>0</td>\n",
              "      <td>1</td>\n",
              "      <td>...</td>\n",
              "      <td>0</td>\n",
              "      <td>1</td>\n",
              "      <td>0</td>\n",
              "      <td>0</td>\n",
              "      <td>0</td>\n",
              "      <td>1</td>\n",
              "      <td>0</td>\n",
              "      <td>0</td>\n",
              "      <td>1</td>\n",
              "      <td>0</td>\n",
              "    </tr>\n",
              "  </tbody>\n",
              "</table>\n",
              "<p>5 rows × 46 columns</p>\n",
              "</div>\n",
              "      <button class=\"colab-df-convert\" onclick=\"convertToInteractive('df-b92a5b4c-4d2e-4c1f-814c-3c1ac981b500')\"\n",
              "              title=\"Convert this dataframe to an interactive table.\"\n",
              "              style=\"display:none;\">\n",
              "        \n",
              "  <svg xmlns=\"http://www.w3.org/2000/svg\" height=\"24px\"viewBox=\"0 0 24 24\"\n",
              "       width=\"24px\">\n",
              "    <path d=\"M0 0h24v24H0V0z\" fill=\"none\"/>\n",
              "    <path d=\"M18.56 5.44l.94 2.06.94-2.06 2.06-.94-2.06-.94-.94-2.06-.94 2.06-2.06.94zm-11 1L8.5 8.5l.94-2.06 2.06-.94-2.06-.94L8.5 2.5l-.94 2.06-2.06.94zm10 10l.94 2.06.94-2.06 2.06-.94-2.06-.94-.94-2.06-.94 2.06-2.06.94z\"/><path d=\"M17.41 7.96l-1.37-1.37c-.4-.4-.92-.59-1.43-.59-.52 0-1.04.2-1.43.59L10.3 9.45l-7.72 7.72c-.78.78-.78 2.05 0 2.83L4 21.41c.39.39.9.59 1.41.59.51 0 1.02-.2 1.41-.59l7.78-7.78 2.81-2.81c.8-.78.8-2.07 0-2.86zM5.41 20L4 18.59l7.72-7.72 1.47 1.35L5.41 20z\"/>\n",
              "  </svg>\n",
              "      </button>\n",
              "      \n",
              "  <style>\n",
              "    .colab-df-container {\n",
              "      display:flex;\n",
              "      flex-wrap:wrap;\n",
              "      gap: 12px;\n",
              "    }\n",
              "\n",
              "    .colab-df-convert {\n",
              "      background-color: #E8F0FE;\n",
              "      border: none;\n",
              "      border-radius: 50%;\n",
              "      cursor: pointer;\n",
              "      display: none;\n",
              "      fill: #1967D2;\n",
              "      height: 32px;\n",
              "      padding: 0 0 0 0;\n",
              "      width: 32px;\n",
              "    }\n",
              "\n",
              "    .colab-df-convert:hover {\n",
              "      background-color: #E2EBFA;\n",
              "      box-shadow: 0px 1px 2px rgba(60, 64, 67, 0.3), 0px 1px 3px 1px rgba(60, 64, 67, 0.15);\n",
              "      fill: #174EA6;\n",
              "    }\n",
              "\n",
              "    [theme=dark] .colab-df-convert {\n",
              "      background-color: #3B4455;\n",
              "      fill: #D2E3FC;\n",
              "    }\n",
              "\n",
              "    [theme=dark] .colab-df-convert:hover {\n",
              "      background-color: #434B5C;\n",
              "      box-shadow: 0px 1px 3px 1px rgba(0, 0, 0, 0.15);\n",
              "      filter: drop-shadow(0px 1px 2px rgba(0, 0, 0, 0.3));\n",
              "      fill: #FFFFFF;\n",
              "    }\n",
              "  </style>\n",
              "\n",
              "      <script>\n",
              "        const buttonEl =\n",
              "          document.querySelector('#df-b92a5b4c-4d2e-4c1f-814c-3c1ac981b500 button.colab-df-convert');\n",
              "        buttonEl.style.display =\n",
              "          google.colab.kernel.accessAllowed ? 'block' : 'none';\n",
              "\n",
              "        async function convertToInteractive(key) {\n",
              "          const element = document.querySelector('#df-b92a5b4c-4d2e-4c1f-814c-3c1ac981b500');\n",
              "          const dataTable =\n",
              "            await google.colab.kernel.invokeFunction('convertToInteractive',\n",
              "                                                     [key], {});\n",
              "          if (!dataTable) return;\n",
              "\n",
              "          const docLinkHtml = 'Like what you see? Visit the ' +\n",
              "            '<a target=\"_blank\" href=https://colab.research.google.com/notebooks/data_table.ipynb>data table notebook</a>'\n",
              "            + ' to learn more about interactive tables.';\n",
              "          element.innerHTML = '';\n",
              "          dataTable['output_type'] = 'display_data';\n",
              "          await google.colab.output.renderOutput(dataTable, element);\n",
              "          const docLink = document.createElement('div');\n",
              "          docLink.innerHTML = docLinkHtml;\n",
              "          element.appendChild(docLink);\n",
              "        }\n",
              "      </script>\n",
              "    </div>\n",
              "  </div>\n",
              "  "
            ]
          },
          "metadata": {},
          "execution_count": 20
        }
      ]
    },
    {
      "cell_type": "markdown",
      "source": [
        "Visualizando o Dataset conseguimos entender exatamente como é realizada a transformação, observando como exemplo a feature *'gender'*, ela foi substituida pelas features *'gender_Female e gender_Male'*, onde recebe *1 ou 0* para Female ou Male.\n",
        "\n"
      ],
      "metadata": {
        "id": "JdfwhceIBtrs"
      }
    },
    {
      "cell_type": "markdown",
      "source": [
        "####Trantando Outliers\n",
        "\n",
        "Outro ponto observado foi a presença de ***Outliers*** para a variável *'TotalCharges'*, vamos verificar como podemos amenizar o seu impacto.\n",
        "Vamos ver a possibilidade de eliminar os registros que estejam muito acima da média, mas temos que ter o cuidado de não eliminar um montante considerável dos dados para que não haja perda de informação.\n",
        "\n"
      ],
      "metadata": {
        "id": "10mzKL2NaaNg"
      }
    },
    {
      "cell_type": "code",
      "source": [
        "print('Total de registros: {}\\n'.format(df_enc.shape[0]))\n",
        "\n",
        "print('\"TotalCharges\" valores acima de:\\n')\n",
        "print('Acima de 6000 - {} entradas'.format(len(df_enc[df_enc.TotalCharges > 6000])))\n",
        "print('{:.2f}% do total de entradas\\n\\n'.format((len(df_enc[df_enc.TotalCharges > 6000]) / df_enc.shape[0])*100))\n",
        "\n",
        "print('Acima de 7000 - {} entradas'.format(len(df_enc[df_enc.TotalCharges > 7000])))\n",
        "print('{:.2f}% do total de entradas\\n\\n'.format((len(df_enc[df_enc.TotalCharges > 7000]) / df_enc.shape[0])*100))\n",
        "\n",
        "print('Acima de 8000 - {} entradas'.format(len(df_enc[df_enc.TotalCharges > 8000])))\n",
        "print('{:.2f}% do total de entradas'.format((len(df_enc[df_enc.TotalCharges > 8000]) / df_enc.shape[0])*100))\n"
      ],
      "metadata": {
        "colab": {
          "base_uri": "https://localhost:8080/"
        },
        "id": "1lq23-X1kZSf",
        "outputId": "c3146d6b-1c00-4ee6-d0b7-f60ea0607606"
      },
      "execution_count": 21,
      "outputs": [
        {
          "output_type": "stream",
          "name": "stdout",
          "text": [
            "Total de registros: 7032\n",
            "\n",
            "\"TotalCharges\" valores acima de:\n",
            "\n",
            "Acima de 6000 - 692 entradas\n",
            "9.84% do total de entradas\n",
            "\n",
            "\n",
            "Acima de 7000 - 327 entradas\n",
            "4.65% do total de entradas\n",
            "\n",
            "\n",
            "Acima de 8000 - 78 entradas\n",
            "1.11% do total de entradas\n"
          ]
        }
      ]
    },
    {
      "cell_type": "markdown",
      "source": [
        "Analisando os valores acima de 6000, 7000 e 8000 e quanto eles representam do nosso Dataset concluimos que:\n",
        "> Acima de 6000 representa uma parcela significativa do Dataset, se eliminarmos teremos uma perda considerável de informação. Acima de 8000 representa uma parcela muito pequena dos dados, possivelmente não teremos ganho com a eliminação apenas desses dados.\n",
        "\n",
        "Vamos considerar eliminar os dados acima de 7000, não teremos uma perda de informação significativa e iremos conseguir diminuir nossos ***Outliers***"
      ],
      "metadata": {
        "id": "0qlhdUt2kSrV"
      }
    },
    {
      "cell_type": "code",
      "source": [
        "#diminuindo outliers para \"\"TotalCharges\"\n",
        "df_enc.drop(df_enc[df_enc.TotalCharges > 7000].index, axis=0, inplace=True)\n",
        "\n",
        "print('\"TotalCharges\" valores acima de 7000:')\n",
        "print('{} entradas'.format(len(df_enc[df_enc.TotalCharges > 7000])))\n",
        "print('{:.2f}% do total de entradas\\n\\n'.format((len(df_enc[df_enc.TotalCharges > 7000]) / df_enc.shape[0])*100))"
      ],
      "metadata": {
        "colab": {
          "base_uri": "https://localhost:8080/"
        },
        "id": "0eYINj9TpU0Q",
        "outputId": "66b7cc46-08fe-4f40-e488-7ad06cd3e373"
      },
      "execution_count": 22,
      "outputs": [
        {
          "output_type": "stream",
          "name": "stdout",
          "text": [
            "\"TotalCharges\" valores acima de 7000:\n",
            "0 entradas\n",
            "0.00% do total de entradas\n",
            "\n",
            "\n"
          ]
        }
      ]
    },
    {
      "cell_type": "markdown",
      "source": [
        "Valores removidos vamos visualizar se houve alteração plotando os gráficos *Boxplot* de antes e depois  para a feature *'TotalCharges'*"
      ],
      "metadata": {
        "id": "ngDEpUcAg3-m"
      }
    },
    {
      "cell_type": "code",
      "source": [
        "fig, ax = plt.subplots(figsize=(15,5), dpi=72, ncols=1, nrows=3)\n",
        "\n",
        "sns.boxplot(data=df_enc.TotalCharges, ax=ax[0], orient='h', color=\"#003F5c\")\n",
        "ax[0].set_title('TotalCharges Outliers Removidos')\n",
        "\n",
        "ax[1].set_visible(False)\n",
        "\n",
        "sns.boxplot(data=df_clean.TotalCharges, ax=ax[2], orient='h', color=\"#003F5c\")\n",
        "ax[2].set_title('TotalCharges Original')\n",
        "\n",
        "plt.show()"
      ],
      "metadata": {
        "colab": {
          "base_uri": "https://localhost:8080/",
          "height": 336
        },
        "id": "9Ykza_phg4jM",
        "outputId": "8644259f-a317-4248-b9d3-ea043aa01f38"
      },
      "execution_count": 23,
      "outputs": [
        {
          "output_type": "display_data",
          "data": {
            "text/plain": [
              "<Figure size 1080x360 with 3 Axes>"
            ],
            "image/png": "[encoded data removed]"
          },
          "metadata": {
            "needs_background": "light"
          }
        }
      ]
    },
    {
      "cell_type": "markdown",
      "source": [
        "Podemos observar na plotagem dos dois gráficos, que após a remoção dos outliers, o range de valores diminuiu e nosso bloco principal dos dados ocupa uma maior área."
      ],
      "metadata": {
        "id": "MHoFIa1KtJVo"
      }
    },
    {
      "cell_type": "markdown",
      "source": [
        "###Dividindo dados entre Treino e Teste\n",
        "\n",
        "Após a importação das bibliotecas necessárias será realizada a divisão do conjunto de dados entre Treino e Teste através do **train_test_split**. Basicamente é carregado na variável X todo o dataframe, excluindo a coluna de interesse(a ser prevista pelo modelo), no nosso caso *'Churn'*, que contém a indicação de *Churn (1) ou Não Churn(0)*.\n",
        "\n",
        "Na variável y é carregada a coluna \"resposta\" *'Churn'*.\n",
        "\n",
        "Com isso o train_test_split divide os dados em treino e teste."
      ],
      "metadata": {
        "id": "KLxpeSXpwh3Y"
      }
    },
    {
      "cell_type": "code",
      "source": [
        "#instalação do scikit-plot no colab \n",
        "!pip install scikit-plot"
      ],
      "metadata": {
        "id": "Q_fDGirAJ7Ic"
      },
      "execution_count": null,
      "outputs": []
    },
    {
      "cell_type": "code",
      "source": [
        "#Importando pacotes necessários\n",
        "from xgboost import XGBClassifier\n",
        "from sklearn.model_selection import cross_val_score\n",
        "#from sklearn.preprocessing import LabelEncoder\n",
        "from sklearn.model_selection import train_test_split\n",
        "from sklearn.pipeline import make_pipeline\n",
        "from sklearn.metrics import classification_report\n",
        "from sklearn.metrics import confusion_matrix\n",
        "from sklearn.metrics import roc_auc_score, roc_curve, accuracy_score\n",
        "from sklearn import metrics\n",
        "from sklearn.model_selection import KFold\n",
        "from sklearn.model_selection import StratifiedKFold\n",
        "import scikitplot as skplt\n",
        "import numpy as np\n",
        "\n",
        "from imblearn.under_sampling import RandomUnderSampler\n"
      ],
      "metadata": {
        "id": "3AU9PZvwHbr3"
      },
      "execution_count": 25,
      "outputs": []
    },
    {
      "cell_type": "code",
      "source": [
        "#Separar os dados entre treino e teste\n",
        "X = df_enc.drop('Churn', axis=1)\n",
        "y = df_enc['Churn']\n",
        "\n",
        "# 3.1 Dividir o dataset entre treino e teste\n",
        "X_train, X_test, y_train, y_test = train_test_split(X, y)"
      ],
      "metadata": {
        "id": "FFCMeBoaxYa2"
      },
      "execution_count": 26,
      "outputs": []
    },
    {
      "cell_type": "markdown",
      "source": [
        "Após a divisão dos dados vamos realizar o balanceamento dos dados de *Treino*"
      ],
      "metadata": {
        "id": "YTtazvkhyRPw"
      }
    },
    {
      "cell_type": "markdown",
      "source": [
        "###Balanceamento dos Dados\n",
        "\n",
        "Anteriormente vimos que o balancemanto dos dados para a nossa variável alvo *'Churn'* era de 26,54% do total de registros. O processo de treino de um modelo de Machine Learning pode ser extremamente afetado utilizando dados desbalanceados.\n",
        "\n",
        "Vamos realizar o balanceamento dos dados através do método ***RandomUnderSampler***, que utiliza a técnica *undersampling*, mantendo todos os dados da classe minoritária(*Churn(1)*) e realizando a diminuição da classe majoritária(*Não Churn(0)*).\n",
        "\n",
        "O balanceamento deve ser aplicado nos dados de treino, não deve ser aplicado aos dados de Teste / Validação."
      ],
      "metadata": {
        "id": "G_bqD6b_ukmc"
      }
    },
    {
      "cell_type": "code",
      "source": [
        "#Balancear conjunto de dados (Técnica de balanceamento under-sampling (diminuir classe majoritária))\n",
        "rus = RandomUnderSampler()\n",
        "\n",
        "#Balanceamento dos dados\n",
        "X_rus, y_rus = rus.fit_resample(X_train, y_train)\n",
        "\n",
        "fig, ax = plt.subplots(figsize=(10,6), dpi=72)\n",
        "sns.countplot(x=y_rus, y=None, ax=ax)\n",
        "\n",
        "ax.spines['right'].set_visible(False)\n",
        "ax.spines['top'].set_visible(False)\n",
        "\n",
        "ax.set_ylabel('Ocorrências')\n",
        "\n",
        "ax.text(-0.5,1900,f'Após o balanceamento podemos perceber que temos nos dados de treino, o mesmo número de ocorrências para as duas classes', fontsize=14, color=\"#515151\", fontweight='semibold')\n",
        "\n",
        "z = pd.Series(y_rus).value_counts()\n",
        "\n",
        "ax.text(-0.5, 1600, f'Total de Ocorrências:\\n{z}', fontsize=12)\n",
        "\n",
        "plt.show()\n"
      ],
      "metadata": {
        "colab": {
          "base_uri": "https://localhost:8080/",
          "height": 512
        },
        "id": "OwFohwWyzeWm",
        "outputId": "89010c94-6046-40d5-91fb-0d19d2ec2c2e"
      },
      "execution_count": 27,
      "outputs": [
        {
          "output_type": "display_data",
          "data": {
            "text/plain": [
              "<Figure size 720x432 with 1 Axes>"
            ],
            "image/png": "[encoded data removed]"
          },
          "metadata": {
            "needs_background": "light"
          }
        }
      ]
    },
    {
      "cell_type": "markdown",
      "source": [
        "##Modelos de Machine Learning\n",
        "\n",
        "Chegou a hora de submetermos nossos dados ao Modelo de Machine Learning, para isso seguimos as etapas:\n",
        "* Instanciar o modelo a ser utilizado\n",
        "> Vamos a princípio instanciar 4 modelos para analisarmos sua performance diante dos dados de treino, **Logistic Regression, KNN, XGBoost e o LightGBM**, de acordo com o resultado iremos escolher os modelos para seguir aos demais passos.      \n",
        ">>*XGBoost vem ganhando espaço e se tornando ums dos mais usados ultimamente, é uma referência em precisão e acurácia. Mas o LightGBM vem crescendo bastante e já vemos sinais que pode desbancar o XGBoost em breve. Ambos são uma  implementação de árvores de decisão impulsionadas por gradiente projetadas para velocidade e desempenho.* \n",
        "\n",
        "\n",
        "* Passar para o modelo os dados de treino, \n",
        "> Vamos utilizar a técnica [**Cross Validation**](https://pt.wikipedia.org/wiki/Valida%C3%A7%C3%A3o_cruzada), ela nos permite realizar os ajustes dos hiperparâmetros do nosso modelo nos dados de treino, evitando realizar esses ajustes nos dados de teste, assim conseguimos previnir o [overfitting](https://pt.wikipedia.org/wiki/Sobreajuste) e verificar a capacidade de generalização do modelo. \n",
        "\n",
        "* Realizar previsões em cima dos dados de teste para analisarmos o desempenho do modelo"
      ],
      "metadata": {
        "id": "JvGUjmjv1q5j"
      }
    },
    {
      "cell_type": "markdown",
      "source": [
        "###Comparando a performance dos Modelos\n",
        "\n",
        "Submetendo os dados de treino aos modelos e realizando o treinamento através do **Cross Validation**"
      ],
      "metadata": {
        "id": "GpEYI7L484Md"
      }
    },
    {
      "cell_type": "code",
      "source": [
        "from sklearn.linear_model import LogisticRegression\n",
        "from sklearn.preprocessing import StandardScaler\n",
        "from sklearn.pipeline import make_pipeline\n",
        "from sklearn.neighbors import KNeighborsClassifier\n",
        "import lightgbm as lgb\n",
        "import sklearn.metrics\n",
        "import warnings\n",
        "\n",
        "warnings.filterwarnings(\"ignore\")\n",
        "\n",
        "#Atribuindo seed para manter os resultados (derivados de aleatoridade)\n",
        "np.random.seed(2)\n",
        "\n",
        "#Instanciando os modelos\n",
        "##Logistic Regression\n",
        "model_regression = make_pipeline(StandardScaler(), LogisticRegression())\n",
        "\n",
        "##KNN\n",
        "model_knn = KNeighborsClassifier(weights='distance', n_neighbors=5)\n",
        "\n",
        "##LightGBM\n",
        "model_lgbm = lgb.LGBMClassifier()\n",
        "\n",
        "##XGBoost\n",
        "model_xgb = XGBClassifier()\n",
        "\n",
        "#Cross-validation\n",
        "##Definindo parâmetros\n",
        "cv = StratifiedKFold(n_splits = 10, shuffle = True)\n",
        "\n",
        "#Treinando modelos Cross-validation\n",
        "\n",
        "scores_regression_recall = cross_val_score(model_regression, X_rus, y_rus, scoring=\"recall\", cv=cv)\n",
        "scores_regression = cross_val_score(model_regression, X_rus, y_rus, cv=cv)\n",
        "\n",
        "scores_knn_recall= cross_val_score(model_knn, X_rus, y_rus, scoring=\"recall\", cv=cv)\n",
        "scores_knn= cross_val_score(model_knn, X_rus, y_rus, cv=cv)\n",
        "\n",
        "scores_lgbm_recall= cross_val_score(model_lgbm, X_rus, y_rus, scoring=\"recall\", cv=cv)\n",
        "scores_lgbm= cross_val_score(model_lgbm, X_rus, y_rus, cv=cv)\n",
        "\n",
        "scores_xgb_recall= cross_val_score(model_xgb, X_rus, y_rus, scoring=\"recall\", cv=cv)\n",
        "scores_xgb= cross_val_score(model_xgb, X_rus, y_rus, cv=cv)\n",
        "\n",
        "print('\\nCOMPARANDO O DESEMPENHO DOS MODELOS:')\n",
        "\n",
        "print(\"\\nScores Logistic Regression: {} \\n\".format(scores_regression))\n",
        "print(\"Recall: %0.2f | Desvio Padrão Recall: +/- %0.2f \\nAcurácia: %0.2f | Desvio Padrão Acurácica: +/- %0.2f\" % (scores_regression_recall.mean(), scores_regression_recall.std() * 2, scores_regression.mean(), scores_regression.std() * 2))\n",
        "print('----------------------------------------------')\n",
        "\n",
        "print(\"\\n\\nScores KNN: {}\\n\".format(scores_knn))\n",
        "print(\"Recall: %0.2f | Desvio Padrão Recall: +/- %0.2f \\nAcurácia: %0.2f | Desvio Padrão Acurácica: +/- %0.2f\" % (scores_knn_recall.mean(), scores_knn_recall.std() * 2, scores_knn.mean(), scores_knn.std() * 2))\n",
        "print('----------------------------------------------')\n",
        "\n",
        "print(\"\\n\\nScores LGBM: {}\\n\".format(scores_xgb))\n",
        "print(\"Recall: %0.2f | Desvio Padrão Recall: +/- %0.2f \\nAcurácia: %0.2f | Desvio Padrão Acurácica: +/- %0.2f\" % (scores_lgbm_recall.mean(), scores_lgbm_recall.std() * 2, scores_lgbm.mean(), scores_lgbm.std() * 2))\n",
        "print('----------------------------------------------')\n",
        "\n",
        "print(\"\\n\\nScores XGBoost: {}\\n\".format(scores_xgb))\n",
        "print(\"Recall: %0.2f | Desvio Padrão Recall: +/- %0.2f \\nAcurácia: %0.2f | Desvio Padrão Acurácica: +/- %0.2f\" % (scores_xgb_recall.mean(), scores_xgb_recall.std() * 2, scores_xgb.mean(), scores_xgb.std() * 2))\n",
        "\n",
        "\n"
      ],
      "metadata": {
        "colab": {
          "base_uri": "https://localhost:8080/"
        },
        "id": "PwQFPbgM8FRe",
        "outputId": "7d69cafc-c7b5-47ad-9a2b-f3b618074bb6"
      },
      "execution_count": 30,
      "outputs": [
        {
          "output_type": "stream",
          "name": "stdout",
          "text": [
            "\n",
            "COMPARANDO O DESEMPENHO DOS MODELOS:\n",
            "\n",
            "Scores Logistic Regression: [0.71003717 0.71747212 0.73977695 0.75464684 0.82156134 0.80669145\n",
            " 0.73977695 0.7732342  0.73605948 0.78066914] \n",
            "\n",
            "Recall: 0.80 | Desvio Padrão Recall: +/- 0.07 \n",
            "Acurácia: 0.76 | Desvio Padrão Acurácica: +/- 0.07\n",
            "----------------------------------------------\n",
            "\n",
            "\n",
            "Scores KNN: [0.62825279 0.6802974  0.69144981 0.71747212 0.6802974  0.6802974\n",
            " 0.68401487 0.69516729 0.67286245 0.71747212]\n",
            "\n",
            "Recall: 0.68 | Desvio Padrão Recall: +/- 0.05 \n",
            "Acurácia: 0.68 | Desvio Padrão Acurácica: +/- 0.05\n",
            "----------------------------------------------\n",
            "\n",
            "\n",
            "Scores LGBM: [0.74349442 0.71375465 0.7732342  0.79182156 0.75836431 0.77695167\n",
            " 0.79553903 0.76208178 0.76951673 0.69516729]\n",
            "\n",
            "Recall: 0.77 | Desvio Padrão Recall: +/- 0.06 \n",
            "Acurácia: 0.74 | Desvio Padrão Acurácica: +/- 0.06\n",
            "----------------------------------------------\n",
            "\n",
            "\n",
            "Scores XGBoost: [0.74349442 0.71375465 0.7732342  0.79182156 0.75836431 0.77695167\n",
            " 0.79553903 0.76208178 0.76951673 0.69516729]\n",
            "\n",
            "Recall: 0.80 | Desvio Padrão Recall: +/- 0.05 \n",
            "Acurácia: 0.76 | Desvio Padrão Acurácica: +/- 0.06\n"
          ]
        }
      ]
    },
    {
      "cell_type": "markdown",
      "source": [
        "A princípio submetemos os dados de teste aos modelos sem definição dos hiperparâmetros para avaliarmos a performance com esse primeiro contato com os dados.\n",
        "\n",
        "Para avaliação dos nossos modelos iremos nos basear no **Recall**, que vai nos fornecer a seguinte informação, de todas os *Churn* do conjunto de dados, qual percentual foi identificado corretamente pelo modelo. \n",
        "\n",
        "Os modelos ***Logistic Regression, XGBoost e LightGBM*** obtiveram praticamente o mesmo desempenho nas previsões para os dados de treino, o ***KNN*** teve um pior desempenho.\n",
        "\n",
        "Diante dos resultados vamos basear nosso projeto nos modelos **XGBoost e LightGBM**, pelo fato de possuirem uma considerável quantidade de hyperparâmetros frente ao **Logistic Regression**, possibilitando melhores ajustes para potencializar o desempenho do modelo."
      ],
      "metadata": {
        "id": "oY5aEKMuJVva"
      }
    },
    {
      "cell_type": "markdown",
      "source": [
        "###Otimizando Hyperparâmetros\n",
        "\n",
        "Utilizaremos alguns dos principais parâmetros de cada modelo, para encontrarmos o valor ideal para cada parâmetro vamos utilizar o **GridSearchCV**, ele fará de maneira sistemática diversas combinações dos parâmetros, retornando o melhor resultado.\n",
        "\n",
        "Vamor iniciar com o *learning_rate = 0.1*, após escolhermos os pesos dos demais parâmetros com o GridSearchCV, submetemos o *learnin_rate* para analisarmos outras taxas de aprendizado. \n",
        "\n",
        "Vamos iniciar encontrando os valores para o **XGBoost** e posteriormente para o **LightGBM**"
      ],
      "metadata": {
        "id": "UrqNBRFhNh6K"
      }
    },
    {
      "cell_type": "code",
      "source": [
        "from sklearn.model_selection import GridSearchCV"
      ],
      "metadata": {
        "id": "byoB46ipOTTK"
      },
      "execution_count": 32,
      "outputs": []
    },
    {
      "cell_type": "code",
      "source": [
        "model_xgb = XGBClassifier(learning_rate=0.1)\n",
        "\n",
        "parameters = {\n",
        "              'n_estimators' : range(0, 1000, 20)\n",
        "    \n",
        "              }\n",
        "    \n",
        "kfold = StratifiedKFold(n_splits=10, shuffle=True)    \n",
        "clf = GridSearchCV(model_xgb, parameters, scoring=\"recall\", cv=kfold)\n",
        "result = clf.fit(X_rus, y_rus)\n",
        "\n",
        "print('{} - Recall: {:.2f} '.format(result.best_params_,result.best_score_))"
      ],
      "metadata": {
        "colab": {
          "base_uri": "https://localhost:8080/"
        },
        "id": "6T3QDa6v43aa",
        "outputId": "7563ffe0-05a2-4ca7-ff29-dc091fecccdc"
      },
      "execution_count": 33,
      "outputs": [
        {
          "output_type": "stream",
          "name": "stdout",
          "text": [
            "{'n_estimators': 20} - Recall: 0.82 \n"
          ]
        }
      ]
    },
    {
      "cell_type": "markdown",
      "source": [
        "Com `n_estimators=20` vamos analisar agora `max_depth` e `min_child_wheight`"
      ],
      "metadata": {
        "id": "NOZsEJGsFBZS"
      }
    },
    {
      "cell_type": "code",
      "source": [
        "model_xgb = XGBClassifier(learning_rate=0.1, n_estimators=20)\n",
        "\n",
        "parameters = {\n",
        "              'max_depth' : range(1, 10, 1),\n",
        "              'min_child_weight' : range(1, 10, 1)\n",
        "    \n",
        "              }\n",
        "    \n",
        "kfold = StratifiedKFold(n_splits=10, shuffle=True)    \n",
        "clf = GridSearchCV(model_xgb, parameters, scoring=\"recall\", cv=kfold)\n",
        "result = clf.fit(X_rus, y_rus)\n",
        "\n",
        "print('{} - Recall: {:.2f} '.format(result.best_params_,result.best_score_))"
      ],
      "metadata": {
        "colab": {
          "base_uri": "https://localhost:8080/"
        },
        "id": "XQsIFSHj5eQr",
        "outputId": "997b6fa0-2893-4af5-e4ee-7d8e2b58b08b"
      },
      "execution_count": 37,
      "outputs": [
        {
          "output_type": "stream",
          "name": "stdout",
          "text": [
            "{'max_depth': 3, 'min_child_weight': 4} - Recall: 0.82 \n"
          ]
        }
      ]
    },
    {
      "cell_type": "markdown",
      "source": [
        "`max_depth=3`e `min_child_weight=4`, vamos otimizar `subsample`"
      ],
      "metadata": {
        "id": "480bxCBuFt0l"
      }
    },
    {
      "cell_type": "code",
      "source": [
        "model_xgb = XGBClassifier(learning_rate=0.1, n_estimators=20, max_depth=3, min_child_weight=4)\n",
        "\n",
        "parameters = {\n",
        "              'subsample' : [0.3, 0.4, 0.5, 0.8, 1]\n",
        "    \n",
        "              }\n",
        "    \n",
        "kfold = StratifiedKFold(n_splits=10, shuffle=True)    \n",
        "clf = GridSearchCV(model_xgb, parameters, scoring=\"recall\", cv=kfold)\n",
        "result = clf.fit(X_rus, y_rus)\n",
        "\n",
        "print('{} - Recall: {:.2f} '.format(result.best_params_,result.best_score_))"
      ],
      "metadata": {
        "colab": {
          "base_uri": "https://localhost:8080/"
        },
        "id": "odbZWk236svO",
        "outputId": "8e84762f-2b6b-4ca7-862e-42e0e1805950"
      },
      "execution_count": 38,
      "outputs": [
        {
          "output_type": "stream",
          "name": "stdout",
          "text": [
            "{'subsample': 0.3} - Recall: 0.82 \n"
          ]
        }
      ]
    },
    {
      "cell_type": "markdown",
      "source": [
        "`subsample=0.3`, vamos verificar `colsample_bytree`"
      ],
      "metadata": {
        "id": "nJjkhHYuGcqV"
      }
    },
    {
      "cell_type": "code",
      "source": [
        "model_xgb = XGBClassifier(learning_rate=0.1, n_estimators=20, max_depth=3, min_child_weight=4, subsample=0.3)\n",
        "\n",
        "parameters = {\n",
        "              'colsample_bytree' : [0.4, 0.6,  0.7, 0.8, 0.9,1]\n",
        "    \n",
        "              }\n",
        "    \n",
        "kfold = StratifiedKFold(n_splits=10, shuffle=True)    \n",
        "clf = GridSearchCV(model_xgb, parameters, scoring=\"recall\", cv=kfold)\n",
        "result = clf.fit(X_rus, y_rus)\n",
        "\n",
        "print('{} - Recall: {:.2f} '.format(result.best_params_,result.best_score_))"
      ],
      "metadata": {
        "colab": {
          "base_uri": "https://localhost:8080/"
        },
        "id": "rttm8BM67W5B",
        "outputId": "4d2d9076-a02f-472c-b956-d9d5f7e7fcb2"
      },
      "execution_count": 39,
      "outputs": [
        {
          "output_type": "stream",
          "name": "stdout",
          "text": [
            "{'colsample_bytree': 0.8} - Recall: 0.82 \n"
          ]
        }
      ]
    },
    {
      "cell_type": "markdown",
      "source": [
        "`colsample_bytree=0.8`, agora vamos verificar novas taxas de aprendizado `learning_rate`\n"
      ],
      "metadata": {
        "id": "1KAWIVgTGuYT"
      }
    },
    {
      "cell_type": "code",
      "source": [
        "#learning rate\n",
        "model_xgb = XGBClassifier(n_estimators=20, max_depth=3, min_child_weight=4, subsample=0.3, colsample_bytree=0.8)\n",
        "\n",
        "parameters = {\n",
        "              'learning_rate' : [0.001, 0.005, 0.01, 0.1, 0.2, 0.3, 0.4, 0.7, 0.9, 1]\n",
        "    \n",
        "              }\n",
        "    \n",
        "kfold = StratifiedKFold(n_splits=10, shuffle=True)    \n",
        "clf = GridSearchCV(model_xgb, parameters, scoring=\"recall\", cv=kfold)\n",
        "result = clf.fit(X_rus, y_rus)\n",
        "\n",
        "print('{} - Recall: {:.2f} '.format(result.best_params_,result.best_score_))"
      ],
      "metadata": {
        "colab": {
          "base_uri": "https://localhost:8080/"
        },
        "id": "kettbXxWLLLS",
        "outputId": "4de2268e-68f8-4a9a-9359-5c128a1dd56f"
      },
      "execution_count": 45,
      "outputs": [
        {
          "output_type": "stream",
          "name": "stdout",
          "text": [
            "{'learning_rate': 0.001} - Recall: 0.84 \n"
          ]
        }
      ]
    },
    {
      "cell_type": "markdown",
      "source": [
        "Para o **XGBoost** obtivemos o seguinte conjunto de parâmetros:\n",
        "\n",
        "XGBClassifier(learning_rate=0.001, n_estimators=20, max_depth=3, min_child_weight=4, subsample=0.3, colsample_bytree=0.8)\n",
        "\n",
        "A seguir iremos otimizar os parâmetros para o **LigthGBM**\n"
      ],
      "metadata": {
        "id": "s30lvFCXFVuw"
      }
    },
    {
      "cell_type": "code",
      "source": [
        "model_lgbm = lgb.LGBMClassifier(learning_rate=0.1)\n",
        "\n",
        "parameters = {\n",
        "              \n",
        "              \"n_estimators\" : range(1, 200, 20)\n",
        "    \n",
        "              }\n",
        "    \n",
        "kfold = StratifiedKFold(n_splits=10, shuffle=True)    \n",
        "clf = GridSearchCV(model_lgbm, parameters, scoring=\"recall\", cv=kfold)\n",
        "result = clf.fit(X_rus, y_rus)\n",
        "\n",
        "print('{} - Recall: {:.2f} '.format(result.best_params_,result.best_score_))"
      ],
      "metadata": {
        "colab": {
          "base_uri": "https://localhost:8080/"
        },
        "id": "iKCNGDjHW3nK",
        "outputId": "37c2b10e-38ce-409f-9978-7c84e2f92c9b"
      },
      "execution_count": 46,
      "outputs": [
        {
          "output_type": "stream",
          "name": "stdout",
          "text": [
            "{'n_estimators': 21} - Recall: 0.80 \n"
          ]
        }
      ]
    },
    {
      "cell_type": "markdown",
      "source": [
        "`n_estimators=21`, vamos verificar `max_depth`"
      ],
      "metadata": {
        "id": "tzVcH2VLJ-YK"
      }
    },
    {
      "cell_type": "code",
      "source": [
        "#Verificando os melhores valores para os hiperparametros lightgbm\n",
        "model_lgbm = lgb.LGBMClassifier(learning_rate=0.1, n_estimators=21)\n",
        "\n",
        "parameters = {\n",
        "              \n",
        "              \"max_depth\" : range(1, 100, 2)\n",
        "    \n",
        "              }\n",
        "    \n",
        "kfold = StratifiedKFold(n_splits=10, shuffle=True)    \n",
        "clf = GridSearchCV(model_lgbm, parameters, scoring=\"recall\", cv=kfold)\n",
        "result = clf.fit(X_rus, y_rus)\n",
        "\n",
        "print('{} - Recall: {:.2f} '.format(result.best_params_,result.best_score_))"
      ],
      "metadata": {
        "colab": {
          "base_uri": "https://localhost:8080/"
        },
        "id": "B2qEJ_b9VVrG",
        "outputId": "b8b5e768-56e8-47d6-a793-9b8a6db9dc3a"
      },
      "execution_count": 47,
      "outputs": [
        {
          "output_type": "stream",
          "name": "stdout",
          "text": [
            "{'max_depth': 1} - Recall: 0.82 \n"
          ]
        }
      ]
    },
    {
      "cell_type": "markdown",
      "source": [
        "`max_depth=1`, otimizando `num_leaves`"
      ],
      "metadata": {
        "id": "qukEoQvDKhTn"
      }
    },
    {
      "cell_type": "code",
      "source": [
        "model_lgbm = lgb.LGBMClassifier(learning_rate=0.1, n_estimators=21, max_depth=1)\n",
        "\n",
        "parameters = {\n",
        "              \n",
        "              \"num_leaves\" : range(1, 10, 1)\n",
        "    \n",
        "              }\n",
        "    \n",
        "kfold = StratifiedKFold(n_splits=10, shuffle=True)    \n",
        "clf = GridSearchCV(model_lgbm, parameters, scoring=\"recall\", cv=kfold)\n",
        "result = clf.fit(X_rus, y_rus)\n",
        "\n",
        "print('{} - Recall: {:.2f} '.format(result.best_params_,result.best_score_))"
      ],
      "metadata": {
        "colab": {
          "base_uri": "https://localhost:8080/"
        },
        "id": "tzluHj9HZl4O",
        "outputId": "ff708159-cf28-4bce-e0d7-4e5b8f75eb09"
      },
      "execution_count": 48,
      "outputs": [
        {
          "output_type": "stream",
          "name": "stdout",
          "text": [
            "{'num_leaves': 2} - Recall: 0.82 \n"
          ]
        }
      ]
    },
    {
      "cell_type": "markdown",
      "source": [
        "`num_leaves=2`, vamos analisar a `learning_rate` "
      ],
      "metadata": {
        "id": "CO56lKoQKrmz"
      }
    },
    {
      "cell_type": "code",
      "source": [
        "#Testando learning_rate\n",
        "model_lgbm = lgb.LGBMClassifier(n_estimators=21, max_depth=1, num_leaves=2)\n",
        "parameters = {\n",
        "              \n",
        "              \"learning_rate\" : [0.001, 0.004, 0.006, 0.01, 0.1, 0.2, 0.3, 1]\n",
        "    \n",
        "              }\n",
        "    \n",
        "kfold = StratifiedKFold(n_splits=10, shuffle=True)    \n",
        "clf = GridSearchCV(model_lgbm, parameters, scoring=\"recall\", cv=kfold)\n",
        "result = clf.fit(X_rus, y_rus)\n",
        "\n",
        "print('{} - Recall: {:.2f} '.format(result.best_params_,result.best_score_))"
      ],
      "metadata": {
        "colab": {
          "base_uri": "https://localhost:8080/"
        },
        "id": "QGjEZ069QBKM",
        "outputId": "67d2b875-902d-4c46-b62c-d600cb9350fb"
      },
      "execution_count": 49,
      "outputs": [
        {
          "output_type": "stream",
          "name": "stdout",
          "text": [
            "{'learning_rate': 0.001} - Recall: 0.89 \n"
          ]
        }
      ]
    },
    {
      "cell_type": "markdown",
      "source": [
        "Para o **LightGBM** obtivemos o seguinte conjunto de parâmetros:\n",
        "\n",
        "lgb.LGBMClassifier(learning_rate=0.001, n_estimators=21, max_depth=1, num_leaves=2)"
      ],
      "metadata": {
        "id": "_errq0anLExx"
      }
    },
    {
      "cell_type": "markdown",
      "source": [
        "Vamos comparar o desempenho dos modelos com os parâmetros otimizados"
      ],
      "metadata": {
        "id": "VHpMv6X-dFJd"
      }
    },
    {
      "cell_type": "code",
      "source": [
        "#XGBoost\n",
        "model_xgb = XGBClassifier(learning_rate=.001, n_estimators=20, max_depth=3, min_child_weight=4, subsample=0.3, colsample_bytree=0.8)\n",
        "\n",
        "##Lightgbm\n",
        "model_lgbm = lgb.LGBMClassifier(learning_rate=0.001, n_estimators=21, max_depth=1, num_leaves=2)                               \n",
        "\n",
        "#Cross-validation\n",
        "##Definindo parâmetros\n",
        "cv = StratifiedKFold(n_splits = 10, shuffle = True)\n",
        "\n",
        "#Treinando modelos com Hiperparametros Otimizados Cross-validation\n",
        "\n",
        "scores_lgbm_recall= cross_val_score(model_lgbm, X_rus, y_rus, scoring=\"recall\", cv=cv)\n",
        "scores_lgbm= cross_val_score(model_lgbm, X_rus, y_rus, cv=cv)\n",
        "\n",
        "scores_xgb_recall= cross_val_score(model_xgb, X_rus, y_rus, scoring=\"recall\", cv=cv)\n",
        "scores_xgb= cross_val_score(model_xgb, X_rus, y_rus, cv=cv)\n",
        "\n",
        "print('\\nCOMPARANDO O DESEMPENHO DOS MODELOS COM OS HYPERPARÂMETROS OTIMIZADOS:')\n",
        "\n",
        "print(\"\\n\\nScores LGBM: {}\".format(scores_xgb))\n",
        "print(\"Recall: %0.2f | Desvio Padrão Recall: +/- %0.2f \\nAcurácia: %0.2f | Desvio Padrão Acurácica: +/- %0.2f\" % (scores_lgbm_recall.mean(), scores_lgbm_recall.std() * 2, scores_lgbm.mean(), scores_lgbm.std() * 2))\n",
        "\n",
        "print(\"\\n\\nScores XGBoost: {}\".format(scores_xgb))\n",
        "print(\"Recall: %0.2f | Desvio Padrão Recall: +/- %0.2f \\nAcurácia: %0.2f | Desvio Padrão Acurácica: +/- %0.2f\" % (scores_xgb_recall.mean(), scores_xgb_recall.std() * 2, scores_xgb.mean(), scores_xgb.std() * 2))"
      ],
      "metadata": {
        "colab": {
          "base_uri": "https://localhost:8080/"
        },
        "id": "Z3frFhLjFLJx",
        "outputId": "2825c345-0f0d-44b6-dede-bde6b188ff58"
      },
      "execution_count": 50,
      "outputs": [
        {
          "output_type": "stream",
          "name": "stdout",
          "text": [
            "\n",
            "COMPARANDO O DESEMPENHO DOS MODELOS COM OS HYPERPARÂMETROS OTIMIZADOS:\n",
            "\n",
            "\n",
            "Scores LGBM: [0.72118959 0.71003717 0.74349442 0.79553903 0.73605948 0.76951673\n",
            " 0.7732342  0.75464684 0.75464684 0.78066914]\n",
            "Recall: 0.89 | Desvio Padrão Recall: +/- 0.04 \n",
            "Acurácia: 0.72 | Desvio Padrão Acurácica: +/- 0.04\n",
            "\n",
            "\n",
            "Scores XGBoost: [0.72118959 0.71003717 0.74349442 0.79553903 0.73605948 0.76951673\n",
            " 0.7732342  0.75464684 0.75464684 0.78066914]\n",
            "Recall: 0.83 | Desvio Padrão Recall: +/- 0.06 \n",
            "Acurácia: 0.75 | Desvio Padrão Acurácica: +/- 0.05\n"
          ]
        }
      ]
    },
    {
      "cell_type": "markdown",
      "source": [
        "Após os ajustes dos parâmetros podemos ver que o modelo **LightGBM** obteve uma significativa melhora de performance alcançando um **Recall de 89%**, no **XGBoost** também conseguimos melhorar sua performance, mas de forma não muito acentuada.\n",
        "\n",
        "Iremos submeter nosso modelo **LightGBM** com os parâmetros otimizados aos dados de teste e analisar como irá performar."
      ],
      "metadata": {
        "id": "9JO0ppi8_Rkl"
      }
    },
    {
      "cell_type": "markdown",
      "source": [
        "###Avaliar o Desempenho do Modelo\n",
        "\n",
        "Após submetermos nossos dados de treino e ajustarmos os hiperparâmetros conseguindo bons resultados, chegou a hora de verificarmos sua performance realizando as previsões em cima dos dados de teste.\n",
        "\n",
        "Para medir o desempenho do nosso modelo utilizaremos ***Classification Report, Matriz de Confusão, Acurácia e a AUC ROC***."
      ],
      "metadata": {
        "id": "Xh7n3vvrIoAv"
      }
    },
    {
      "cell_type": "code",
      "source": [
        "# Instanciando o Modelo\n",
        "model_lgbm = lgb.LGBMClassifier(learning_rate=0.001, n_estimators=21, max_depth=1, num_leaves=2)\n",
        "\n",
        "# Fit do modelo\n",
        "model_lgbm.fit(X_rus,y_rus)\n",
        "\n",
        "# Fazer previsões em cima de novos dados\n",
        "y_pred_lgbm = model_lgbm.predict(X_test)\n",
        "y_proba_lgbm = model_lgbm.predict_proba(X_test)\n",
        "\n",
        "#verificando resultados\n",
        "#Classification report\n",
        "print('Classification Report LGBM:\\n\\n', classification_report(y_test, y_pred_lgbm), '\\n')\n",
        "\n",
        "#Acurácia\n",
        "ac_lgbm = accuracy_score(y_test, y_pred_lgbm)\n",
        "print(f'\\nAcurácia do Modelo LigthGBM: {ac_lgbm:.2f} \\n')\n",
        "\n",
        "#AUC\n",
        "print('AUC ROC LightGBM: {:.2f}\\n'.format(roc_auc_score(y_test, y_pred_lgbm)))\n",
        "\n",
        "#Matriz de confusão\n",
        "skplt.metrics.plot_confusion_matrix(y_test, y_pred_lgbm, normalize=True, title='Matriz de Confusão LightGBM');\n",
        "\n",
        "plt.show()"
      ],
      "metadata": {
        "colab": {
          "base_uri": "https://localhost:8080/",
          "height": 590
        },
        "id": "h7LuiafGGMtU",
        "outputId": "2c692af8-199b-4993-9dd6-117e63281d38"
      },
      "execution_count": 57,
      "outputs": [
        {
          "output_type": "stream",
          "name": "stdout",
          "text": [
            "Classification Report LGBM:\n",
            "\n",
            "               precision    recall  f1-score   support\n",
            "\n",
            "           0       0.94      0.53      0.68      1186\n",
            "           1       0.45      0.92      0.60       491\n",
            "\n",
            "    accuracy                           0.65      1677\n",
            "   macro avg       0.69      0.72      0.64      1677\n",
            "weighted avg       0.80      0.65      0.66      1677\n",
            " \n",
            "\n",
            "\n",
            "Acurácia do Modelo LigthGBM: 0.65 \n",
            "\n",
            "AUC ROC LightGBM: 0.72\n",
            "\n"
          ]
        },
        {
          "output_type": "display_data",
          "data": {
            "text/plain": [
              "<Figure size 432x288 with 2 Axes>"
            ],
            "image/png": "[encoded data removed]"
          },
          "metadata": {
            "needs_background": "light"
          }
        }
      ]
    },
    {
      "cell_type": "markdown",
      "source": [
        "Podemos observar que o nosso modelo teve um desempenho ainda melhor sendo submetido aos dados de *teste*, lembrando que o modelo não teve contato com esses dados em nenhum momento, todas as otimizações foram realizadas em cima dos dados de *treino*.\n",
        "\n",
        "Visualizando a `Classification Report` e a `Matriz de Confusão` temos um Recall de 92% para os casos de Churn. O próximo passo seria tentarmos melhorar o Recall para os casos de *Não Churn*, o que significa que muitos clientes foram classificados como *Churn* incorretamente.\n",
        "\n",
        "Existem diversos hiperparâmetros diferentes para que possamos tentar melhorar nosso modelo, mas de qualquer forma, obtivemos um ótimo desempenho após a otimização.\n"
      ],
      "metadata": {
        "id": "HlTawRJGJdpB"
      }
    },
    {
      "cell_type": "markdown",
      "source": [
        "##Conclusão\n",
        "\n",
        "Nesse projeto foi possível aplicar um bom nível de complexidade na construção do nosso modelo de **Machine Learning**, trabalhando com *Valores Ausentes, Outliers, Transformação do tipo das features, Feature Enginner, Balanceamento de Dados, Transformação de Variáveis Categóricas, Otimização de Hiperparâmetros e Cross Validation*.\n",
        "\n",
        "Utilizamos um modelo de Machine Learning baseado em Árvores de Decisão, o algoritmo **LightGBM**, que vem se destacando atualmente sendo um dos mais utilizados, bem como o **XGBoost** em competições do [Kaggle](https://www.kaggle.com/). Um algoritmo que possui diversos hiperparâmetros, o tornando extremamente versátil e eficiente.\n",
        "\n",
        "Com base nas métricas avaliadas, podemos concluir que o nosso modelo  obteve um bom resultado, conseguindo prever **92%** do *Churn*.\n",
        "\n",
        "\n",
        "\n",
        "---\n",
        "\n",
        "\n",
        "\n",
        "###Vamos analisar de uma outra perspectiva para o negócio fazendo um pequeno estudo de caso:\n",
        "\n",
        "Considerando nosso Conjunto de Dados onde a taxa de Churn, como vimos anteriormente, estava na faixa de 26%, vamos analisar a afirmação de **[Philip Kotler](https://pt.wikipedia.org/wiki/Philip_Kotler)**, considerado um dos maiores nomes do marketing no mundo:\n",
        "\n",
        ">***Conquistar um novo cliente custa 5 a 7 vezes mais do que manter um atual*** \n",
        "\n",
        "Por exemplo, em nossa base de dados tínhamos 7032 registros, dos quais, 26% eram **`Churn`** (1828).\n",
        "\n",
        "Nosso modelo foi capaz de prever 92% dos casos de **`Churn`**, o que resultaria em 1681 casos previstos.\n",
        "\n",
        "Mas nosso modelo também teve um Recall para os casos **`não Churn`** de 53%, o que significa que 47% dos casos **`não Churn`** o modelo previu como **`Churn`** de forma errada, o que representa 2445 clientes.\n",
        "\n",
        "Vamos supor nosso **[CAC](https://pt.wikipedia.org/wiki/Custo_de_aquisi%C3%A7%C3%A3o_de_clientes#:~:text=O%20Custo%20de%20Aquisi%C3%A7%C3%A3o%20de,neg%C3%B3cio%20%C3%A9%20v%C3%A1lido%20e%20lucrativo)** como $100,00.\n",
        "\n",
        "Nosso custo de incentivo como $20,00 (5 vezes menos conforme indicado por  *Philip Kotler*), teríamos os seguintes valores:\n",
        "\n",
        "###**Sem utilização do Modelo de Machine Learning**\n",
        "\n",
        "> 1828 casos de Churn x $100,00 (custo para adquirir 1828 novos clientes (***CAC***)) \n",
        "\n",
        "####**Teríamos um custo para repor nossa base de clientes de $182.800**\n",
        "\n",
        "\n",
        "\n",
        "---\n",
        "\n",
        "\n",
        "\n",
        "\n",
        "###**Utilizando o Modelo de Machine Learning**\n",
        "\n",
        "> 1681 casos de Churn previstos pelo modelo x $20,00 (custo de incentivo para manter o cliente) \n",
        "\n",
        "**Temos um custo de $33.620**\n",
        "\n",
        "> 2445 casos de Churn previstos de forma errada pelo modelo x $20,00 (custo de incentivo ao cliente) \n",
        "\n",
        "**Temos um custo de $48.900**\n",
        "\n",
        "####**Custo para manter nossa base de clientes, mesmo considerando as previsões erradas do nosso Modelo de Machine Learning, seria de $82.520.**\n",
        "\n",
        "Teríamos uma **redução de custo na faixa de 55% ($100.280)**.\n",
        "\n",
        "Cada empresa deve conhecer a fundo seus processos e custos, lógico que é tudo somente uma suposição, feita em um mundo ideal, onde todos os clientes que foram expostos ao incentivo não cancelaram seus serviços e demais variáves que fogem ao nosso controle, mas serve para demonstrar **o poder que a Ciência de Dados pode exercer se aplicada ao cotidiano dos negócios**.\n",
        "\n",
        "\n",
        "*Sugestões, Dúvidas e Feedbacks sempre são bem vindos...*\n",
        "\n",
        "\n",
        "\n",
        "---\n",
        "\n",
        "\n",
        "\n"
      ],
      "metadata": {
        "id": "T1oZU75gqwVa"
      }
    },
    {
      "cell_type": "markdown",
      "source": [
        "## **Paulo Roberto da Silva**\n",
        "*IT Infrastructure Analyst | IT Support Analyst | Junior Python Developer | Junior Data Scientist*\n",
        "\n",
        "[Github](https://github.com/paulors82)\n",
        "\n",
        "[Medium](https://medium.com/@paulors82)\n",
        "\n",
        "[Linkedin](https://www.linkedin.com/in/paulors82/)"
      ],
      "metadata": {
        "id": "2kS4sNwnrEND"
      }
    }
  ]
}