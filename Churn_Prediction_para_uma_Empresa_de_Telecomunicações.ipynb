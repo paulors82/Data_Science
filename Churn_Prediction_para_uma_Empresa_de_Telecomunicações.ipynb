{
  "nbformat": 4,
  "nbformat_minor": 0,
  "metadata": {
    "colab": {
      "name": "Churn Prediction para uma Empresa de Telecomunicações.ipynb",
      "provenance": [],
      "collapsed_sections": [],
      "toc_visible": true,
      "include_colab_link": true
    },
    "kernelspec": {
      "name": "python3",
      "display_name": "Python 3"
    }
  },
  "cells": [
    {
      "cell_type": "markdown",
      "metadata": {
        "id": "view-in-github",
        "colab_type": "text"
      },
      "source": [
        "<a href=\"https://colab.research.google.com/github/paulors82/Data_Science/blob/main/Churn_Prediction_para_uma_Empresa_de_Telecomunica%C3%A7%C3%B5es.ipynb\" target=\"_parent\"><img src=\"https://colab.research.google.com/assets/colab-badge.svg\" alt=\"Open In Colab\"/></a>"
      ]
    },
    {
      "cell_type": "markdown",
      "metadata": {
        "id": "sC2BFMOKN1M7"
      },
      "source": [
        "---\n",
        "---\n",
        "<img alt=\"Colaboratory logo\" width=\"100%\" src=\"https://github.com/paulors82/imagens/blob/gh-pages/banner_DS.png?raw=true\">\n",
        "\n",
        "**PAULO ROBERTO DA SILVA**\n",
        "\n",
        "---"
      ]
    },
    {
      "cell_type": "markdown",
      "source": [
        "# Churn\n",
        "\n",
        "Neste projeto vamos abordar um problema de negócio de extrema importância para a continuidade de uma organização:\n",
        "> ***Churn rate***: *Taxa de Evasão de Clientes*\n",
        "\n",
        "\n",
        "O **Churn rate** representa a taxa de evasão da sua base de clientes, esta métrica é crucial para alguns segmentos de negócio, principalmente para empresas que oferecem determinados serviços, como TV por assinatura, telefonia e [SaaS](https://pt.wikipedia.org/wiki/Software_como_servi%C3%A7o).\n",
        "\n",
        "<p align=center>\n",
        "<img src=\"https://github.com/paulors82/imagens/blob/gh-pages/churn-rate-blog.png?raw=true\" width=\"70%\"></p>\n"
      ],
      "metadata": {
        "id": "ILz4_YyVYKpB"
      }
    },
    {
      "cell_type": "markdown",
      "source": [
        "Para o negócio é primordial conhecer sua ***Churn Rate***, visto que altas taxas de cancelamento podem ser resultado de um problema com a *Experiência do Usuário*, o que pode causar um dano na imagem da empresa quando esses usuários externarem seus feedbacks. \n",
        "\n",
        "Um outro ponto é o custo para aquisição de um novo cliente (CAC). O **CAC** tende a ser consideravelmente mais custoso que a manutenção de um cliente, mensurar o seu valor é de vital importância para auxiliar em campanhas para redução da **Churn rate**.\n",
        "\n",
        "Uma campanha de incentivos ao cliente para redução da *Churn Rate* é o caminho normal a ser seguido, mas esses *incentivos* geram custos para o negócio, aplicar essa medida para toda a sua base de clientes pode ser mais prejudicial do que a sua *Churn Rate*.\n",
        "\n",
        "Nosso projeto visa abordar esse problema elaborando um modelo de **Churn Prediction**.\n",
        "\n",
        "Com base no histórico dos clientes que cancelaram seus serviços, vamos tentar prever a probabilidade de um cliente cancelar seu serviço futuramente, podendo assim nos antecipar e realizar uma campanha de incentivos, não para toda nossa base de clientes, mas para aqueles com maior probabilidade de cancelamento.\n",
        "\n",
        "<p align=center>\n",
        "<img src=\"https://github.com/paulors82/imagens/blob/gh-pages/ai-robot-frame-technology-abstra.jpg?raw=true\" width=\"70%\"></p>"
      ],
      "metadata": {
        "id": "Czp4evkYdrJz"
      }
    },
    {
      "cell_type": "markdown",
      "source": [
        "# Churn Prediction"
      ],
      "metadata": {
        "id": "JXeuViCgpSW_"
      }
    },
    {
      "cell_type": "markdown",
      "metadata": {
        "id": "0HVmpIxQWT4Y"
      },
      "source": [
        "## Aquisição dos Dados\n",
        "\n",
        "Os dados utilizados neste projeto foram originalmente disponibilizados na [plataforma de ensino da IBM Developer](https://developer.ibm.com/technologies/data-science/patterns/predict-customer-churn-using-watson-studio-and-jupyter-notebooks/#), e tratam de um problema típico de uma companhia de telecomunicações. O *dataset* completo pode ser encontrado [neste link](https://raw.githubusercontent.com/carlosfab/dsnp2/master/datasets/WA_Fn-UseC_-Telco-Customer-Churn.csv).\n",
        "\n",
        "Apesar de não haver informações explícitas disponíves, os nomes das colunas permitem um entendimento a respeito do problema."
      ]
    },
    {
      "cell_type": "markdown",
      "source": [
        "###Vamos iniciar nosso projeto importando alguns pacotes necessários, bem como nosso Dataset"
      ],
      "metadata": {
        "id": "BkAixAOpXqE4"
      }
    },
    {
      "cell_type": "code",
      "metadata": {
        "id": "oQ4bNy7udtEE"
      },
      "source": [
        "# importar os pacotes necessários\n",
        "import pandas as pd\n",
        "import matplotlib.pyplot as plt\n",
        "import seaborn as sns\n",
        "from sklearn.preprocessing import OneHotEncoder"
      ],
      "execution_count": 1,
      "outputs": []
    },
    {
      "cell_type": "code",
      "source": [
        "# importar os dados os dados para um dataframe\n",
        "DATA_PATH = \"https://raw.githubusercontent.com/carlosfab/dsnp2/master/datasets/WA_Fn-UseC_-Telco-Customer-Churn.csv\"\n",
        "df = pd.read_csv(DATA_PATH)"
      ],
      "metadata": {
        "id": "CnhEQwiQ9N8w"
      },
      "execution_count": 2,
      "outputs": []
    },
    {
      "cell_type": "markdown",
      "source": [
        "Com os dados importados para uma estrutura de *Dataframe*, vamos iniciar o processo de Análise Exploratória do nosso conjunto."
      ],
      "metadata": {
        "id": "8mE9yC5rX7VO"
      }
    },
    {
      "cell_type": "markdown",
      "source": [
        "##Análise Exploratória\n",
        "\n",
        "Na análise exlporatória vamos conhecer mais sobre nossa estrutura de dados, analisando seu dimensionamento, balanceamento, valores ausentes, tipos das features, dentre outros."
      ],
      "metadata": {
        "id": "b-09STZnYWfo"
      }
    },
    {
      "cell_type": "markdown",
      "source": [
        "###Conhecendo o Dataset"
      ],
      "metadata": {
        "id": "wQ1yffh7Yx0u"
      }
    },
    {
      "cell_type": "code",
      "source": [
        "# ver as 5 primeiras entradas\n",
        "df.head()"
      ],
      "metadata": {
        "colab": {
          "base_uri": "https://localhost:8080/",
          "height": 386
        },
        "id": "H3TveesuYPDA",
        "outputId": "7f48944a-7087-4e9b-b10a-1afbb99cd815"
      },
      "execution_count": 3,
      "outputs": [
        {
          "output_type": "execute_result",
          "data": {
            "text/plain": [
              "   customerID  gender  SeniorCitizen Partner Dependents  tenure PhoneService  \\\n",
              "0  7590-VHVEG  Female              0     Yes         No       1           No   \n",
              "1  5575-GNVDE    Male              0      No         No      34          Yes   \n",
              "2  3668-QPYBK    Male              0      No         No       2          Yes   \n",
              "3  7795-CFOCW    Male              0      No         No      45           No   \n",
              "4  9237-HQITU  Female              0      No         No       2          Yes   \n",
              "\n",
              "      MultipleLines InternetService OnlineSecurity  ... DeviceProtection  \\\n",
              "0  No phone service             DSL             No  ...               No   \n",
              "1                No             DSL            Yes  ...              Yes   \n",
              "2                No             DSL            Yes  ...               No   \n",
              "3  No phone service             DSL            Yes  ...              Yes   \n",
              "4                No     Fiber optic             No  ...               No   \n",
              "\n",
              "  TechSupport StreamingTV StreamingMovies        Contract PaperlessBilling  \\\n",
              "0          No          No              No  Month-to-month              Yes   \n",
              "1          No          No              No        One year               No   \n",
              "2          No          No              No  Month-to-month              Yes   \n",
              "3         Yes          No              No        One year               No   \n",
              "4          No          No              No  Month-to-month              Yes   \n",
              "\n",
              "               PaymentMethod MonthlyCharges  TotalCharges Churn  \n",
              "0           Electronic check          29.85         29.85    No  \n",
              "1               Mailed check          56.95        1889.5    No  \n",
              "2               Mailed check          53.85        108.15   Yes  \n",
              "3  Bank transfer (automatic)          42.30       1840.75    No  \n",
              "4           Electronic check          70.70        151.65   Yes  \n",
              "\n",
              "[5 rows x 21 columns]"
            ],
            "text/html": [
              "\n",
              "  <div id=\"df-0f5db5c5-bfdd-46f9-b422-9c181f9b4d36\">\n",
              "    <div class=\"colab-df-container\">\n",
              "      <div>\n",
              "<style scoped>\n",
              "    .dataframe tbody tr th:only-of-type {\n",
              "        vertical-align: middle;\n",
              "    }\n",
              "\n",
              "    .dataframe tbody tr th {\n",
              "        vertical-align: top;\n",
              "    }\n",
              "\n",
              "    .dataframe thead th {\n",
              "        text-align: right;\n",
              "    }\n",
              "</style>\n",
              "<table border=\"1\" class=\"dataframe\">\n",
              "  <thead>\n",
              "    <tr style=\"text-align: right;\">\n",
              "      <th></th>\n",
              "      <th>customerID</th>\n",
              "      <th>gender</th>\n",
              "      <th>SeniorCitizen</th>\n",
              "      <th>Partner</th>\n",
              "      <th>Dependents</th>\n",
              "      <th>tenure</th>\n",
              "      <th>PhoneService</th>\n",
              "      <th>MultipleLines</th>\n",
              "      <th>InternetService</th>\n",
              "      <th>OnlineSecurity</th>\n",
              "      <th>...</th>\n",
              "      <th>DeviceProtection</th>\n",
              "      <th>TechSupport</th>\n",
              "      <th>StreamingTV</th>\n",
              "      <th>StreamingMovies</th>\n",
              "      <th>Contract</th>\n",
              "      <th>PaperlessBilling</th>\n",
              "      <th>PaymentMethod</th>\n",
              "      <th>MonthlyCharges</th>\n",
              "      <th>TotalCharges</th>\n",
              "      <th>Churn</th>\n",
              "    </tr>\n",
              "  </thead>\n",
              "  <tbody>\n",
              "    <tr>\n",
              "      <th>0</th>\n",
              "      <td>7590-VHVEG</td>\n",
              "      <td>Female</td>\n",
              "      <td>0</td>\n",
              "      <td>Yes</td>\n",
              "      <td>No</td>\n",
              "      <td>1</td>\n",
              "      <td>No</td>\n",
              "      <td>No phone service</td>\n",
              "      <td>DSL</td>\n",
              "      <td>No</td>\n",
              "      <td>...</td>\n",
              "      <td>No</td>\n",
              "      <td>No</td>\n",
              "      <td>No</td>\n",
              "      <td>No</td>\n",
              "      <td>Month-to-month</td>\n",
              "      <td>Yes</td>\n",
              "      <td>Electronic check</td>\n",
              "      <td>29.85</td>\n",
              "      <td>29.85</td>\n",
              "      <td>No</td>\n",
              "    </tr>\n",
              "    <tr>\n",
              "      <th>1</th>\n",
              "      <td>5575-GNVDE</td>\n",
              "      <td>Male</td>\n",
              "      <td>0</td>\n",
              "      <td>No</td>\n",
              "      <td>No</td>\n",
              "      <td>34</td>\n",
              "      <td>Yes</td>\n",
              "      <td>No</td>\n",
              "      <td>DSL</td>\n",
              "      <td>Yes</td>\n",
              "      <td>...</td>\n",
              "      <td>Yes</td>\n",
              "      <td>No</td>\n",
              "      <td>No</td>\n",
              "      <td>No</td>\n",
              "      <td>One year</td>\n",
              "      <td>No</td>\n",
              "      <td>Mailed check</td>\n",
              "      <td>56.95</td>\n",
              "      <td>1889.5</td>\n",
              "      <td>No</td>\n",
              "    </tr>\n",
              "    <tr>\n",
              "      <th>2</th>\n",
              "      <td>3668-QPYBK</td>\n",
              "      <td>Male</td>\n",
              "      <td>0</td>\n",
              "      <td>No</td>\n",
              "      <td>No</td>\n",
              "      <td>2</td>\n",
              "      <td>Yes</td>\n",
              "      <td>No</td>\n",
              "      <td>DSL</td>\n",
              "      <td>Yes</td>\n",
              "      <td>...</td>\n",
              "      <td>No</td>\n",
              "      <td>No</td>\n",
              "      <td>No</td>\n",
              "      <td>No</td>\n",
              "      <td>Month-to-month</td>\n",
              "      <td>Yes</td>\n",
              "      <td>Mailed check</td>\n",
              "      <td>53.85</td>\n",
              "      <td>108.15</td>\n",
              "      <td>Yes</td>\n",
              "    </tr>\n",
              "    <tr>\n",
              "      <th>3</th>\n",
              "      <td>7795-CFOCW</td>\n",
              "      <td>Male</td>\n",
              "      <td>0</td>\n",
              "      <td>No</td>\n",
              "      <td>No</td>\n",
              "      <td>45</td>\n",
              "      <td>No</td>\n",
              "      <td>No phone service</td>\n",
              "      <td>DSL</td>\n",
              "      <td>Yes</td>\n",
              "      <td>...</td>\n",
              "      <td>Yes</td>\n",
              "      <td>Yes</td>\n",
              "      <td>No</td>\n",
              "      <td>No</td>\n",
              "      <td>One year</td>\n",
              "      <td>No</td>\n",
              "      <td>Bank transfer (automatic)</td>\n",
              "      <td>42.30</td>\n",
              "      <td>1840.75</td>\n",
              "      <td>No</td>\n",
              "    </tr>\n",
              "    <tr>\n",
              "      <th>4</th>\n",
              "      <td>9237-HQITU</td>\n",
              "      <td>Female</td>\n",
              "      <td>0</td>\n",
              "      <td>No</td>\n",
              "      <td>No</td>\n",
              "      <td>2</td>\n",
              "      <td>Yes</td>\n",
              "      <td>No</td>\n",
              "      <td>Fiber optic</td>\n",
              "      <td>No</td>\n",
              "      <td>...</td>\n",
              "      <td>No</td>\n",
              "      <td>No</td>\n",
              "      <td>No</td>\n",
              "      <td>No</td>\n",
              "      <td>Month-to-month</td>\n",
              "      <td>Yes</td>\n",
              "      <td>Electronic check</td>\n",
              "      <td>70.70</td>\n",
              "      <td>151.65</td>\n",
              "      <td>Yes</td>\n",
              "    </tr>\n",
              "  </tbody>\n",
              "</table>\n",
              "<p>5 rows × 21 columns</p>\n",
              "</div>\n",
              "      <button class=\"colab-df-convert\" onclick=\"convertToInteractive('df-0f5db5c5-bfdd-46f9-b422-9c181f9b4d36')\"\n",
              "              title=\"Convert this dataframe to an interactive table.\"\n",
              "              style=\"display:none;\">\n",
              "        \n",
              "  <svg xmlns=\"http://www.w3.org/2000/svg\" height=\"24px\"viewBox=\"0 0 24 24\"\n",
              "       width=\"24px\">\n",
              "    <path d=\"M0 0h24v24H0V0z\" fill=\"none\"/>\n",
              "    <path d=\"M18.56 5.44l.94 2.06.94-2.06 2.06-.94-2.06-.94-.94-2.06-.94 2.06-2.06.94zm-11 1L8.5 8.5l.94-2.06 2.06-.94-2.06-.94L8.5 2.5l-.94 2.06-2.06.94zm10 10l.94 2.06.94-2.06 2.06-.94-2.06-.94-.94-2.06-.94 2.06-2.06.94z\"/><path d=\"M17.41 7.96l-1.37-1.37c-.4-.4-.92-.59-1.43-.59-.52 0-1.04.2-1.43.59L10.3 9.45l-7.72 7.72c-.78.78-.78 2.05 0 2.83L4 21.41c.39.39.9.59 1.41.59.51 0 1.02-.2 1.41-.59l7.78-7.78 2.81-2.81c.8-.78.8-2.07 0-2.86zM5.41 20L4 18.59l7.72-7.72 1.47 1.35L5.41 20z\"/>\n",
              "  </svg>\n",
              "      </button>\n",
              "      \n",
              "  <style>\n",
              "    .colab-df-container {\n",
              "      display:flex;\n",
              "      flex-wrap:wrap;\n",
              "      gap: 12px;\n",
              "    }\n",
              "\n",
              "    .colab-df-convert {\n",
              "      background-color: #E8F0FE;\n",
              "      border: none;\n",
              "      border-radius: 50%;\n",
              "      cursor: pointer;\n",
              "      display: none;\n",
              "      fill: #1967D2;\n",
              "      height: 32px;\n",
              "      padding: 0 0 0 0;\n",
              "      width: 32px;\n",
              "    }\n",
              "\n",
              "    .colab-df-convert:hover {\n",
              "      background-color: #E2EBFA;\n",
              "      box-shadow: 0px 1px 2px rgba(60, 64, 67, 0.3), 0px 1px 3px 1px rgba(60, 64, 67, 0.15);\n",
              "      fill: #174EA6;\n",
              "    }\n",
              "\n",
              "    [theme=dark] .colab-df-convert {\n",
              "      background-color: #3B4455;\n",
              "      fill: #D2E3FC;\n",
              "    }\n",
              "\n",
              "    [theme=dark] .colab-df-convert:hover {\n",
              "      background-color: #434B5C;\n",
              "      box-shadow: 0px 1px 3px 1px rgba(0, 0, 0, 0.15);\n",
              "      filter: drop-shadow(0px 1px 2px rgba(0, 0, 0, 0.3));\n",
              "      fill: #FFFFFF;\n",
              "    }\n",
              "  </style>\n",
              "\n",
              "      <script>\n",
              "        const buttonEl =\n",
              "          document.querySelector('#df-0f5db5c5-bfdd-46f9-b422-9c181f9b4d36 button.colab-df-convert');\n",
              "        buttonEl.style.display =\n",
              "          google.colab.kernel.accessAllowed ? 'block' : 'none';\n",
              "\n",
              "        async function convertToInteractive(key) {\n",
              "          const element = document.querySelector('#df-0f5db5c5-bfdd-46f9-b422-9c181f9b4d36');\n",
              "          const dataTable =\n",
              "            await google.colab.kernel.invokeFunction('convertToInteractive',\n",
              "                                                     [key], {});\n",
              "          if (!dataTable) return;\n",
              "\n",
              "          const docLinkHtml = 'Like what you see? Visit the ' +\n",
              "            '<a target=\"_blank\" href=https://colab.research.google.com/notebooks/data_table.ipynb>data table notebook</a>'\n",
              "            + ' to learn more about interactive tables.';\n",
              "          element.innerHTML = '';\n",
              "          dataTable['output_type'] = 'display_data';\n",
              "          await google.colab.output.renderOutput(dataTable, element);\n",
              "          const docLink = document.createElement('div');\n",
              "          docLink.innerHTML = docLinkHtml;\n",
              "          element.appendChild(docLink);\n",
              "        }\n",
              "      </script>\n",
              "    </div>\n",
              "  </div>\n",
              "  "
            ]
          },
          "metadata": {},
          "execution_count": 3
        }
      ]
    },
    {
      "cell_type": "markdown",
      "source": [
        "Podemos observar que as features são em sua maioria composta por ***dados categóricos***, será necessário uma transformação nos dados para que não haja incompatibilidade com o modelo de Machine Learning que iremos utilizar. \n",
        "\n",
        "Nossa feature alvo será **Churn**, que inidica se um cliente cancelou o serviço ou não."
      ],
      "metadata": {
        "id": "K52Bm6AlY7AF"
      }
    },
    {
      "cell_type": "markdown",
      "source": [
        "###Análise dos tipos das Features"
      ],
      "metadata": {
        "id": "f0WUXktJczIO"
      }
    },
    {
      "cell_type": "code",
      "source": [
        "#Verificando quais são nossas features e o seu tipo\n",
        "print('\\nTipo das features do Dataset\\n')\n",
        "display(df.dtypes)"
      ],
      "metadata": {
        "id": "Ze9WHf6ZcUEf",
        "colab": {
          "base_uri": "https://localhost:8080/",
          "height": 451
        },
        "outputId": "de8c6289-9cd8-40eb-cf0c-a315572189fa"
      },
      "execution_count": 4,
      "outputs": [
        {
          "output_type": "stream",
          "name": "stdout",
          "text": [
            "\n",
            "Tipo das features do Dataset\n",
            "\n"
          ]
        },
        {
          "output_type": "display_data",
          "data": {
            "text/plain": [
              "customerID           object\n",
              "gender               object\n",
              "SeniorCitizen         int64\n",
              "Partner              object\n",
              "Dependents           object\n",
              "tenure                int64\n",
              "PhoneService         object\n",
              "MultipleLines        object\n",
              "InternetService      object\n",
              "OnlineSecurity       object\n",
              "OnlineBackup         object\n",
              "DeviceProtection     object\n",
              "TechSupport          object\n",
              "StreamingTV          object\n",
              "StreamingMovies      object\n",
              "Contract             object\n",
              "PaperlessBilling     object\n",
              "PaymentMethod        object\n",
              "MonthlyCharges      float64\n",
              "TotalCharges         object\n",
              "Churn                object\n",
              "dtype: object"
            ]
          },
          "metadata": {}
        }
      ]
    },
    {
      "cell_type": "markdown",
      "source": [
        "Conforme verificado anteriormente, temos apenas 3 features com dados númericos: ***'SeniorCitizen', 'tenure' e 'MontlhyCharges'***. O que é um problema para nosso modelo de Machine Learning."
      ],
      "metadata": {
        "id": "s5DP0ej9dJ6H"
      }
    },
    {
      "cell_type": "markdown",
      "source": [
        "###Dimensionamento do Conjunto de Dados"
      ],
      "metadata": {
        "id": "dchCPOx9d6ZN"
      }
    },
    {
      "cell_type": "code",
      "source": [
        "print('Features: {}'.format(df.shape[1]))\n",
        "print('Clientes: {}\\n'.format(df.shape[0]))"
      ],
      "metadata": {
        "colab": {
          "base_uri": "https://localhost:8080/"
        },
        "id": "BjBvye5fdIch",
        "outputId": "489cac98-ecc7-45ea-fec7-9b95b720f237"
      },
      "execution_count": 5,
      "outputs": [
        {
          "output_type": "stream",
          "name": "stdout",
          "text": [
            "Features: 21\n",
            "Clientes: 7043\n",
            "\n"
          ]
        }
      ]
    },
    {
      "cell_type": "markdown",
      "source": [
        "Temos ***21 features*** e ***7043 registros*** em nosso Dataset"
      ],
      "metadata": {
        "id": "CsO-IhrseEDz"
      }
    },
    {
      "cell_type": "markdown",
      "source": [
        "###Valores Ausentes"
      ],
      "metadata": {
        "id": "AY9wQugdech2"
      }
    },
    {
      "cell_type": "code",
      "source": [
        "#Verificando Valores Ausentes\n",
        "\n",
        "print('Valores Ausentes:\\n\\n',(df.isnull().sum() / df.shape[0]).sort_values(ascending=False))"
      ],
      "metadata": {
        "colab": {
          "base_uri": "https://localhost:8080/"
        },
        "id": "skauPDzbd4AW",
        "outputId": "75d1247e-5604-45b3-9d6d-882e4133ed24"
      },
      "execution_count": 6,
      "outputs": [
        {
          "output_type": "stream",
          "name": "stdout",
          "text": [
            "Valores Ausentes:\n",
            "\n",
            " customerID          0.0\n",
            "DeviceProtection    0.0\n",
            "TotalCharges        0.0\n",
            "MonthlyCharges      0.0\n",
            "PaymentMethod       0.0\n",
            "PaperlessBilling    0.0\n",
            "Contract            0.0\n",
            "StreamingMovies     0.0\n",
            "StreamingTV         0.0\n",
            "TechSupport         0.0\n",
            "OnlineBackup        0.0\n",
            "gender              0.0\n",
            "OnlineSecurity      0.0\n",
            "InternetService     0.0\n",
            "MultipleLines       0.0\n",
            "PhoneService        0.0\n",
            "tenure              0.0\n",
            "Dependents          0.0\n",
            "Partner             0.0\n",
            "SeniorCitizen       0.0\n",
            "Churn               0.0\n",
            "dtype: float64\n"
          ]
        }
      ]
    },
    {
      "cell_type": "markdown",
      "source": [
        "O Dataset não possui valores ausentes. Vamos verificar o balanceamento dos dados para nossa feature alvo *Churn*, que nos indica quando o cliente cancelou o serviço (Yes), ou se o cliente continua ativo (No)."
      ],
      "metadata": {
        "id": "sEXKRvIPgiMY"
      }
    },
    {
      "cell_type": "markdown",
      "source": [
        "###Balanceamento dos Dados"
      ],
      "metadata": {
        "id": "n-8H9bgyhIZn"
      }
    },
    {
      "cell_type": "code",
      "source": [
        "print('Verificando o balanceamento para nossa variável alvo\\n')\n",
        "print('Churn: {} registros\\n'.format(df.Churn.value_counts()['Yes']))\n",
        "print('Não Churn: {} registros\\n'.format(df.Churn.value_counts()['No']))\n",
        "print('Taxa de Churn: {:.4}%\\n'.format((df.Churn.value_counts()['Yes']/df.shape[0])*100))\n",
        "\n",
        "fig, ax = plt.subplots(figsize=(10,6), dpi=72)\n",
        "sns.countplot(x='Churn', y=None, data=df, ax=ax)\n",
        "plt.show()"
      ],
      "metadata": {
        "colab": {
          "base_uri": "https://localhost:8080/",
          "height": 527
        },
        "id": "2XWwwLM-rQpR",
        "outputId": "ee4af68f-8f91-4eb3-b34a-a8e59afdde9d"
      },
      "execution_count": 7,
      "outputs": [
        {
          "output_type": "stream",
          "name": "stdout",
          "text": [
            "Verificando o balanceamento para nossa variável alvo\n",
            "\n",
            "Churn: 1869 registros\n",
            "\n",
            "Não Churn: 5174 registros\n",
            "\n",
            "Taxa de Churn: 26.54%\n",
            "\n"
          ]
        },
        {
          "output_type": "display_data",
          "data": {
            "text/plain": [
              "<Figure size 720x432 with 1 Axes>"
            ],
            "image/png": "[encoded data removed]"
          },
          "metadata": {
            "needs_background": "light"
          }
        }
      ]
    },
    {
      "cell_type": "markdown",
      "source": [
        "Podemos verificar um leve desbalanceamento para nossa feature alvo, o que pode atrapalhar nosso modelo de Machine Learning. \n",
        "\n",
        "Mais adiante veremos se o balanceamento dos dados irá nos oferecer algum benefício."
      ],
      "metadata": {
        "id": "zBrib_w7rCNN"
      }
    },
    {
      "cell_type": "markdown",
      "source": [
        "###Outliers\n",
        "\n",
        "Agora vamos verificar a presença de outliers para nossas features numéricas.\n",
        "\n",
        ">***Outlier:*** valor aberrante ou valor atípico, é uma observação que apresenta um grande afastamento das demais da série, ou que é inconsistente. A existência de outliers implica, tipicamente, em prejuízos à interpretação dos resultados dos testes estatísticos aplicados às amostras. *(fonte wikipédia)*\n",
        "\n",
        "\n",
        "Relembrando temos 3 features numéricas em nosso Dataframe *'SeniorCitizen', 'tenure' e 'MontlhyCharges'*. Mas se analisarmos melhor, temos também a feature *'TotalCharges'*, que está como *type object*, mas contém dados numéricos, como podemos ver a seguir:"
      ],
      "metadata": {
        "id": "aLdti-6fvv-W"
      }
    },
    {
      "cell_type": "code",
      "source": [
        "df['TotalCharges'].head()\n"
      ],
      "metadata": {
        "colab": {
          "base_uri": "https://localhost:8080/"
        },
        "id": "fYyVFWb5w4UW",
        "outputId": "adecc8b7-4dfb-4205-9a94-e77c42730a57"
      },
      "execution_count": 8,
      "outputs": [
        {
          "output_type": "execute_result",
          "data": {
            "text/plain": [
              "0      29.85\n",
              "1     1889.5\n",
              "2     108.15\n",
              "3    1840.75\n",
              "4     151.65\n",
              "Name: TotalCharges, dtype: object"
            ]
          },
          "metadata": {},
          "execution_count": 8
        }
      ]
    },
    {
      "cell_type": "markdown",
      "source": [
        "Para analisarmos se a feature *'TotalCharges'* possui outlier será necessário transformarmos a mesma para o tipo *float*. \n",
        "\n",
        "Vamos adiantar essa parte da Preparação dos Dados para ser possível finalizarmos nossa Análise Exploratória."
      ],
      "metadata": {
        "id": "9NR3URLUxpqG"
      }
    },
    {
      "cell_type": "code",
      "source": [
        "#transformando a feature \"TotalCharges\" do tipo 'object' para 'float'\n",
        "df['TotalCharges'] = pd.to_numeric(df['TotalCharges'], errors = 'coerce')\n",
        "df['TotalCharges'].head()\n"
      ],
      "metadata": {
        "colab": {
          "base_uri": "https://localhost:8080/"
        },
        "id": "OkumjEfOzFOK",
        "outputId": "e5fa7012-f8d5-45be-a990-51f4b12e6512"
      },
      "execution_count": 9,
      "outputs": [
        {
          "output_type": "execute_result",
          "data": {
            "text/plain": [
              "0      29.85\n",
              "1    1889.50\n",
              "2     108.15\n",
              "3    1840.75\n",
              "4     151.65\n",
              "Name: TotalCharges, dtype: float64"
            ]
          },
          "metadata": {},
          "execution_count": 9
        }
      ]
    },
    {
      "cell_type": "markdown",
      "source": [
        "Após a transformação da feature vamos verificar se a mesma possui valores ausentes, pois como específicamos no comando o parâmetro *errors = 'coerce'*, no caso de erro na conversão, o valor vai ser inserido como NaN."
      ],
      "metadata": {
        "id": "nS_RiLGTtbDt"
      }
    },
    {
      "cell_type": "code",
      "source": [
        "#Verificando valores ausentes TotalCharges\n",
        "\n",
        "print('Valores Ausentes \"TotalCharges\":',(df['TotalCharges'].isnull().sum()))"
      ],
      "metadata": {
        "colab": {
          "base_uri": "https://localhost:8080/"
        },
        "id": "89XPM2YlufvA",
        "outputId": "04a0aef7-83ce-4620-e0ef-4ed7506da2d8"
      },
      "execution_count": 10,
      "outputs": [
        {
          "output_type": "stream",
          "name": "stdout",
          "text": [
            "Valores Ausentes \"TotalCharges\": 11\n"
          ]
        }
      ]
    },
    {
      "cell_type": "markdown",
      "source": [
        "Temos 11 valores ausentes para a feature *'TotalCharges'*, nosso dataset possui 7043 registros, os registros ausentes representam apenas 0,16% do total, logo podemos excluir esses registros sem perda de informação no dataset."
      ],
      "metadata": {
        "id": "r0aI9B4WvKU0"
      }
    },
    {
      "cell_type": "code",
      "source": [
        "#Excluindo valores ausentes\n",
        "df = df.dropna()\n",
        "print('Valores Ausentes \"TotalCharges\":',(df['TotalCharges'].isnull().sum()))"
      ],
      "metadata": {
        "colab": {
          "base_uri": "https://localhost:8080/"
        },
        "id": "WZbcJGjGv0wW",
        "outputId": "17da114c-5445-4c38-f594-018272d029b7"
      },
      "execution_count": 11,
      "outputs": [
        {
          "output_type": "stream",
          "name": "stdout",
          "text": [
            "Valores Ausentes \"TotalCharges\": 0\n"
          ]
        }
      ]
    },
    {
      "cell_type": "markdown",
      "source": [
        "Após a transformação da feature *'TotalCharges'* e exclusão dos valores ausentes, vamos verificar a presença de outliers para nossas features númericas 'tenure', 'MontlhyCharges' e 'TotalCharges', não iremos verificar a feature 'SeniorCitizen', pois a mesma só possui 2 valores 0 e 1, veja abaixo:"
      ],
      "metadata": {
        "id": "XiuV2CTmztHw"
      }
    },
    {
      "cell_type": "code",
      "source": [
        "#verificando valores únicos para a variável SeniorCitizen\n",
        "print('Quantidade de valores únicos \"SeniorCitizen\": ', len(df['SeniorCitizen'].unique()))\n",
        "print('Valores únicos para SeniorCitizen: ', df['SeniorCitizen'].unique())\n"
      ],
      "metadata": {
        "colab": {
          "base_uri": "https://localhost:8080/"
        },
        "id": "F1WZ3Hgd0u9Q",
        "outputId": "a2541553-2056-4dae-9198-ca4e09b1e440"
      },
      "execution_count": 12,
      "outputs": [
        {
          "output_type": "stream",
          "name": "stdout",
          "text": [
            "Quantidade de valores únicos \"SeniorCitizen\":  2\n",
            "Valores únicos para SeniorCitizen:  [0 1]\n"
          ]
        }
      ]
    },
    {
      "cell_type": "markdown",
      "source": [
        "####Resumo Estatístico\n",
        "\n",
        "Vamos utiliar o *describe* para verificar o resumo estatístico das features e analisar se identificamos anomalias.\n",
        "\n"
      ],
      "metadata": {
        "id": "xicL8Weu_zke"
      }
    },
    {
      "cell_type": "code",
      "source": [
        "#Verificando o resumo estatístico das variáveis numéricas para verificar presença de outliers\n",
        "df[['tenure', 'MonthlyCharges', 'TotalCharges']].describe()"
      ],
      "metadata": {
        "colab": {
          "base_uri": "https://localhost:8080/",
          "height": 300
        },
        "id": "4cl1lyReDvEz",
        "outputId": "af913d31-d889-49d0-966c-6f19a8ddee9c"
      },
      "execution_count": 13,
      "outputs": [
        {
          "output_type": "execute_result",
          "data": {
            "text/plain": [
              "            tenure  MonthlyCharges  TotalCharges\n",
              "count  7032.000000     7032.000000   7032.000000\n",
              "mean     32.421786       64.798208   2283.300441\n",
              "std      24.545260       30.085974   2266.771362\n",
              "min       1.000000       18.250000     18.800000\n",
              "25%       9.000000       35.587500    401.450000\n",
              "50%      29.000000       70.350000   1397.475000\n",
              "75%      55.000000       89.862500   3794.737500\n",
              "max      72.000000      118.750000   8684.800000"
            ],
            "text/html": [
              "\n",
              "  <div id=\"df-494464af-432f-4184-bba2-fb1c8d2cfadb\">\n",
              "    <div class=\"colab-df-container\">\n",
              "      <div>\n",
              "<style scoped>\n",
              "    .dataframe tbody tr th:only-of-type {\n",
              "        vertical-align: middle;\n",
              "    }\n",
              "\n",
              "    .dataframe tbody tr th {\n",
              "        vertical-align: top;\n",
              "    }\n",
              "\n",
              "    .dataframe thead th {\n",
              "        text-align: right;\n",
              "    }\n",
              "</style>\n",
              "<table border=\"1\" class=\"dataframe\">\n",
              "  <thead>\n",
              "    <tr style=\"text-align: right;\">\n",
              "      <th></th>\n",
              "      <th>tenure</th>\n",
              "      <th>MonthlyCharges</th>\n",
              "      <th>TotalCharges</th>\n",
              "    </tr>\n",
              "  </thead>\n",
              "  <tbody>\n",
              "    <tr>\n",
              "      <th>count</th>\n",
              "      <td>7032.000000</td>\n",
              "      <td>7032.000000</td>\n",
              "      <td>7032.000000</td>\n",
              "    </tr>\n",
              "    <tr>\n",
              "      <th>mean</th>\n",
              "      <td>32.421786</td>\n",
              "      <td>64.798208</td>\n",
              "      <td>2283.300441</td>\n",
              "    </tr>\n",
              "    <tr>\n",
              "      <th>std</th>\n",
              "      <td>24.545260</td>\n",
              "      <td>30.085974</td>\n",
              "      <td>2266.771362</td>\n",
              "    </tr>\n",
              "    <tr>\n",
              "      <th>min</th>\n",
              "      <td>1.000000</td>\n",
              "      <td>18.250000</td>\n",
              "      <td>18.800000</td>\n",
              "    </tr>\n",
              "    <tr>\n",
              "      <th>25%</th>\n",
              "      <td>9.000000</td>\n",
              "      <td>35.587500</td>\n",
              "      <td>401.450000</td>\n",
              "    </tr>\n",
              "    <tr>\n",
              "      <th>50%</th>\n",
              "      <td>29.000000</td>\n",
              "      <td>70.350000</td>\n",
              "      <td>1397.475000</td>\n",
              "    </tr>\n",
              "    <tr>\n",
              "      <th>75%</th>\n",
              "      <td>55.000000</td>\n",
              "      <td>89.862500</td>\n",
              "      <td>3794.737500</td>\n",
              "    </tr>\n",
              "    <tr>\n",
              "      <th>max</th>\n",
              "      <td>72.000000</td>\n",
              "      <td>118.750000</td>\n",
              "      <td>8684.800000</td>\n",
              "    </tr>\n",
              "  </tbody>\n",
              "</table>\n",
              "</div>\n",
              "      <button class=\"colab-df-convert\" onclick=\"convertToInteractive('df-494464af-432f-4184-bba2-fb1c8d2cfadb')\"\n",
              "              title=\"Convert this dataframe to an interactive table.\"\n",
              "              style=\"display:none;\">\n",
              "        \n",
              "  <svg xmlns=\"http://www.w3.org/2000/svg\" height=\"24px\"viewBox=\"0 0 24 24\"\n",
              "       width=\"24px\">\n",
              "    <path d=\"M0 0h24v24H0V0z\" fill=\"none\"/>\n",
              "    <path d=\"M18.56 5.44l.94 2.06.94-2.06 2.06-.94-2.06-.94-.94-2.06-.94 2.06-2.06.94zm-11 1L8.5 8.5l.94-2.06 2.06-.94-2.06-.94L8.5 2.5l-.94 2.06-2.06.94zm10 10l.94 2.06.94-2.06 2.06-.94-2.06-.94-.94-2.06-.94 2.06-2.06.94z\"/><path d=\"M17.41 7.96l-1.37-1.37c-.4-.4-.92-.59-1.43-.59-.52 0-1.04.2-1.43.59L10.3 9.45l-7.72 7.72c-.78.78-.78 2.05 0 2.83L4 21.41c.39.39.9.59 1.41.59.51 0 1.02-.2 1.41-.59l7.78-7.78 2.81-2.81c.8-.78.8-2.07 0-2.86zM5.41 20L4 18.59l7.72-7.72 1.47 1.35L5.41 20z\"/>\n",
              "  </svg>\n",
              "      </button>\n",
              "      \n",
              "  <style>\n",
              "    .colab-df-container {\n",
              "      display:flex;\n",
              "      flex-wrap:wrap;\n",
              "      gap: 12px;\n",
              "    }\n",
              "\n",
              "    .colab-df-convert {\n",
              "      background-color: #E8F0FE;\n",
              "      border: none;\n",
              "      border-radius: 50%;\n",
              "      cursor: pointer;\n",
              "      display: none;\n",
              "      fill: #1967D2;\n",
              "      height: 32px;\n",
              "      padding: 0 0 0 0;\n",
              "      width: 32px;\n",
              "    }\n",
              "\n",
              "    .colab-df-convert:hover {\n",
              "      background-color: #E2EBFA;\n",
              "      box-shadow: 0px 1px 2px rgba(60, 64, 67, 0.3), 0px 1px 3px 1px rgba(60, 64, 67, 0.15);\n",
              "      fill: #174EA6;\n",
              "    }\n",
              "\n",
              "    [theme=dark] .colab-df-convert {\n",
              "      background-color: #3B4455;\n",
              "      fill: #D2E3FC;\n",
              "    }\n",
              "\n",
              "    [theme=dark] .colab-df-convert:hover {\n",
              "      background-color: #434B5C;\n",
              "      box-shadow: 0px 1px 3px 1px rgba(0, 0, 0, 0.15);\n",
              "      filter: drop-shadow(0px 1px 2px rgba(0, 0, 0, 0.3));\n",
              "      fill: #FFFFFF;\n",
              "    }\n",
              "  </style>\n",
              "\n",
              "      <script>\n",
              "        const buttonEl =\n",
              "          document.querySelector('#df-494464af-432f-4184-bba2-fb1c8d2cfadb button.colab-df-convert');\n",
              "        buttonEl.style.display =\n",
              "          google.colab.kernel.accessAllowed ? 'block' : 'none';\n",
              "\n",
              "        async function convertToInteractive(key) {\n",
              "          const element = document.querySelector('#df-494464af-432f-4184-bba2-fb1c8d2cfadb');\n",
              "          const dataTable =\n",
              "            await google.colab.kernel.invokeFunction('convertToInteractive',\n",
              "                                                     [key], {});\n",
              "          if (!dataTable) return;\n",
              "\n",
              "          const docLinkHtml = 'Like what you see? Visit the ' +\n",
              "            '<a target=\"_blank\" href=https://colab.research.google.com/notebooks/data_table.ipynb>data table notebook</a>'\n",
              "            + ' to learn more about interactive tables.';\n",
              "          element.innerHTML = '';\n",
              "          dataTable['output_type'] = 'display_data';\n",
              "          await google.colab.output.renderOutput(dataTable, element);\n",
              "          const docLink = document.createElement('div');\n",
              "          docLink.innerHTML = docLinkHtml;\n",
              "          element.appendChild(docLink);\n",
              "        }\n",
              "      </script>\n",
              "    </div>\n",
              "  </div>\n",
              "  "
            ]
          },
          "metadata": {},
          "execution_count": 13
        }
      ]
    },
    {
      "cell_type": "markdown",
      "source": [
        "Podemos observar que não temos grandes discrepâncias nas features, temos valores de desvio padrão aceitáveis, que nos mostra o quanto os dados se dispersam em relação a média.\n",
        "\n",
        "Temos também uma boa distribuição entre os valores ***min, Quartis (25%, 50%, 75%) e max***, mostrando uma certa discrepância apenas na feature *TotalCharges*, onde 75% dos valores estão abaixo de 3794.73 e o valor máximo é de 8684.80.\n",
        "\n",
        "Para analisarmos a distribuição dos dados de uma forma visual, vamos plotar 2 gráficos que irão nos permitir entender melhor como os dados estão dispersos, usaremos o **Histograma e o Boxplot**"
      ],
      "metadata": {
        "id": "lUStwUmLESOz"
      }
    },
    {
      "cell_type": "markdown",
      "source": [
        "####Histograma"
      ],
      "metadata": {
        "id": "vGMxe8mMdZrt"
      }
    },
    {
      "cell_type": "code",
      "source": [
        "#Histograma para as features numéricas\n",
        "\n",
        "fig, ax = plt.subplots(figsize=(15,5), dpi=72, ncols=3)\n",
        "\n",
        "sns.histplot(bins=15, y=None, data=df.tenure, ax=ax[0], color=\"#003F5c\")\n",
        "ax[0].spines['right'].set_visible(False)\n",
        "ax[0].spines['top'].set_visible(False)\n",
        "\n",
        "sns.histplot(bins=15, y=None, data=df.MonthlyCharges, ax=ax[1], color=\"#003F5c\")\n",
        "ax[1].spines['right'].set_visible(False)\n",
        "ax[1].spines['top'].set_visible(False)\n",
        "\n",
        "sns.histplot(bins=15, y=None, data=df.TotalCharges, ax=ax[2], color=\"#003F5c\" )\n",
        "ax[2].spines['right'].set_visible(False)\n",
        "ax[2].spines['top'].set_visible(False)\n",
        "plt.show()"
      ],
      "metadata": {
        "colab": {
          "base_uri": "https://localhost:8080/",
          "height": 334
        },
        "id": "pXdoujnFbyn2",
        "outputId": "df0edad9-f17a-4659-ebcf-5934debc53d1"
      },
      "execution_count": 14,
      "outputs": [
        {
          "output_type": "display_data",
          "data": {
            "text/plain": [
              "<Figure size 1080x360 with 3 Axes>"
            ],
            "image/png": "[encoded data removed]"
          },
          "metadata": {
            "needs_background": "light"
          }
        }
      ]
    },
    {
      "cell_type": "markdown",
      "source": [
        "Conforme já haviamos verificado no Resumo Estatístico, podemos observar no Histograma que temos uma boa distribuição dos dados, apenas na feature *'TotalCharges'* podemos perceber uma distribuição menos uniforme e um range de valores de maior amplitude. \n",
        "\n",
        "O ***Boxplot*** irá nos ajudar a entender ainda melhor essa distribuição."
      ],
      "metadata": {
        "id": "KaBY-SPgdSYF"
      }
    },
    {
      "cell_type": "markdown",
      "source": [
        "####Boxplot"
      ],
      "metadata": {
        "id": "Z7TJzLiReVT4"
      }
    },
    {
      "cell_type": "code",
      "source": [
        "fig, ax = plt.subplots(figsize=(15,5), dpi=72, ncols=1, nrows=5)\n",
        "\n",
        "sns.boxplot(data=df.tenure, ax=ax[0], orient='h', color=\"#003F5c\")\n",
        "ax[0].set_title('tenure')\n",
        "ax[1].set_visible(False)\n",
        "\n",
        "sns.boxplot(data=df.MonthlyCharges, ax=ax[2], orient='h', color=\"#003F5c\")\n",
        "ax[2].set_title('MonthlyCharges')\n",
        "ax[3].set_visible(False)\n",
        "\n",
        "sns.boxplot(data=df.TotalCharges, ax=ax[4], orient='h', color=\"#003F5c\")\n",
        "ax[4].set_title('TotalCharges')\n",
        "\n",
        "plt.show()"
      ],
      "metadata": {
        "colab": {
          "base_uri": "https://localhost:8080/",
          "height": 336
        },
        "id": "WDjeP6bFcBAY",
        "outputId": "341a04dc-107b-4ce0-8336-9652e8ee618a"
      },
      "execution_count": 15,
      "outputs": [
        {
          "output_type": "display_data",
          "data": {
            "text/plain": [
              "<Figure size 1080x360 with 5 Axes>"
            ],
            "image/png": "[encoded data removed]"
          },
          "metadata": {
            "needs_background": "light"
          }
        }
      ]
    },
    {
      "cell_type": "markdown",
      "source": [
        "Agora podemos confirmar o que já havia sido observado no *Resumo Estatístico e Histograma*, podemos ver como a maior parte dos dados estão distribuídos mais ao centro do range de valores para as features *tenure e MonthlyCharges*.\n",
        "\n",
        "Para *TotalCharges* verificamos que a concentração dos dados está em sua grande parte entre *0 e 4000*, e o restante se estende a valores acima de *8000*. Esses valores que se estendem muito acima do range onde estão dispostos a maior parte dos dados, podem interferir em nosso modelo de Machine Learning, sendo mais um ponto a tratarmos na fase de Preparação dos Dados.\n",
        "\n",
        "Para um melhor entendimento sobre o Boxplot verifique [Aqui](https://pt.wikipedia.org/wiki/Diagrama_de_caixa)"
      ],
      "metadata": {
        "id": "tlSvfcffeZYP"
      }
    },
    {
      "cell_type": "markdown",
      "source": [
        "Agora que já temos um bom entendimento sobre o nosso conjunto de dados, precisamos prepará-los para o nosso modelo de Machine Learning, corrigindo os pontos que identificamos como prejudiciais a sua performance."
      ],
      "metadata": {
        "id": "1K4-QoS2hDtk"
      }
    },
    {
      "cell_type": "markdown",
      "source": [
        "##Preparação dos Dados\n",
        "\n",
        "Vamos iniciar a fase de preparação dos dados, em nossa análise vimos que nosso conjunto é composto em grande parte por features categóricas, os algoritmos de Machine Learning trabalham em sua maioria com dados numéricos. \n",
        "\n",
        "Vamos precisar transformar nossas features categóricas em numéricas, para decidirmos qual forma de transformação usar, precisamos saber a quantidade de valores únicos presentes em cada feature."
      ],
      "metadata": {
        "id": "McoVTy5chn3C"
      }
    },
    {
      "cell_type": "code",
      "source": [
        "#verificando a quantidade de valores únicos das variáveis\n",
        "\n",
        "print(\"Quantidades de Valores Únicos para cada Feature do Dataset\\n\")\n",
        "for col in df.columns :\n",
        "  if len(df[col].unique()) < 5 :\n",
        "    print(col, ': ', len(df[col].unique()), df[col].unique(), '\\n')\n",
        "  else :\n",
        "    print(col, ': ', len(df[col].unique()), '\\n')  "
      ],
      "metadata": {
        "colab": {
          "base_uri": "https://localhost:8080/"
        },
        "id": "nJrj6uEBfKpU",
        "outputId": "e44be36a-5dde-45aa-d34b-59d505709014"
      },
      "execution_count": 16,
      "outputs": [
        {
          "output_type": "stream",
          "name": "stdout",
          "text": [
            "Quantidades de Valores Únicos para cada Feature do Dataset\n",
            "\n",
            "customerID :  7032 \n",
            "\n",
            "gender :  2 ['Female' 'Male'] \n",
            "\n",
            "SeniorCitizen :  2 [0 1] \n",
            "\n",
            "Partner :  2 ['Yes' 'No'] \n",
            "\n",
            "Dependents :  2 ['No' 'Yes'] \n",
            "\n",
            "tenure :  72 \n",
            "\n",
            "PhoneService :  2 ['No' 'Yes'] \n",
            "\n",
            "MultipleLines :  3 ['No phone service' 'No' 'Yes'] \n",
            "\n",
            "InternetService :  3 ['DSL' 'Fiber optic' 'No'] \n",
            "\n",
            "OnlineSecurity :  3 ['No' 'Yes' 'No internet service'] \n",
            "\n",
            "OnlineBackup :  3 ['Yes' 'No' 'No internet service'] \n",
            "\n",
            "DeviceProtection :  3 ['No' 'Yes' 'No internet service'] \n",
            "\n",
            "TechSupport :  3 ['No' 'Yes' 'No internet service'] \n",
            "\n",
            "StreamingTV :  3 ['No' 'Yes' 'No internet service'] \n",
            "\n",
            "StreamingMovies :  3 ['No' 'Yes' 'No internet service'] \n",
            "\n",
            "Contract :  3 ['Month-to-month' 'One year' 'Two year'] \n",
            "\n",
            "PaperlessBilling :  2 ['Yes' 'No'] \n",
            "\n",
            "PaymentMethod :  4 ['Electronic check' 'Mailed check' 'Bank transfer (automatic)'\n",
            " 'Credit card (automatic)'] \n",
            "\n",
            "MonthlyCharges :  1584 \n",
            "\n",
            "TotalCharges :  6530 \n",
            "\n",
            "Churn :  2 ['No' 'Yes'] \n",
            "\n"
          ]
        }
      ]
    },
    {
      "cell_type": "markdown",
      "source": [
        "Observamos que nossas features possuem no máximo 4 valores únicos *(com excessão das nossas features numéricas que não precisarão ser transformadas)*. A feature *'customerID'* possui um valor único para cada registro, seu valor não possui informação relevante para o modelo, vamos remover essa feature do dataset posteriormente.\n",
        "\n",
        "Essa informação dos valores únicos é importante porque um dos métodos de transformação cria uma feature nova no dataset para cada valor único, se a feature possui muitos valores únicos isso irá aumentar consideravemente o tamanho e complexidade do dataset. No nosso caso as features possuem poucos valores únicos então poderemos utilizar o método **One Hot Encoder**.\n",
        "\n",
        ">**One Hot Encoder** cria uma nova feature para cada valor único, caso aquele registro possua o determinado valor, a feature criada recebe *1*, do contrário recebe *0*. Vamos ilustrar para melhor entendimento.\n",
        "\n",
        "<p align=center>\n",
        "<img src=\"https://github.com/paulors82/imagens/blob/gh-pages/ohe.png?raw=true\" width=\"50%\"></p>\n",
        "\n",
        "*Quem quiser saber mais [Veja Aqui](https://www.kaggle.com/code/dansbecker/using-categorical-data-with-one-hot-encoding/notebook)*\n",
        "\n",
        "\n",
        "\n"
      ],
      "metadata": {
        "id": "_d-3Ep6PjC_b"
      }
    },
    {
      "cell_type": "markdown",
      "source": [
        "####Remoção feature e Transformação *'Churn'*\n",
        "\n",
        "Antes da transformação das features vamos realizar 2 ações, excluir a feature *'customerID'* que não acrescenta informação ao nosso conjunto e possui um valor único para cada registro, e transformar a nossa variável alvo manualmente, visto que o ***One Hot Encoder*** iria gerar 2 colunas diferentes para a variável alvo."
      ],
      "metadata": {
        "id": "tl1vfaOFolc5"
      }
    },
    {
      "cell_type": "code",
      "source": [
        "#Criando uma cópia do Dataframe e removendo a feature customerID que não acrescenta informações relevantes para o modelo de Machine Learning \n",
        "df_clean = df.drop('customerID', axis=1)\n",
        "\n",
        "#transformar nossa variável alvo de categórica para binária\n",
        "df_clean['Churn'] = df_clean['Churn'].map({'No': 0, 'Yes': 1}, na_action=None)\n",
        "\n",
        "print('Colunas do Dataframe \\n\\n',df_clean.columns.tolist())\n",
        "print('\\nValores únicos para Chrun: ', df_clean['Churn'].unique())\n",
        "\n"
      ],
      "metadata": {
        "colab": {
          "base_uri": "https://localhost:8080/"
        },
        "id": "i7ew3SYm5j5n",
        "outputId": "12b26979-c077-4f43-e150-5fd1bf4ed118"
      },
      "execution_count": 17,
      "outputs": [
        {
          "output_type": "stream",
          "name": "stdout",
          "text": [
            "Colunas do Dataframe \n",
            "\n",
            " ['gender', 'SeniorCitizen', 'Partner', 'Dependents', 'tenure', 'PhoneService', 'MultipleLines', 'InternetService', 'OnlineSecurity', 'OnlineBackup', 'DeviceProtection', 'TechSupport', 'StreamingTV', 'StreamingMovies', 'Contract', 'PaperlessBilling', 'PaymentMethod', 'MonthlyCharges', 'TotalCharges', 'Churn']\n",
            "\n",
            "Valores únicos para Chrun:  [0 1]\n"
          ]
        }
      ]
    },
    {
      "cell_type": "markdown",
      "source": [
        "Feature *'customerID'* removida e alterada feature *'Churn'* para:\n",
        "\n",
        "Valor *'No'* inserido *'0'* \n",
        "\n",
        "Valor *'Yes'* inserido *'1'*"
      ],
      "metadata": {
        "id": "etT3pj608A-X"
      }
    },
    {
      "cell_type": "markdown",
      "source": [
        "####One Hot Encoding - Tratando Variáveis Categóricas\n",
        "\n",
        "Primeiramente vamos pegar a lista de features do nosso dataset, exceto as features numéricas e as que realizamos as transformações manualmente"
      ],
      "metadata": {
        "id": "ybqvV9If_HoW"
      }
    },
    {
      "cell_type": "code",
      "source": [
        "#colocando em uma lista as features que passarão pelo One-Hot-Encoding, demais features já são numéricas\n",
        "features = []\n",
        "for col in df_clean.columns :\n",
        "  if col != 'Churn' and col != 'TotalCharges' and col != 'MonthlyCharges' and col != 'tenure' and col != 'SeniorCitizen':\n",
        "    features.append(col)\n",
        "print(features)"
      ],
      "metadata": {
        "colab": {
          "base_uri": "https://localhost:8080/"
        },
        "id": "x-JQdi_w5wh5",
        "outputId": "0b5c77bb-64ff-4547-ffdd-15ef084427da"
      },
      "execution_count": 18,
      "outputs": [
        {
          "output_type": "stream",
          "name": "stdout",
          "text": [
            "['gender', 'Partner', 'Dependents', 'PhoneService', 'MultipleLines', 'InternetService', 'OnlineSecurity', 'OnlineBackup', 'DeviceProtection', 'TechSupport', 'StreamingTV', 'StreamingMovies', 'Contract', 'PaperlessBilling', 'PaymentMethod']\n"
          ]
        }
      ]
    },
    {
      "cell_type": "markdown",
      "source": [
        "Com o nome das nossas features em formato de lista, vamos agora realizar a transformação através do get_dummies."
      ],
      "metadata": {
        "id": "YUJmc5XR_zwE"
      }
    },
    {
      "cell_type": "code",
      "source": [
        "#Transformando variáves categóricas com o One-Hot-Encoding\n",
        "df_enc = pd.get_dummies(df_clean, columns=features)\n",
        "\n",
        "print('\\nNova dimensão do dataset após One-Hot-Encoding\\n')\n",
        "print('Features: {}'.format(df_enc.shape[1]))\n",
        "print('Clientes: {}\\n'.format(df_enc.shape[0]))\n",
        "\n",
        "display(df_enc.dtypes)"
      ],
      "metadata": {
        "colab": {
          "base_uri": "https://localhost:8080/",
          "height": 937
        },
        "id": "g_qBpb927-2v",
        "outputId": "2b60b5ce-b472-42b3-8690-0baac0ab0189"
      },
      "execution_count": 19,
      "outputs": [
        {
          "output_type": "stream",
          "name": "stdout",
          "text": [
            "\n",
            "Nova dimensão do dataset após One-Hot-Encoding\n",
            "\n",
            "Features: 46\n",
            "Clientes: 7032\n",
            "\n"
          ]
        },
        {
          "output_type": "display_data",
          "data": {
            "text/plain": [
              "SeniorCitizen                                int64\n",
              "tenure                                       int64\n",
              "MonthlyCharges                             float64\n",
              "TotalCharges                               float64\n",
              "Churn                                        int64\n",
              "gender_Female                                uint8\n",
              "gender_Male                                  uint8\n",
              "Partner_No                                   uint8\n",
              "Partner_Yes                                  uint8\n",
              "Dependents_No                                uint8\n",
              "Dependents_Yes                               uint8\n",
              "PhoneService_No                              uint8\n",
              "PhoneService_Yes                             uint8\n",
              "MultipleLines_No                             uint8\n",
              "MultipleLines_No phone service               uint8\n",
              "MultipleLines_Yes                            uint8\n",
              "InternetService_DSL                          uint8\n",
              "InternetService_Fiber optic                  uint8\n",
              "InternetService_No                           uint8\n",
              "OnlineSecurity_No                            uint8\n",
              "OnlineSecurity_No internet service           uint8\n",
              "OnlineSecurity_Yes                           uint8\n",
              "OnlineBackup_No                              uint8\n",
              "OnlineBackup_No internet service             uint8\n",
              "OnlineBackup_Yes                             uint8\n",
              "DeviceProtection_No                          uint8\n",
              "DeviceProtection_No internet service         uint8\n",
              "DeviceProtection_Yes                         uint8\n",
              "TechSupport_No                               uint8\n",
              "TechSupport_No internet service              uint8\n",
              "TechSupport_Yes                              uint8\n",
              "StreamingTV_No                               uint8\n",
              "StreamingTV_No internet service              uint8\n",
              "StreamingTV_Yes                              uint8\n",
              "StreamingMovies_No                           uint8\n",
              "StreamingMovies_No internet service          uint8\n",
              "StreamingMovies_Yes                          uint8\n",
              "Contract_Month-to-month                      uint8\n",
              "Contract_One year                            uint8\n",
              "Contract_Two year                            uint8\n",
              "PaperlessBilling_No                          uint8\n",
              "PaperlessBilling_Yes                         uint8\n",
              "PaymentMethod_Bank transfer (automatic)      uint8\n",
              "PaymentMethod_Credit card (automatic)        uint8\n",
              "PaymentMethod_Electronic check               uint8\n",
              "PaymentMethod_Mailed check                   uint8\n",
              "dtype: object"
            ]
          },
          "metadata": {}
        }
      ]
    },
    {
      "cell_type": "markdown",
      "source": [
        "Vejam que o número de features do nosso Dataset foi de **20** para **46**, foi criada uma feature nova para cada valor único da nossa lista de features passado como parâmetro. Nosso Dataset mais que dobrou o número de features, por esse motivo em features com muitos valores únicos o ideal é utilizar um método diferente no tratamento das variáveis categóricas.\n",
        "\n",
        "Podemos observar também que o tipo das features transformadas agora é ***uint8***, significa um inteiro de 8 bits (entre 0 e 255).\n",
        "\n",
        "Vamos analisar como ficou nosso Dataset"
      ],
      "metadata": {
        "id": "d7bZImdhAvp_"
      }
    },
    {
      "cell_type": "code",
      "source": [
        "df_enc.head()"
      ],
      "metadata": {
        "colab": {
          "base_uri": "https://localhost:8080/",
          "height": 334
        },
        "id": "oe7snPJd9TIo",
        "outputId": "679b669f-291c-4426-e7f5-03cdd869d5d0"
      },
      "execution_count": 20,
      "outputs": [
        {
          "output_type": "execute_result",
          "data": {
            "text/plain": [
              "   SeniorCitizen  tenure  MonthlyCharges  TotalCharges  Churn  gender_Female  \\\n",
              "0              0       1           29.85         29.85      0              1   \n",
              "1              0      34           56.95       1889.50      0              0   \n",
              "2              0       2           53.85        108.15      1              0   \n",
              "3              0      45           42.30       1840.75      0              0   \n",
              "4              0       2           70.70        151.65      1              1   \n",
              "\n",
              "   gender_Male  Partner_No  Partner_Yes  Dependents_No  ...  \\\n",
              "0            0           0            1              1  ...   \n",
              "1            1           1            0              1  ...   \n",
              "2            1           1            0              1  ...   \n",
              "3            1           1            0              1  ...   \n",
              "4            0           1            0              1  ...   \n",
              "\n",
              "   StreamingMovies_Yes  Contract_Month-to-month  Contract_One year  \\\n",
              "0                    0                        1                  0   \n",
              "1                    0                        0                  1   \n",
              "2                    0                        1                  0   \n",
              "3                    0                        0                  1   \n",
              "4                    0                        1                  0   \n",
              "\n",
              "   Contract_Two year  PaperlessBilling_No  PaperlessBilling_Yes  \\\n",
              "0                  0                    0                     1   \n",
              "1                  0                    1                     0   \n",
              "2                  0                    0                     1   \n",
              "3                  0                    1                     0   \n",
              "4                  0                    0                     1   \n",
              "\n",
              "   PaymentMethod_Bank transfer (automatic)  \\\n",
              "0                                        0   \n",
              "1                                        0   \n",
              "2                                        0   \n",
              "3                                        1   \n",
              "4                                        0   \n",
              "\n",
              "   PaymentMethod_Credit card (automatic)  PaymentMethod_Electronic check  \\\n",
              "0                                      0                               1   \n",
              "1                                      0                               0   \n",
              "2                                      0                               0   \n",
              "3                                      0                               0   \n",
              "4                                      0                               1   \n",
              "\n",
              "   PaymentMethod_Mailed check  \n",
              "0                           0  \n",
              "1                           1  \n",
              "2                           1  \n",
              "3                           0  \n",
              "4                           0  \n",
              "\n",
              "[5 rows x 46 columns]"
            ],
            "text/html": [
              "\n",
              "  <div id=\"df-d19d933c-9b12-4400-847c-85b204ff7a3c\">\n",
              "    <div class=\"colab-df-container\">\n",
              "      <div>\n",
              "<style scoped>\n",
              "    .dataframe tbody tr th:only-of-type {\n",
              "        vertical-align: middle;\n",
              "    }\n",
              "\n",
              "    .dataframe tbody tr th {\n",
              "        vertical-align: top;\n",
              "    }\n",
              "\n",
              "    .dataframe thead th {\n",
              "        text-align: right;\n",
              "    }\n",
              "</style>\n",
              "<table border=\"1\" class=\"dataframe\">\n",
              "  <thead>\n",
              "    <tr style=\"text-align: right;\">\n",
              "      <th></th>\n",
              "      <th>SeniorCitizen</th>\n",
              "      <th>tenure</th>\n",
              "      <th>MonthlyCharges</th>\n",
              "      <th>TotalCharges</th>\n",
              "      <th>Churn</th>\n",
              "      <th>gender_Female</th>\n",
              "      <th>gender_Male</th>\n",
              "      <th>Partner_No</th>\n",
              "      <th>Partner_Yes</th>\n",
              "      <th>Dependents_No</th>\n",
              "      <th>...</th>\n",
              "      <th>StreamingMovies_Yes</th>\n",
              "      <th>Contract_Month-to-month</th>\n",
              "      <th>Contract_One year</th>\n",
              "      <th>Contract_Two year</th>\n",
              "      <th>PaperlessBilling_No</th>\n",
              "      <th>PaperlessBilling_Yes</th>\n",
              "      <th>PaymentMethod_Bank transfer (automatic)</th>\n",
              "      <th>PaymentMethod_Credit card (automatic)</th>\n",
              "      <th>PaymentMethod_Electronic check</th>\n",
              "      <th>PaymentMethod_Mailed check</th>\n",
              "    </tr>\n",
              "  </thead>\n",
              "  <tbody>\n",
              "    <tr>\n",
              "      <th>0</th>\n",
              "      <td>0</td>\n",
              "      <td>1</td>\n",
              "      <td>29.85</td>\n",
              "      <td>29.85</td>\n",
              "      <td>0</td>\n",
              "      <td>1</td>\n",
              "      <td>0</td>\n",
              "      <td>0</td>\n",
              "      <td>1</td>\n",
              "      <td>1</td>\n",
              "      <td>...</td>\n",
              "      <td>0</td>\n",
              "      <td>1</td>\n",
              "      <td>0</td>\n",
              "      <td>0</td>\n",
              "      <td>0</td>\n",
              "      <td>1</td>\n",
              "      <td>0</td>\n",
              "      <td>0</td>\n",
              "      <td>1</td>\n",
              "      <td>0</td>\n",
              "    </tr>\n",
              "    <tr>\n",
              "      <th>1</th>\n",
              "      <td>0</td>\n",
              "      <td>34</td>\n",
              "      <td>56.95</td>\n",
              "      <td>1889.50</td>\n",
              "      <td>0</td>\n",
              "      <td>0</td>\n",
              "      <td>1</td>\n",
              "      <td>1</td>\n",
              "      <td>0</td>\n",
              "      <td>1</td>\n",
              "      <td>...</td>\n",
              "      <td>0</td>\n",
              "      <td>0</td>\n",
              "      <td>1</td>\n",
              "      <td>0</td>\n",
              "      <td>1</td>\n",
              "      <td>0</td>\n",
              "      <td>0</td>\n",
              "      <td>0</td>\n",
              "      <td>0</td>\n",
              "      <td>1</td>\n",
              "    </tr>\n",
              "    <tr>\n",
              "      <th>2</th>\n",
              "      <td>0</td>\n",
              "      <td>2</td>\n",
              "      <td>53.85</td>\n",
              "      <td>108.15</td>\n",
              "      <td>1</td>\n",
              "      <td>0</td>\n",
              "      <td>1</td>\n",
              "      <td>1</td>\n",
              "      <td>0</td>\n",
              "      <td>1</td>\n",
              "      <td>...</td>\n",
              "      <td>0</td>\n",
              "      <td>1</td>\n",
              "      <td>0</td>\n",
              "      <td>0</td>\n",
              "      <td>0</td>\n",
              "      <td>1</td>\n",
              "      <td>0</td>\n",
              "      <td>0</td>\n",
              "      <td>0</td>\n",
              "      <td>1</td>\n",
              "    </tr>\n",
              "    <tr>\n",
              "      <th>3</th>\n",
              "      <td>0</td>\n",
              "      <td>45</td>\n",
              "      <td>42.30</td>\n",
              "      <td>1840.75</td>\n",
              "      <td>0</td>\n",
              "      <td>0</td>\n",
              "      <td>1</td>\n",
              "      <td>1</td>\n",
              "      <td>0</td>\n",
              "      <td>1</td>\n",
              "      <td>...</td>\n",
              "      <td>0</td>\n",
              "      <td>0</td>\n",
              "      <td>1</td>\n",
              "      <td>0</td>\n",
              "      <td>1</td>\n",
              "      <td>0</td>\n",
              "      <td>1</td>\n",
              "      <td>0</td>\n",
              "      <td>0</td>\n",
              "      <td>0</td>\n",
              "    </tr>\n",
              "    <tr>\n",
              "      <th>4</th>\n",
              "      <td>0</td>\n",
              "      <td>2</td>\n",
              "      <td>70.70</td>\n",
              "      <td>151.65</td>\n",
              "      <td>1</td>\n",
              "      <td>1</td>\n",
              "      <td>0</td>\n",
              "      <td>1</td>\n",
              "      <td>0</td>\n",
              "      <td>1</td>\n",
              "      <td>...</td>\n",
              "      <td>0</td>\n",
              "      <td>1</td>\n",
              "      <td>0</td>\n",
              "      <td>0</td>\n",
              "      <td>0</td>\n",
              "      <td>1</td>\n",
              "      <td>0</td>\n",
              "      <td>0</td>\n",
              "      <td>1</td>\n",
              "      <td>0</td>\n",
              "    </tr>\n",
              "  </tbody>\n",
              "</table>\n",
              "<p>5 rows × 46 columns</p>\n",
              "</div>\n",
              "      <button class=\"colab-df-convert\" onclick=\"convertToInteractive('df-d19d933c-9b12-4400-847c-85b204ff7a3c')\"\n",
              "              title=\"Convert this dataframe to an interactive table.\"\n",
              "              style=\"display:none;\">\n",
              "        \n",
              "  <svg xmlns=\"http://www.w3.org/2000/svg\" height=\"24px\"viewBox=\"0 0 24 24\"\n",
              "       width=\"24px\">\n",
              "    <path d=\"M0 0h24v24H0V0z\" fill=\"none\"/>\n",
              "    <path d=\"M18.56 5.44l.94 2.06.94-2.06 2.06-.94-2.06-.94-.94-2.06-.94 2.06-2.06.94zm-11 1L8.5 8.5l.94-2.06 2.06-.94-2.06-.94L8.5 2.5l-.94 2.06-2.06.94zm10 10l.94 2.06.94-2.06 2.06-.94-2.06-.94-.94-2.06-.94 2.06-2.06.94z\"/><path d=\"M17.41 7.96l-1.37-1.37c-.4-.4-.92-.59-1.43-.59-.52 0-1.04.2-1.43.59L10.3 9.45l-7.72 7.72c-.78.78-.78 2.05 0 2.83L4 21.41c.39.39.9.59 1.41.59.51 0 1.02-.2 1.41-.59l7.78-7.78 2.81-2.81c.8-.78.8-2.07 0-2.86zM5.41 20L4 18.59l7.72-7.72 1.47 1.35L5.41 20z\"/>\n",
              "  </svg>\n",
              "      </button>\n",
              "      \n",
              "  <style>\n",
              "    .colab-df-container {\n",
              "      display:flex;\n",
              "      flex-wrap:wrap;\n",
              "      gap: 12px;\n",
              "    }\n",
              "\n",
              "    .colab-df-convert {\n",
              "      background-color: #E8F0FE;\n",
              "      border: none;\n",
              "      border-radius: 50%;\n",
              "      cursor: pointer;\n",
              "      display: none;\n",
              "      fill: #1967D2;\n",
              "      height: 32px;\n",
              "      padding: 0 0 0 0;\n",
              "      width: 32px;\n",
              "    }\n",
              "\n",
              "    .colab-df-convert:hover {\n",
              "      background-color: #E2EBFA;\n",
              "      box-shadow: 0px 1px 2px rgba(60, 64, 67, 0.3), 0px 1px 3px 1px rgba(60, 64, 67, 0.15);\n",
              "      fill: #174EA6;\n",
              "    }\n",
              "\n",
              "    [theme=dark] .colab-df-convert {\n",
              "      background-color: #3B4455;\n",
              "      fill: #D2E3FC;\n",
              "    }\n",
              "\n",
              "    [theme=dark] .colab-df-convert:hover {\n",
              "      background-color: #434B5C;\n",
              "      box-shadow: 0px 1px 3px 1px rgba(0, 0, 0, 0.15);\n",
              "      filter: drop-shadow(0px 1px 2px rgba(0, 0, 0, 0.3));\n",
              "      fill: #FFFFFF;\n",
              "    }\n",
              "  </style>\n",
              "\n",
              "      <script>\n",
              "        const buttonEl =\n",
              "          document.querySelector('#df-d19d933c-9b12-4400-847c-85b204ff7a3c button.colab-df-convert');\n",
              "        buttonEl.style.display =\n",
              "          google.colab.kernel.accessAllowed ? 'block' : 'none';\n",
              "\n",
              "        async function convertToInteractive(key) {\n",
              "          const element = document.querySelector('#df-d19d933c-9b12-4400-847c-85b204ff7a3c');\n",
              "          const dataTable =\n",
              "            await google.colab.kernel.invokeFunction('convertToInteractive',\n",
              "                                                     [key], {});\n",
              "          if (!dataTable) return;\n",
              "\n",
              "          const docLinkHtml = 'Like what you see? Visit the ' +\n",
              "            '<a target=\"_blank\" href=https://colab.research.google.com/notebooks/data_table.ipynb>data table notebook</a>'\n",
              "            + ' to learn more about interactive tables.';\n",
              "          element.innerHTML = '';\n",
              "          dataTable['output_type'] = 'display_data';\n",
              "          await google.colab.output.renderOutput(dataTable, element);\n",
              "          const docLink = document.createElement('div');\n",
              "          docLink.innerHTML = docLinkHtml;\n",
              "          element.appendChild(docLink);\n",
              "        }\n",
              "      </script>\n",
              "    </div>\n",
              "  </div>\n",
              "  "
            ]
          },
          "metadata": {},
          "execution_count": 20
        }
      ]
    },
    {
      "cell_type": "markdown",
      "source": [
        "Visualizando o Dataset conseguimos entender exatamente como é realizada a transformação, observando como exemplo a feature *'gender'*, ela foi substituida pelas features *'gender_Female e gender_Male'*, onde recebe *1 ou 0* para Female ou Male.\n",
        "\n"
      ],
      "metadata": {
        "id": "JdfwhceIBtrs"
      }
    },
    {
      "cell_type": "markdown",
      "source": [
        "####Trantando Outliers\n",
        "\n",
        "Outro ponto observado foi a presença de ***Outliers*** para a variável *'TotalCharges'*, vamos verificar como podemos amenizar o seu impacto.\n",
        "Vamos ver a possibilidade de eliminar os registros que estejam muito acima da média, mas temos que ter o cuidado de não eliminar um montante considerável dos dados para que não haja perda de informação.\n",
        "\n"
      ],
      "metadata": {
        "id": "10mzKL2NaaNg"
      }
    },
    {
      "cell_type": "code",
      "source": [
        "print('Total de registros: {}\\n'.format(df_enc.shape[0]))\n",
        "\n",
        "print('\"TotalCharges\" valores acima de:\\n')\n",
        "print('Acima de 6000 - {} entradas'.format(len(df_enc[df_enc.TotalCharges > 6000])))\n",
        "print('{:.2f}% do total de entradas\\n\\n'.format((len(df_enc[df_enc.TotalCharges > 6000]) / df_enc.shape[0])*100))\n",
        "\n",
        "print('Acima de 7000 - {} entradas'.format(len(df_enc[df_enc.TotalCharges > 7000])))\n",
        "print('{:.2f}% do total de entradas\\n\\n'.format((len(df_enc[df_enc.TotalCharges > 7000]) / df_enc.shape[0])*100))\n",
        "\n",
        "print('Acima de 8000 - {} entradas'.format(len(df_enc[df_enc.TotalCharges > 8000])))\n",
        "print('{:.2f}% do total de entradas'.format((len(df_enc[df_enc.TotalCharges > 8000]) / df_enc.shape[0])*100))\n"
      ],
      "metadata": {
        "colab": {
          "base_uri": "https://localhost:8080/"
        },
        "id": "1lq23-X1kZSf",
        "outputId": "a0dd3522-779c-4426-c0a0-0b74deef7aa1"
      },
      "execution_count": 21,
      "outputs": [
        {
          "output_type": "stream",
          "name": "stdout",
          "text": [
            "Total de registros: 7032\n",
            "\n",
            "\"TotalCharges\" valores acima de:\n",
            "\n",
            "Acima de 6000 - 692 entradas\n",
            "9.84% do total de entradas\n",
            "\n",
            "\n",
            "Acima de 7000 - 327 entradas\n",
            "4.65% do total de entradas\n",
            "\n",
            "\n",
            "Acima de 8000 - 78 entradas\n",
            "1.11% do total de entradas\n"
          ]
        }
      ]
    },
    {
      "cell_type": "markdown",
      "source": [
        "Analisando os valores acima de 6000, 7000 e 8000 e quanto eles representam do nosso Dataset concluimos que:\n",
        "> Acima de 6000 representa uma parcela significativa do Dataset, se eliminarmos teremos uma perda considerável de informação. Acima de 8000 representa uma parcela muito pequena dos dados, possivelmente não teremos ganho com a eliminação apenas desses dados.\n",
        "\n",
        "Vamos considerar eliminar os dados acima de 7000, não teremos uma perda de informação significativa e iremos conseguir diminuir nossos ***Outliers***"
      ],
      "metadata": {
        "id": "0qlhdUt2kSrV"
      }
    },
    {
      "cell_type": "code",
      "source": [
        "#diminuindo outliers para \"\"TotalCharges\"\n",
        "df_enc.drop(df_enc[df_enc.TotalCharges > 7000].index, axis=0, inplace=True)\n",
        "\n",
        "print('\"TotalCharges\" valores acima de 7000:')\n",
        "print('{} entradas'.format(len(df_enc[df_enc.TotalCharges > 7000])))\n",
        "print('{:.2f}% do total de entradas\\n\\n'.format((len(df_enc[df_enc.TotalCharges > 7000]) / df_enc.shape[0])*100))"
      ],
      "metadata": {
        "colab": {
          "base_uri": "https://localhost:8080/"
        },
        "id": "0eYINj9TpU0Q",
        "outputId": "b71b9c81-36a0-42f5-f35b-3cfd81a2bd48"
      },
      "execution_count": 22,
      "outputs": [
        {
          "output_type": "stream",
          "name": "stdout",
          "text": [
            "\"TotalCharges\" valores acima de 7000:\n",
            "0 entradas\n",
            "0.00% do total de entradas\n",
            "\n",
            "\n"
          ]
        }
      ]
    },
    {
      "cell_type": "markdown",
      "source": [
        "Valores removidos vamos visualizar se houve alteração plotando os gráficos *Boxplot* de antes e depois  para a feature *'TotalCharges'*"
      ],
      "metadata": {
        "id": "ngDEpUcAg3-m"
      }
    },
    {
      "cell_type": "code",
      "source": [
        "fig, ax = plt.subplots(figsize=(15,5), dpi=72, ncols=1, nrows=3)\n",
        "\n",
        "sns.boxplot(data=df_enc.TotalCharges, ax=ax[0], orient='h', color=\"#003F5c\")\n",
        "ax[0].set_title('TotalCharges Outliers Removidos')\n",
        "\n",
        "ax[1].set_visible(False)\n",
        "\n",
        "sns.boxplot(data=df_clean.TotalCharges, ax=ax[2], orient='h', color=\"#003F5c\")\n",
        "ax[2].set_title('TotalCharges Original')\n",
        "\n",
        "plt.show()"
      ],
      "metadata": {
        "colab": {
          "base_uri": "https://localhost:8080/",
          "height": 336
        },
        "id": "9Ykza_phg4jM",
        "outputId": "b5a541db-8f7c-422a-e53a-f473c2700b89"
      },
      "execution_count": 23,
      "outputs": [
        {
          "output_type": "display_data",
          "data": {
            "text/plain": [
              "<Figure size 1080x360 with 3 Axes>"
            ],
            "image/png": "[encoded data removed]"
          },
          "metadata": {
            "needs_background": "light"
          }
        }
      ]
    },
    {
      "cell_type": "markdown",
      "source": [
        "Podemos observar na plotagem dos dois gráficos, que após a remoção dos outliers, o range de valores diminuiu e nosso bloco principal dos dados ocupa uma maior área."
      ],
      "metadata": {
        "id": "MHoFIa1KtJVo"
      }
    },
    {
      "cell_type": "markdown",
      "source": [
        "###Dividindo dados entre Treino e Teste\n",
        "\n",
        "Após a importação das bibliotecas necessárias será realizada a divisão do conjunto de dados entre Treino e Teste através do **train_test_split**. Basicamente é carregado na variável X todo o dataframe, excluindo a coluna de interesse(a ser prevista pelo modelo), no nosso caso *'Churn'*, que contém a indicação de *Chrun (1) ou Não Churn(0)*.\n",
        "\n",
        "Na variável y é carregada a coluna \"resposta\" *'Churn'*.\n",
        "\n",
        "Com isso o train_test_split divide os dados em treino e teste."
      ],
      "metadata": {
        "id": "KLxpeSXpwh3Y"
      }
    },
    {
      "cell_type": "code",
      "source": [
        "#instalação do scikit-plot no colab \n",
        "!pip install scikit-plot"
      ],
      "metadata": {
        "id": "Q_fDGirAJ7Ic"
      },
      "execution_count": null,
      "outputs": []
    },
    {
      "cell_type": "code",
      "source": [
        "#Importando pacotes necessários\n",
        "from xgboost import XGBClassifier\n",
        "from sklearn.model_selection import cross_val_score\n",
        "#from sklearn.preprocessing import LabelEncoder\n",
        "from sklearn.model_selection import train_test_split\n",
        "from sklearn.pipeline import make_pipeline\n",
        "from sklearn.metrics import classification_report\n",
        "from sklearn.metrics import confusion_matrix\n",
        "from sklearn.metrics import roc_auc_score, roc_curve, accuracy_score\n",
        "from sklearn import metrics\n",
        "from sklearn.model_selection import KFold\n",
        "from sklearn.model_selection import StratifiedKFold\n",
        "import scikitplot as skplt\n",
        "import numpy as np\n",
        "\n",
        "from imblearn.under_sampling import RandomUnderSampler\n"
      ],
      "metadata": {
        "id": "3AU9PZvwHbr3"
      },
      "execution_count": 25,
      "outputs": []
    },
    {
      "cell_type": "code",
      "source": [
        "#Separar os dados entre treino e teste\n",
        "X = df_enc.drop('Churn', axis=1)\n",
        "y = df_enc['Churn']\n",
        "\n",
        "# 3.1 Dividir o dataset entre treino e teste\n",
        "X_train, X_test, y_train, y_test = train_test_split(X, y)"
      ],
      "metadata": {
        "id": "FFCMeBoaxYa2"
      },
      "execution_count": 26,
      "outputs": []
    },
    {
      "cell_type": "markdown",
      "source": [
        "Após a divisão dos dados vamos realizar o balanceamento dos dados de *Treino*"
      ],
      "metadata": {
        "id": "YTtazvkhyRPw"
      }
    },
    {
      "cell_type": "markdown",
      "source": [
        "###Balanceamento dos Dados\n",
        "\n",
        "Anteriormente vimos que o balancemanto dos dados para a nossa variável alvo *'Churn'* era de 26,54% do total de registros. O processo de treino de um modelo de Machine Learning pode ser extremamente afetado utilizando dados desbalanceados.\n",
        "\n",
        "Vamos realizar o balanceamento dos dados através do método ***RandomUnderSampler***, que utiliza a técnica *undersampling*, mantendo todos os dados da classe minoritária(*Churn(1)*) e realizando a diminuição da classe majoritária(*Não Churn(0)*).\n",
        "\n",
        "O balanceamento deve ser aplicado nos dados de treino, não deve ser aplicado aos dados de Teste / Validação."
      ],
      "metadata": {
        "id": "G_bqD6b_ukmc"
      }
    },
    {
      "cell_type": "code",
      "source": [
        "#Balancear conjunto de dados (Técnica de balanceamento under-sampling (diminuir classe majoritária))\n",
        "rus = RandomUnderSampler()\n",
        "\n",
        "#Balanceamento dos dados\n",
        "X_rus, y_rus = rus.fit_resample(X_train, y_train)\n",
        "\n",
        "fig, ax = plt.subplots(figsize=(10,6), dpi=72)\n",
        "sns.countplot(x=y_rus, y=None, ax=ax)\n",
        "\n",
        "ax.spines['right'].set_visible(False)\n",
        "ax.spines['top'].set_visible(False)\n",
        "\n",
        "ax.set_ylabel('Ocorrências')\n",
        "\n",
        "ax.text(-0.5,1900,f'Após o balanceamento podemos perceber que temos nos dados de treino, o mesmo número de ocorrências para as duas classes', fontsize=14, color=\"#515151\", fontweight='semibold')\n",
        "\n",
        "z = pd.Series(y_rus).value_counts()\n",
        "\n",
        "ax.text(-0.5, 1600, f'Total de Ocorrências:\\n{z}', fontsize=12)\n",
        "\n",
        "plt.show()\n"
      ],
      "metadata": {
        "colab": {
          "base_uri": "https://localhost:8080/",
          "height": 510
        },
        "id": "OwFohwWyzeWm",
        "outputId": "b35432bd-e150-4b3a-8254-5e2e61177cb3"
      },
      "execution_count": 27,
      "outputs": [
        {
          "output_type": "display_data",
          "data": {
            "text/plain": [
              "<Figure size 720x432 with 1 Axes>"
            ],
            "image/png": "[encoded data removed]"
          },
          "metadata": {
            "needs_background": "light"
          }
        }
      ]
    },
    {
      "cell_type": "markdown",
      "source": [
        "##Modelo de Machine Learning\n",
        "\n",
        "Chegou a hora de submetermos nossos dados ao Modelo de Machine Learning, para isso seguimos as etapas:\n",
        "* Instânciar o modelo a ser utilizado\n",
        "> Vamos utilizar o algoritmo **XGBoost** que vem ganhando espaço e se tornando ums dos mais usados ultimamente, é uma referência em precisão e acurácia. O XGBoost é uma implementação de árvores de decisão impulsionadas por gradiente projetadas para velocidade e desempenho.\n",
        "\n",
        "\n",
        "* Passar para o modelo os dados de treino, \n",
        "> Vamos utilizar a técnica [**Cross Validation**](https://pt.wikipedia.org/wiki/Valida%C3%A7%C3%A3o_cruzada), ela nos permite realizar os ajustes dos hiperparâmetros do nosso modelo nos dados de treino, evitando realizar esses ajustes nos dados de teste, assim conseguimos previnir o [overfitting](https://pt.wikipedia.org/wiki/Sobreajuste) e verificar a capacidade de generalização do modelo. \n",
        "\n",
        "* Realizar previsões em cima dos dados de teste para analisarmos o desempenho do modelo"
      ],
      "metadata": {
        "id": "JvGUjmjv1q5j"
      }
    },
    {
      "cell_type": "markdown",
      "source": [
        "###Treinando o Modelo\n",
        "\n",
        "Submetendo os dados ao modelo **XGBoost** e realizando o treinamento através do **Cross Validation**\n",
        "\n",
        "Vamos realizar o treinamento com o conjunto de dados Balanceados e Desbalanceados, assim vamos poder analisar a diferença no resultado do treinamento entre eles."
      ],
      "metadata": {
        "id": "GpEYI7L484Md"
      }
    },
    {
      "cell_type": "code",
      "source": [
        "#Realizando o teste do modelo utilizando Cross-Validation\n",
        "\n",
        "#Atribuindo seed para manter os resultados (derivados de aleatoridade)\n",
        "np.random.seed(2)\n",
        "\n",
        "#Instanciar o modeloe escolher os Hypermarameters\n",
        "model = XGBClassifier(\n",
        "    learning_rate=0.05,\n",
        "    n_estimators=200,\n",
        "    max_depth=6,\n",
        "    subsample = 0.9,\n",
        "    colsample_bytree = 0.1,\n",
        "    gamma=1,\n",
        "    random_state=42\n",
        "    )\n",
        "\n",
        "# Cross-validation\n",
        "cv = StratifiedKFold(n_splits = 5, shuffle = True)\n",
        "\n",
        "scores_desbalanceado = cross_val_score(model, X_train, y_train, cv=cv, scoring=\"f1\" )\n",
        "scores = cross_val_score(model, X_rus, y_rus, cv=cv, scoring=\"f1\" )\n",
        "\n",
        "print(\"\\nScores Dados Desbalanceados: {}\".format(scores_desbalanceado))\n",
        "print(\"Acurácia: %0.2f | Desvio Padrão: +/- %0.2f\\n\\n\" % (scores_desbalanceado.mean(), scores_desbalanceado.std() * 2))\n",
        "\n",
        "print(\"Scores Dados Balanceados: {}\".format(scores))\n",
        "print(\"Acurácia: %0.2f | Desvio Padrão: +/- %0.2f\" % (scores.mean(), scores.std() * 2))"
      ],
      "metadata": {
        "colab": {
          "base_uri": "https://localhost:8080/"
        },
        "id": "cvdQmPlvKSps",
        "outputId": "594ed2d6-eb0a-4499-83d3-b7cee0bc9d3c"
      },
      "execution_count": 28,
      "outputs": [
        {
          "output_type": "stream",
          "name": "stdout",
          "text": [
            "\n",
            "Scores Dados Desbalanceados: [0.56475584 0.53846154 0.58024691 0.55142232 0.5814433 ]\n",
            "Acurácia: 0.56 | Desvio Padrão: +/- 0.03\n",
            "\n",
            "\n",
            "Scores Dados Balanceados: [0.77697842 0.77210884 0.78354204 0.7943761  0.76869565]\n",
            "Acurácia: 0.78 | Desvio Padrão: +/- 0.02\n"
          ]
        }
      ]
    },
    {
      "cell_type": "markdown",
      "source": [
        "Foi instanciado o modelo com alguns dos principais hiperparêmetros e sendo ajustado até chegar ao resultado demonstrado. Foi parametrizado também o **Cross Validation** para realizar o teste em 5 amostras ***n_split*** e pegar essas amostras de forma aleatoria ***shuffle***.\n",
        "\n",
        "\n",
        "Podemos observar na prática o impacto dos dados desbalanceados para o treinamento do nosso modelo, **saímos de uma Acurácia de 56% para 78%!**\n",
        "\n",
        "Durante o treino o modelo teve um desvio padrão de +/- 2% entre os 5 testes realizados."
      ],
      "metadata": {
        "id": "9JO0ppi8_Rkl"
      }
    },
    {
      "cell_type": "markdown",
      "source": [
        "###Avaliar o Desempenho do Modelo\n",
        "\n",
        "Após submetermos nossos dados de treino e ajustarmos os hiperparâmetros conseguindo bons resultados, chegou a hora de verificarmos sua performance realizando as previsões em cima dos dados de teste.\n",
        "\n",
        "Para medir o desempenho do nosso modelo utilizaremos ***Classification Report, Matriz de Confusão, Acurácia e a AUC ROC***."
      ],
      "metadata": {
        "id": "Xh7n3vvrIoAv"
      }
    },
    {
      "cell_type": "code",
      "source": [
        "# Fit do modelo\n",
        "model.fit(X_rus, y_rus)\n",
        "\n",
        "#5 Fazer previsões em cima de novos dados\n",
        "y_pred = model.predict(X_test)\n",
        "y_proba = model.predict_proba(X_test)\n",
        "\n",
        "#verificando resultados\n",
        "#Classification report\n",
        "print(classification_report(y_test, y_pred))\n",
        "\n",
        "#Acurácia\n",
        "ac = accuracy_score(y_test, y_pred)\n",
        "print(f'\\n \\nAcurácia do Modelo: {ac:.2f} \\n')\n",
        "\n",
        "#AUC\n",
        "print('AUC ROC: {:.2f}\\n'.format(roc_auc_score(y_test, y_pred)))\n",
        "\n",
        "#Matriz de confusão\n",
        "skplt.metrics.plot_confusion_matrix(y_test, y_pred, normalize=True, title='Matriz de Confusão');\n"
      ],
      "metadata": {
        "colab": {
          "base_uri": "https://localhost:8080/",
          "height": 555
        },
        "id": "g72P3YDIGuZ-",
        "outputId": "c800ce30-4c95-4925-bfdf-977e5a871d9b"
      },
      "execution_count": 29,
      "outputs": [
        {
          "output_type": "stream",
          "name": "stdout",
          "text": [
            "              precision    recall  f1-score   support\n",
            "\n",
            "           0       0.91      0.71      0.80      1192\n",
            "           1       0.54      0.82      0.65       485\n",
            "\n",
            "    accuracy                           0.75      1677\n",
            "   macro avg       0.72      0.77      0.73      1677\n",
            "weighted avg       0.80      0.75      0.76      1677\n",
            "\n",
            "\n",
            " \n",
            "Acurácia do Modelo: 0.75 \n",
            "\n",
            "AUC ROC: 0.77\n",
            "\n"
          ]
        },
        {
          "output_type": "display_data",
          "data": {
            "text/plain": [
              "<Figure size 432x288 with 2 Axes>"
            ],
            "image/png": "[encoded data removed]"
          },
          "metadata": {
            "needs_background": "light"
          }
        }
      ]
    },
    {
      "cell_type": "markdown",
      "source": [
        " ***Acurácia*** para dados desbalanceados não é uma métrica confiável, visto que sua fórmula é:  \n",
        "**nº de previsões corretas / total de previsões** \n",
        "\n",
        "\n",
        ">  Seguindo o balanceamento do nosso conjunto de dados em que tinhamos ***26,54% Churn e 73,46% Não Churn***, mesmo se o modelo não classificasse nenhum registro como *Churn*, teria uma acurácia de 73%, o que não condiz com a realidade de performance do modelo.\n",
        "\n",
        "Para verificarmos de uma maneira mais ampla sua performance, podemos analisar a coluna **Recall do Classification Report** e a **Matriz de Confusão**.\n",
        "\n",
        "Com a **Matriz de Confusão** podemos ter uma visão mais ampla da performance do nosso modelo, visualizando os erros e acertos. Vemos que dos registros que o modelo classificou como *Churn*, **obteve 82% de acerto!**. Também podemos observar que o modelo teve 29% de erro nos registros **classificados como *Não Churn***.\n",
        "\n",
        "Visto isso, para termos um panorama geral da performance das previsões do modelo, podemos analisar uma outra métrica a ***AUC ROC,*** por definição significa a *Área sobre a curva ROC*. Nâo vamos nos aprofundar, mas quem quiser entender melhor só [Clicar Aqui](https://https://bit.ly/3m2JwaQ).\n",
        "\n",
        "**AUC ROC** é uma ótima métrica para calcularmos a qualidade das previsões do modelo, que no nosso caso foi **0.77** tendo seu valor máximo em **1**. \n",
        "\n",
        "Temos também o **Recall** que vai nos fornecer a seguinte informação, de todas os *Churn* do conjunto de dados, qual percentual foi identificado corretamente pelo modelo. Nosso **Recall** foi de **0.82**(*informação similar a observada na Matriz de Confusão*).\n",
        "\n",
        "Significa que nosso modelo foi **capaz de prever 82% dos *Churn***, em conjunto com **AUC ROC** de **77%**, mostra que nosso modelo de ***XGBoost*** obteve um bom desempenho."
      ],
      "metadata": {
        "id": "HlTawRJGJdpB"
      }
    },
    {
      "cell_type": "markdown",
      "source": [
        "###Otimizando os resultados \n",
        "\n",
        "Vamos supor, que nossa verba é bem limitada para a ação de incentivo que iremos adotar para os clientes com possibilidade de cancelamento dos serviços *(Churn)*. Queremos errar o mínimo possível, ou seja, não direcionar um incentivo para um cliente que não irá cancelar o serviço. Como podemos então tentar otimizar os resultados do modelo, visto que ele teve **uma taxa de erro de 18% para as classificações como *Churn***.\n",
        "\n",
        "Podemos, no nosso conjunto de dados em que foi realizada a previsão, adicionar uma **feature com a previsão do modelo (1 = Churn, 0 = Não Churn)** e também uma **feature com a probabilidade daquela previsão**, uma informação que também é fornecida pelo nosso modelo.\n",
        "\n",
        "Ficaria da seguinte forma:\n"
      ],
      "metadata": {
        "id": "bAeAbyWdmI4l"
      }
    },
    {
      "cell_type": "code",
      "source": [
        "#Criando novas features no Dataframe\n",
        "df_final = X_test\n",
        "df_final['predict'] = y_pred  \n",
        "df_final.head()\n",
        "\n",
        "x=1\n",
        "y=0\n",
        "y_proba_ok=[]\n",
        "y_proba_list = y_proba.tolist()\n",
        "while x <= len(y_proba_list):\n",
        "  passo1=y_proba_list[y]\n",
        "  if passo1[0] > passo1[1]:\n",
        "    y_proba_ok.append(int(round(passo1[0]*100)))\n",
        "  else:\n",
        "    y_proba_ok.append(int(round(passo1[1]*100))) \n",
        "  x+=1\n",
        "  y+=1\n",
        "  \n",
        "df_final['proba'] = y_proba_ok\n",
        "df_final.head()\n",
        "\n",
        "\n"
      ],
      "metadata": {
        "id": "aU95MCqArYTN",
        "colab": {
          "base_uri": "https://localhost:8080/",
          "height": 334
        },
        "outputId": "339f98b3-4207-4bdd-bcd6-7ff23e66452c"
      },
      "execution_count": 31,
      "outputs": [
        {
          "output_type": "execute_result",
          "data": {
            "text/plain": [
              "      SeniorCitizen  tenure  MonthlyCharges  TotalCharges  gender_Female  \\\n",
              "4351              0       7           20.35        150.60              1   \n",
              "7010              1       1           74.45         74.45              1   \n",
              "2656              0      39           59.30       2209.15              1   \n",
              "3023              0      72           89.70       6339.30              0   \n",
              "2676              0      29           20.35        617.35              1   \n",
              "\n",
              "      gender_Male  Partner_No  Partner_Yes  Dependents_No  Dependents_Yes  \\\n",
              "4351            0           1            0              1               0   \n",
              "7010            0           0            1              1               0   \n",
              "2656            0           1            0              1               0   \n",
              "3023            1           0            1              0               1   \n",
              "2676            0           1            0              1               0   \n",
              "\n",
              "      ...  Contract_One year  Contract_Two year  PaperlessBilling_No  \\\n",
              "4351  ...                  0                  0                    1   \n",
              "7010  ...                  0                  0                    0   \n",
              "2656  ...                  1                  0                    1   \n",
              "3023  ...                  0                  1                    1   \n",
              "2676  ...                  1                  0                    1   \n",
              "\n",
              "      PaperlessBilling_Yes  PaymentMethod_Bank transfer (automatic)  \\\n",
              "4351                     0                                        0   \n",
              "7010                     1                                        0   \n",
              "2656                     0                                        0   \n",
              "3023                     0                                        0   \n",
              "2676                     0                                        0   \n",
              "\n",
              "      PaymentMethod_Credit card (automatic)  PaymentMethod_Electronic check  \\\n",
              "4351                                      0                               0   \n",
              "7010                                      0                               1   \n",
              "2656                                      0                               1   \n",
              "3023                                      1                               0   \n",
              "2676                                      0                               0   \n",
              "\n",
              "      PaymentMethod_Mailed check  predict  proba  \n",
              "4351                           1        0     71  \n",
              "7010                           0        1     91  \n",
              "2656                           0        0     77  \n",
              "3023                           0        0     96  \n",
              "2676                           1        0     95  \n",
              "\n",
              "[5 rows x 47 columns]"
            ],
            "text/html": [
              "\n",
              "  <div id=\"df-de13dc7a-cb8a-4d98-b803-2d7a40fdbb37\">\n",
              "    <div class=\"colab-df-container\">\n",
              "      <div>\n",
              "<style scoped>\n",
              "    .dataframe tbody tr th:only-of-type {\n",
              "        vertical-align: middle;\n",
              "    }\n",
              "\n",
              "    .dataframe tbody tr th {\n",
              "        vertical-align: top;\n",
              "    }\n",
              "\n",
              "    .dataframe thead th {\n",
              "        text-align: right;\n",
              "    }\n",
              "</style>\n",
              "<table border=\"1\" class=\"dataframe\">\n",
              "  <thead>\n",
              "    <tr style=\"text-align: right;\">\n",
              "      <th></th>\n",
              "      <th>SeniorCitizen</th>\n",
              "      <th>tenure</th>\n",
              "      <th>MonthlyCharges</th>\n",
              "      <th>TotalCharges</th>\n",
              "      <th>gender_Female</th>\n",
              "      <th>gender_Male</th>\n",
              "      <th>Partner_No</th>\n",
              "      <th>Partner_Yes</th>\n",
              "      <th>Dependents_No</th>\n",
              "      <th>Dependents_Yes</th>\n",
              "      <th>...</th>\n",
              "      <th>Contract_One year</th>\n",
              "      <th>Contract_Two year</th>\n",
              "      <th>PaperlessBilling_No</th>\n",
              "      <th>PaperlessBilling_Yes</th>\n",
              "      <th>PaymentMethod_Bank transfer (automatic)</th>\n",
              "      <th>PaymentMethod_Credit card (automatic)</th>\n",
              "      <th>PaymentMethod_Electronic check</th>\n",
              "      <th>PaymentMethod_Mailed check</th>\n",
              "      <th>predict</th>\n",
              "      <th>proba</th>\n",
              "    </tr>\n",
              "  </thead>\n",
              "  <tbody>\n",
              "    <tr>\n",
              "      <th>4351</th>\n",
              "      <td>0</td>\n",
              "      <td>7</td>\n",
              "      <td>20.35</td>\n",
              "      <td>150.60</td>\n",
              "      <td>1</td>\n",
              "      <td>0</td>\n",
              "      <td>1</td>\n",
              "      <td>0</td>\n",
              "      <td>1</td>\n",
              "      <td>0</td>\n",
              "      <td>...</td>\n",
              "      <td>0</td>\n",
              "      <td>0</td>\n",
              "      <td>1</td>\n",
              "      <td>0</td>\n",
              "      <td>0</td>\n",
              "      <td>0</td>\n",
              "      <td>0</td>\n",
              "      <td>1</td>\n",
              "      <td>0</td>\n",
              "      <td>71</td>\n",
              "    </tr>\n",
              "    <tr>\n",
              "      <th>7010</th>\n",
              "      <td>1</td>\n",
              "      <td>1</td>\n",
              "      <td>74.45</td>\n",
              "      <td>74.45</td>\n",
              "      <td>1</td>\n",
              "      <td>0</td>\n",
              "      <td>0</td>\n",
              "      <td>1</td>\n",
              "      <td>1</td>\n",
              "      <td>0</td>\n",
              "      <td>...</td>\n",
              "      <td>0</td>\n",
              "      <td>0</td>\n",
              "      <td>0</td>\n",
              "      <td>1</td>\n",
              "      <td>0</td>\n",
              "      <td>0</td>\n",
              "      <td>1</td>\n",
              "      <td>0</td>\n",
              "      <td>1</td>\n",
              "      <td>91</td>\n",
              "    </tr>\n",
              "    <tr>\n",
              "      <th>2656</th>\n",
              "      <td>0</td>\n",
              "      <td>39</td>\n",
              "      <td>59.30</td>\n",
              "      <td>2209.15</td>\n",
              "      <td>1</td>\n",
              "      <td>0</td>\n",
              "      <td>1</td>\n",
              "      <td>0</td>\n",
              "      <td>1</td>\n",
              "      <td>0</td>\n",
              "      <td>...</td>\n",
              "      <td>1</td>\n",
              "      <td>0</td>\n",
              "      <td>1</td>\n",
              "      <td>0</td>\n",
              "      <td>0</td>\n",
              "      <td>0</td>\n",
              "      <td>1</td>\n",
              "      <td>0</td>\n",
              "      <td>0</td>\n",
              "      <td>77</td>\n",
              "    </tr>\n",
              "    <tr>\n",
              "      <th>3023</th>\n",
              "      <td>0</td>\n",
              "      <td>72</td>\n",
              "      <td>89.70</td>\n",
              "      <td>6339.30</td>\n",
              "      <td>0</td>\n",
              "      <td>1</td>\n",
              "      <td>0</td>\n",
              "      <td>1</td>\n",
              "      <td>0</td>\n",
              "      <td>1</td>\n",
              "      <td>...</td>\n",
              "      <td>0</td>\n",
              "      <td>1</td>\n",
              "      <td>1</td>\n",
              "      <td>0</td>\n",
              "      <td>0</td>\n",
              "      <td>1</td>\n",
              "      <td>0</td>\n",
              "      <td>0</td>\n",
              "      <td>0</td>\n",
              "      <td>96</td>\n",
              "    </tr>\n",
              "    <tr>\n",
              "      <th>2676</th>\n",
              "      <td>0</td>\n",
              "      <td>29</td>\n",
              "      <td>20.35</td>\n",
              "      <td>617.35</td>\n",
              "      <td>1</td>\n",
              "      <td>0</td>\n",
              "      <td>1</td>\n",
              "      <td>0</td>\n",
              "      <td>1</td>\n",
              "      <td>0</td>\n",
              "      <td>...</td>\n",
              "      <td>1</td>\n",
              "      <td>0</td>\n",
              "      <td>1</td>\n",
              "      <td>0</td>\n",
              "      <td>0</td>\n",
              "      <td>0</td>\n",
              "      <td>0</td>\n",
              "      <td>1</td>\n",
              "      <td>0</td>\n",
              "      <td>95</td>\n",
              "    </tr>\n",
              "  </tbody>\n",
              "</table>\n",
              "<p>5 rows × 47 columns</p>\n",
              "</div>\n",
              "      <button class=\"colab-df-convert\" onclick=\"convertToInteractive('df-de13dc7a-cb8a-4d98-b803-2d7a40fdbb37')\"\n",
              "              title=\"Convert this dataframe to an interactive table.\"\n",
              "              style=\"display:none;\">\n",
              "        \n",
              "  <svg xmlns=\"http://www.w3.org/2000/svg\" height=\"24px\"viewBox=\"0 0 24 24\"\n",
              "       width=\"24px\">\n",
              "    <path d=\"M0 0h24v24H0V0z\" fill=\"none\"/>\n",
              "    <path d=\"M18.56 5.44l.94 2.06.94-2.06 2.06-.94-2.06-.94-.94-2.06-.94 2.06-2.06.94zm-11 1L8.5 8.5l.94-2.06 2.06-.94-2.06-.94L8.5 2.5l-.94 2.06-2.06.94zm10 10l.94 2.06.94-2.06 2.06-.94-2.06-.94-.94-2.06-.94 2.06-2.06.94z\"/><path d=\"M17.41 7.96l-1.37-1.37c-.4-.4-.92-.59-1.43-.59-.52 0-1.04.2-1.43.59L10.3 9.45l-7.72 7.72c-.78.78-.78 2.05 0 2.83L4 21.41c.39.39.9.59 1.41.59.51 0 1.02-.2 1.41-.59l7.78-7.78 2.81-2.81c.8-.78.8-2.07 0-2.86zM5.41 20L4 18.59l7.72-7.72 1.47 1.35L5.41 20z\"/>\n",
              "  </svg>\n",
              "      </button>\n",
              "      \n",
              "  <style>\n",
              "    .colab-df-container {\n",
              "      display:flex;\n",
              "      flex-wrap:wrap;\n",
              "      gap: 12px;\n",
              "    }\n",
              "\n",
              "    .colab-df-convert {\n",
              "      background-color: #E8F0FE;\n",
              "      border: none;\n",
              "      border-radius: 50%;\n",
              "      cursor: pointer;\n",
              "      display: none;\n",
              "      fill: #1967D2;\n",
              "      height: 32px;\n",
              "      padding: 0 0 0 0;\n",
              "      width: 32px;\n",
              "    }\n",
              "\n",
              "    .colab-df-convert:hover {\n",
              "      background-color: #E2EBFA;\n",
              "      box-shadow: 0px 1px 2px rgba(60, 64, 67, 0.3), 0px 1px 3px 1px rgba(60, 64, 67, 0.15);\n",
              "      fill: #174EA6;\n",
              "    }\n",
              "\n",
              "    [theme=dark] .colab-df-convert {\n",
              "      background-color: #3B4455;\n",
              "      fill: #D2E3FC;\n",
              "    }\n",
              "\n",
              "    [theme=dark] .colab-df-convert:hover {\n",
              "      background-color: #434B5C;\n",
              "      box-shadow: 0px 1px 3px 1px rgba(0, 0, 0, 0.15);\n",
              "      filter: drop-shadow(0px 1px 2px rgba(0, 0, 0, 0.3));\n",
              "      fill: #FFFFFF;\n",
              "    }\n",
              "  </style>\n",
              "\n",
              "      <script>\n",
              "        const buttonEl =\n",
              "          document.querySelector('#df-de13dc7a-cb8a-4d98-b803-2d7a40fdbb37 button.colab-df-convert');\n",
              "        buttonEl.style.display =\n",
              "          google.colab.kernel.accessAllowed ? 'block' : 'none';\n",
              "\n",
              "        async function convertToInteractive(key) {\n",
              "          const element = document.querySelector('#df-de13dc7a-cb8a-4d98-b803-2d7a40fdbb37');\n",
              "          const dataTable =\n",
              "            await google.colab.kernel.invokeFunction('convertToInteractive',\n",
              "                                                     [key], {});\n",
              "          if (!dataTable) return;\n",
              "\n",
              "          const docLinkHtml = 'Like what you see? Visit the ' +\n",
              "            '<a target=\"_blank\" href=https://colab.research.google.com/notebooks/data_table.ipynb>data table notebook</a>'\n",
              "            + ' to learn more about interactive tables.';\n",
              "          element.innerHTML = '';\n",
              "          dataTable['output_type'] = 'display_data';\n",
              "          await google.colab.output.renderOutput(dataTable, element);\n",
              "          const docLink = document.createElement('div');\n",
              "          docLink.innerHTML = docLinkHtml;\n",
              "          element.appendChild(docLink);\n",
              "        }\n",
              "      </script>\n",
              "    </div>\n",
              "  </div>\n",
              "  "
            ]
          },
          "metadata": {},
          "execution_count": 31
        }
      ]
    },
    {
      "cell_type": "markdown",
      "source": [
        "As features foram adicionadas ao final do Dataset, adicionamos a ***feature 'predict'*** para a previsão do modelo, e a ***feature 'proba'*** para a probabilidade da previsão.\n",
        "\n",
        "Assim a equipe de marketing poderia por exemplo, direcionar o incentivo para os registros previstos como ***Churn (predict = 1)*** e com probabilidade maior que 70% ***(proba > 70)***. \n",
        "\n",
        "Dessa forma poderíamos otimizar nossas previsões, direcionando o incentivo apenas para os registros com maior probabilidade de Churn.  "
      ],
      "metadata": {
        "id": "eR8kEviMot_a"
      }
    },
    {
      "cell_type": "code",
      "source": [
        "print('Total Previsto Churn: {}\\n'.format(len(df_final[df_final.predict == 1])))\n",
        "print('Total Previsto como Churn com probabilidade maior que 70%: {}\\n'.format(len(df_final[(df_final.proba > 70) & (df_final.predict == 1)])))\n",
        "\n"
      ],
      "metadata": {
        "colab": {
          "base_uri": "https://localhost:8080/"
        },
        "id": "IoOp8uJtxkUL",
        "outputId": "2765c1e2-6dff-48d6-b662-1571a98ee2f6"
      },
      "execution_count": 33,
      "outputs": [
        {
          "output_type": "stream",
          "name": "stdout",
          "text": [
            "Total Previsto Churn: 738\n",
            "\n",
            "Total Previsto como Churn com probabilidade maior que 70%: 407\n",
            "\n"
          ]
        }
      ]
    },
    {
      "cell_type": "markdown",
      "source": [
        "Em nosso conjunto temos 738 registros previstos como Churn, dos quais 407 tem uma probabilidade maior que 70%, esse seria nosso alvo para o direcionamento do incentivo.\n",
        "\n",
        "\n",
        "\n"
      ],
      "metadata": {
        "id": "InRonejvqQwL"
      }
    },
    {
      "cell_type": "markdown",
      "source": [
        "##Conclusão\n",
        "\n",
        "Nesse projeto foi possível aplicar um bom nível de complexidade na construção do nosso modelo de **Machine Learning**, trabalhando com *Valores Ausentes, Outliers, Transformação do tipo das features, Feature Enginner, Balanceamento de Dados, Transformação de Variáveis Categóricas e Cross Validation*.\n",
        "\n",
        "Utilizamos um modelo de Machine Learning baseado em Árvores de Decisão, o algoritmo **XGBoost**, que vem se destacando atualmente sendo um dos mais utilizados em competições do [Kaggle](https://www.kaggle.com/). Um algoritmo que possui diversos hiperparâmetros, o tornando extremamente versátil e eficiente.\n",
        "\n",
        "Com base nas métricas avaliadas, podemos concluir que o nosso modelo  obteve um bom resultado, conseguindo prever **82%** do *Churn* e uma qualidade em suas previões de **77%** (*AUC ROC*).\n",
        "\n",
        "Vamos analisar de uma outra perspectiva para o negócio:\n",
        "\n",
        ">***Conquistar um novo cliente custa 5 a 7 vezes mais do que manter um atual*** *([Philip Kotler](https://pt.wikipedia.org/wiki/Philip_Kotler))*\n",
        "\n",
        "Seguindo essa afirmação, considerando a taxa **AUC ROC que foi de 77%** em nossas previsões, de modo conservador poderíamos ter uma economia na casa de **80%** ao empregarmos o nosso modelo, ao invés de simplesmente permitirmos que o cliente cancelasse o serviço e investíssemos na aquisição de um novo cliente.\n",
        "\n",
        ">Por exemplo, com base em 100 clientes classificados como Churn, supondo nosso CAC como 10,00 e nosso custo de incentivo como 2,00 (5 vezes menos), se conseguíssemos prever 77 desses clientes e aplicássemos o incentivo evitando o Churn, para manter o cliente seriam gastos 154,00, frente 770 para adquirir 77 novos clientes.\n",
        "\n",
        "Lógico que é tudo somente uma suposição, feita em um mundo ideal, onde todos os clientes que foram expostos ao incentivo não cancelaram e demais variáves que fogem ao nosso controle, mas serve para demonstrar **o poder que a Ciência de Dados pode exercer se aplicada ao cotidiano dos negócios**.\n",
        "\n",
        "\n",
        "*Sugestões, Dúvidas e Feedbacks sempre são bem vindos...*\n",
        "\n",
        "\n",
        "\n",
        "---\n",
        "\n",
        "\n",
        "\n"
      ],
      "metadata": {
        "id": "T1oZU75gqwVa"
      }
    },
    {
      "cell_type": "markdown",
      "source": [
        "## **Paulo Roberto da Silva**\n",
        "*IT Infrastructure Analyst | IT Support Analyst | Junior Python Developer | Junior Data Scientist*\n",
        "\n",
        "[Github](https://github.com/paulors82)\n",
        "\n",
        "[Medium](https://medium.com/@paulors82)\n",
        "\n",
        "[Linkedin](https://www.linkedin.com/in/paulors82/)"
      ],
      "metadata": {
        "id": "2kS4sNwnrEND"
      }
    }
  ]
}